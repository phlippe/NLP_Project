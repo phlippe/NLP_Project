{
 "cells": [
  {
   "cell_type": "markdown",
   "metadata": {
    "colab_type": "text",
    "id": "jILqpPLlE9r0"
   },
   "source": [
    "# Practical 2: Encoding Sentences with Neural Models"
   ]
  },
  {
   "cell_type": "markdown",
   "metadata": {
    "colab_type": "text",
    "id": "8JXOZ5uhQ8Qq"
   },
   "source": [
    "In this practical we will train neural models to encode sentences, after which we can use our sentence representation for a downstream task such as sentiment classification. Rather than simply answering questions, like in the previous lab, **this time you are expected to write a four-page scientific report with your findings**. You will be judged by the quality of your report (see below). In this notebook, we will help you to develop models for your experiments. You do not have to hand in your answers, but please do include a link to a private Github gist with your code in your report as a footnote. \n",
    "\n",
    "### Data set\n",
    "We will make use of the [Stanford Sentiment Treebank](https://nlp.stanford.edu/sentiment/) (SST), which provides sentences, their tree structure, and (fine-grained) sentiment scores.\n",
    "This dataset is different from the one we used in the first practical. \n",
    "Before, a review consisted of several sentences, and we would have one sentiment score for it. Now, a review is a single sentence, for which we get a sentiment score. The special thing about our new data set is that we get a binary parse tree for each sentence, and a sentiment score has been assigned to each node in the tree. (We will look at an example below.)\n",
    "\n",
    "For the first part of this practical we will only make use of the tokens, but in the end we will also exploit the tree-structure that is provided!\n",
    "\n",
    "We will cover the following approaches:\n",
    "\n",
    "- Bag-of-words (BOW)\n",
    "- Continuous bag-of-words (CBOW)\n",
    "- Deep continuous bag-of-words (Deep CBOW)\n",
    "- LSTM\n",
    "- TreeLSTM\n"
   ]
  },
  {
   "cell_type": "markdown",
   "metadata": {
    "colab_type": "text",
    "id": "bSmmXQoC8ebA"
   },
   "source": [
    "### Important: Report \n",
    "\n",
    "The main purpose of this lab is for you to learn how to answer research questions by experimenting and then writing a scientific report.\n",
    "Your grade will be based on the quality of your report, not on the exercises in this notebook.\n",
    "You can find the requirements for the report at the end of this notebook."
   ]
  },
  {
   "cell_type": "markdown",
   "metadata": {
    "colab_type": "text",
    "id": "YbNKef3lymaj"
   },
   "source": [
    "## Preparing the data"
   ]
  },
  {
   "cell_type": "markdown",
   "metadata": {
    "colab_type": "text",
    "id": "9jxTkpg59FlU"
   },
   "source": [
    "Let's first download the data set and take a look."
   ]
  },
  {
   "cell_type": "code",
   "execution_count": 1,
   "metadata": {
    "colab": {},
    "colab_type": "code",
    "id": "WZp53HmMP3F2"
   },
   "outputs": [],
   "source": [
    "import re\n",
    "import random\n",
    "import time\n",
    "import math\n",
    "import numpy as np\n",
    "import nltk\n",
    "import os\n",
    "import matplotlib.pyplot as plt\n",
    "plt.style.use('default')\n",
    "\n",
    "CHECKPOINT_DIR = \"checkpoints/\"\n",
    "    \n",
    "TRAIN_ALL_MODELS = False\n",
    "\n",
    "USE_SMALLER_DATASET_SIZE = False\n",
    "DATASET_DIVISION_FACTOR = 2\n",
    "\n",
    "if USE_SMALLER_DATASET_SIZE:\n",
    "    CHECKPOINT_DIR += \"small_dataset_\"+str(DATASET_DIVISION_FACTOR)+\"/\"\n",
    "    \n",
    "if not os.path.exists(CHECKPOINT_DIR):\n",
    "    os.makedirs(CHECKPOINT_DIR)"
   ]
  },
  {
   "cell_type": "code",
   "execution_count": 2,
   "metadata": {
    "colab": {},
    "colab_type": "code",
    "id": "TovFkDTgE_d6"
   },
   "outputs": [],
   "source": [
    "# !wget http://nlp.stanford.edu/sentiment/trainDevTestTrees_PTB.zip\n",
    "# !unzip trainDevTestTrees_PTB.zip"
   ]
  },
  {
   "cell_type": "code",
   "execution_count": 3,
   "metadata": {
    "colab": {},
    "colab_type": "code",
    "id": "0IpAphkBO5eW"
   },
   "outputs": [],
   "source": [
    "# this function reads in a textfile and fixes an issue with \\\\\n",
    "def filereader(path): \n",
    "  with open(path, mode=\"r\", encoding=\"utf-8\") as f:\n",
    "    for line in f:\n",
    "      yield line.strip().replace(\"\\\\\",\"\")"
   ]
  },
  {
   "cell_type": "code",
   "execution_count": 4,
   "metadata": {
    "colab": {},
    "colab_type": "code",
    "id": "ylkIopm0QJML"
   },
   "outputs": [
    {
     "name": "stdout",
     "output_type": "stream",
     "text": [
      "(3 (2 It) (4 (4 (2 's) (4 (3 (2 a) (4 (3 lovely) (2 film))) (3 (2 with) (4 (3 (3 lovely) (2 performances)) (2 (2 by) (2 (2 (2 Buy) (2 and)) (2 Accorsi))))))) (2 .)))\n"
     ]
    }
   ],
   "source": [
    "# Let's look at a data point.\n",
    "# If you look closely you will find that this is a flattened tree, \n",
    "# with sentiment scores at every node, and words as the leaves.\n",
    "s = next(filereader(\"trees/dev.txt\"))\n",
    "print(s)"
   ]
  },
  {
   "cell_type": "code",
   "execution_count": 5,
   "metadata": {
    "colab": {},
    "colab_type": "code",
    "id": "7_U7HTFwdrWt"
   },
   "outputs": [
    {
     "name": "stdout",
     "output_type": "stream",
     "text": [
      "              3                                                                     \n",
      "  ____________|____________________                                                  \n",
      " |                                 4                                                \n",
      " |        _________________________|______________________________________________   \n",
      " |       4                                                                        | \n",
      " |    ___|______________                                                          |  \n",
      " |   |                  4                                                         | \n",
      " |   |         _________|__________                                               |  \n",
      " |   |        |                    3                                              | \n",
      " |   |        |               _____|______________________                        |  \n",
      " |   |        |              |                            4                       | \n",
      " |   |        |              |            ________________|_______                |  \n",
      " |   |        |              |           |                        2               | \n",
      " |   |        |              |           |                 _______|___            |  \n",
      " |   |        3              |           |                |           2           | \n",
      " |   |    ____|_____         |           |                |        ___|_____      |  \n",
      " |   |   |          4        |           3                |       2         |     | \n",
      " |   |   |     _____|___     |      _____|_______         |    ___|___      |     |  \n",
      " 2   2   2    3         2    2     3             2        2   2       2     2     2 \n",
      " |   |   |    |         |    |     |             |        |   |       |     |     |  \n",
      " It  's  a  lovely     film with lovely     performances  by Buy     and Accorsi  . \n",
      "\n"
     ]
    }
   ],
   "source": [
    "# We can use NLTK to print the tree structure more nicely\n",
    "from nltk import Tree\n",
    "from nltk.treeprettyprinter import TreePrettyPrinter\n",
    "tree = Tree.fromstring(s)\n",
    "print(TreePrettyPrinter(tree))"
   ]
  },
  {
   "cell_type": "markdown",
   "metadata": {
    "colab_type": "text",
    "id": "ekAWKsji9t93"
   },
   "source": [
    "You can see the sentiment annotations here **at every node**! 0 is very negative, 4 is very positive. For now, we will only use the sentiment score at the **root node**; this is the score for the complete sentence."
   ]
  },
  {
   "cell_type": "code",
   "execution_count": 6,
   "metadata": {
    "colab": {},
    "colab_type": "code",
    "id": "DKynLm0xPKr2"
   },
   "outputs": [
    {
     "name": "stdout",
     "output_type": "stream",
     "text": [
      "['It', \"'s\", 'a', 'lovely', 'film', 'with', 'lovely', 'performances', 'by', 'Buy', 'and', 'Accorsi', '.']\n",
      "13\n"
     ]
    }
   ],
   "source": [
    "# Let's first make a function that extracts the tokens (the leaves).\n",
    "\n",
    "def tokens_from_treestring(s):\n",
    "  \"\"\"extract the tokens from a sentiment tree\"\"\"\n",
    "  return re.sub(r\"\\([0-9] |\\)\", \"\", s).split()\n",
    " \n",
    "# let's try it on our example tree\n",
    "tokens = tokens_from_treestring(s)\n",
    "print(tokens)\n",
    "print(len(tokens))"
   ]
  },
  {
   "cell_type": "markdown",
   "metadata": {
    "colab_type": "text",
    "id": "B8vFkeqN-NLP"
   },
   "source": [
    "> *Warning: you could also parse a treestring using NLTK and ask it to return the leaves, but there seems to be an issue with NLTK not always correctly parsing the input, so do not rely on it.*"
   ]
  },
  {
   "cell_type": "code",
   "execution_count": 7,
   "metadata": {
    "colab": {},
    "colab_type": "code",
    "id": "Akr9K_Mv4dym"
   },
   "outputs": [],
   "source": [
    "# We will also need the following function, but you can ignore this for now.\n",
    "# It is explained later on.\n",
    "\n",
    "SHIFT = 0\n",
    "REDUCE = 1\n",
    "\n",
    "\n",
    "def transitions_from_treestring(s):\n",
    "  s = re.sub(\"\\([0-5] ([^)]+)\\)\", \"0\", s)\n",
    "  s = re.sub(\"\\)\", \" )\", s)\n",
    "  s = re.sub(\"\\([0-4] \", \"\", s)\n",
    "  s = re.sub(\"\\([0-4] \", \"\", s)\n",
    "  s = re.sub(\"\\)\", \"1\", s)\n",
    "  return list(map(int, s.split()))"
   ]
  },
  {
   "cell_type": "code",
   "execution_count": 8,
   "metadata": {
    "colab": {},
    "colab_type": "code",
    "id": "mNtPdlwPgRat"
   },
   "outputs": [
    {
     "name": "stdout",
     "output_type": "stream",
     "text": [
      "trees/train.txt  8544\n",
      "trees/dev.txt    1101\n",
      "trees/test.txt   2210\n"
     ]
    }
   ],
   "source": [
    "# Now let's first see how large our data sets are.\n",
    "for path in (\"trees/train.txt\", \"trees/dev.txt\", \"trees/test.txt\"):\n",
    "  print(\"{:16s} {:4d}\".format(path, sum(1 for _ in filereader(path))))"
   ]
  },
  {
   "cell_type": "markdown",
   "metadata": {
    "colab_type": "text",
    "id": "HexlSqTR_UrY"
   },
   "source": [
    "You can see that this data set is not very large! That's probably because it required so much manual annotation. However, it's large enough to train a neural network on.\n",
    "\n",
    "It will be useful to store each data example in an `Example` object,\n",
    "containing everything that we may need for each data point.\n",
    "It will contain the tokens, the tree, the top-level sentiment label, and \n",
    "the transitions (explained later)."
   ]
  },
  {
   "cell_type": "code",
   "execution_count": 9,
   "metadata": {
    "colab": {},
    "colab_type": "code",
    "id": "4I07Hb_-q8wg"
   },
   "outputs": [
    {
     "name": "stdout",
     "output_type": "stream",
     "text": [
      "train 8544\n",
      "dev 1101\n",
      "test 2210\n"
     ]
    }
   ],
   "source": [
    "from collections import namedtuple\n",
    "from nltk import Tree\n",
    "\n",
    "# A simple way to define a class is using namedtuple.\n",
    "Example = namedtuple(\"Example\", [\"tokens\", \"tree\", \"label\", \"transitions\"])\n",
    "\n",
    "   \n",
    "def examplereader(path, lower=False):\n",
    "  \"\"\"Returns all examples in a file one by one.\"\"\"\n",
    "  for line in filereader(path):\n",
    "    line = line.lower() if lower else line\n",
    "    tokens = tokens_from_treestring(line)\n",
    "    tree = Tree.fromstring(line)  # use NLTK's Tree\n",
    "    label = int(line[1])\n",
    "    trans = transitions_from_treestring(line)\n",
    "    yield Example(tokens=tokens, tree=tree, label=label, transitions=trans)\n",
    "  \n",
    "\n",
    "# Let's load the data into memory.\n",
    "LOWER = False  # we will keep the original casing\n",
    "train_data = list(examplereader(\"trees/train.txt\", lower=LOWER))\n",
    "dev_data = list(examplereader(\"trees/dev.txt\", lower=LOWER))\n",
    "test_data = list(examplereader(\"trees/test.txt\", lower=LOWER))\n",
    "\n",
    "print(\"train\", len(train_data))\n",
    "print(\"dev\", len(dev_data))\n",
    "print(\"test\", len(test_data))"
   ]
  },
  {
   "cell_type": "markdown",
   "metadata": {
    "colab_type": "text",
    "id": "6KM0bDyeVZtP"
   },
   "source": [
    "Let's check out an example object."
   ]
  },
  {
   "cell_type": "code",
   "execution_count": 10,
   "metadata": {
    "colab": {},
    "colab_type": "code",
    "id": "J8mwcaZwxP1c"
   },
   "outputs": [
    {
     "name": "stdout",
     "output_type": "stream",
     "text": [
      "First train example: Example(tokens=['It', \"'s\", 'a', 'lovely', 'film', 'with', 'lovely', 'performances', 'by', 'Buy', 'and', 'Accorsi', '.'], tree=Tree('3', [Tree('2', ['It']), Tree('4', [Tree('4', [Tree('2', [\"'s\"]), Tree('4', [Tree('3', [Tree('2', ['a']), Tree('4', [Tree('3', ['lovely']), Tree('2', ['film'])])]), Tree('3', [Tree('2', ['with']), Tree('4', [Tree('3', [Tree('3', ['lovely']), Tree('2', ['performances'])]), Tree('2', [Tree('2', ['by']), Tree('2', [Tree('2', [Tree('2', ['Buy']), Tree('2', ['and'])]), Tree('2', ['Accorsi'])])])])])])]), Tree('2', ['.'])])]), label=3, transitions=[0, 0, 0, 0, 0, 1, 1, 0, 0, 0, 1, 0, 0, 0, 1, 0, 1, 1, 1, 1, 1, 1, 0, 1, 1])\n",
      "First train example tokens: ['It', \"'s\", 'a', 'lovely', 'film', 'with', 'lovely', 'performances', 'by', 'Buy', 'and', 'Accorsi', '.']\n",
      "First train example label: 3\n"
     ]
    }
   ],
   "source": [
    "example = dev_data[0]\n",
    "print(\"First train example:\", example)\n",
    "print(\"First train example tokens:\", example.tokens)\n",
    "print(\"First train example label:\",  example.label)"
   ]
  },
  {
   "cell_type": "markdown",
   "metadata": {
    "colab_type": "text",
    "id": "-WDSprDBVcr-"
   },
   "source": [
    "#### Vocabulary \n",
    "To work with this data we will need a vocabulary.\n",
    "The job of the vocabulary is to map each word to a unique ID.\n"
   ]
  },
  {
   "cell_type": "code",
   "execution_count": 11,
   "metadata": {
    "colab": {},
    "colab_type": "code",
    "id": "VvNgKx7usRSt"
   },
   "outputs": [],
   "source": [
    "# Here we first define a class that can map a word to an ID (w2i)\n",
    "# and back (i2w).\n",
    "\n",
    "from collections import Counter, OrderedDict, defaultdict\n",
    "\n",
    "\n",
    "class OrderedCounter(Counter, OrderedDict):\n",
    "  \"\"\"Counter that remembers the order elements are first seen\"\"\"\n",
    "  def __repr__(self):\n",
    "    return '%s(%r)' % (self.__class__.__name__,\n",
    "                      OrderedDict(self))\n",
    "  def __reduce__(self):\n",
    "    return self.__class__, (OrderedDict(self),)\n",
    "\n",
    "\n",
    "class Vocabulary:\n",
    "  \"\"\"A vocabulary, assigns IDs to tokens\"\"\"\n",
    "  \n",
    "  def __init__(self):\n",
    "    self.freqs = OrderedCounter()\n",
    "    self.w2i = {}\n",
    "    self.i2w = []\n",
    "\n",
    "  def count_token(self, t):\n",
    "    self.freqs[t] += 1\n",
    "    \n",
    "  def add_token(self, t):\n",
    "    self.w2i[t] = len(self.w2i)\n",
    "    self.i2w.append(t)    \n",
    "    \n",
    "  def build(self, min_freq=0):\n",
    "    self.add_token(\"<unk>\")  # reserve 0 for <unk> (unknown words)\n",
    "    self.add_token(\"<pad>\")  # reserve 1 for <pad> (discussed later)   \n",
    "    \n",
    "    tok_freq = list(self.freqs.items())\n",
    "    tok_freq.sort(key=lambda x: x[1], reverse=True)\n",
    "    for tok, freq in tok_freq:\n",
    "      if freq >= min_freq:\n",
    "        self.add_token(tok)"
   ]
  },
  {
   "cell_type": "markdown",
   "metadata": {
    "colab_type": "text",
    "id": "kOvkH_llVsoW"
   },
   "source": [
    "Let's build the token vocabulary!\n",
    "\n",
    "When randomly initializing word vectors, we take the words in our training\n",
    "set and assign them unique IDs, and assign all other words to <unk>, \n",
    "because those we cannot learn a vector for based on our training data.\n"
   ]
  },
  {
   "cell_type": "code",
   "execution_count": 12,
   "metadata": {
    "colab": {},
    "colab_type": "code",
    "id": "GwGQgQQBNUSq"
   },
   "outputs": [
    {
     "name": "stdout",
     "output_type": "stream",
     "text": [
      "Vocabulary size: 18280\n"
     ]
    }
   ],
   "source": [
    "# This process should be deterministic and should have the same result \n",
    "# if run multiple times on the same data set.\n",
    "\n",
    "v = Vocabulary()\n",
    "for data_set in (train_data,):\n",
    "  for ex in data_set:\n",
    "    for token in ex.tokens:\n",
    "      v.count_token(token)\n",
    "\n",
    "v.build()\n",
    "print(\"Vocabulary size:\", len(v.w2i))"
   ]
  },
  {
   "cell_type": "markdown",
   "metadata": {
    "colab_type": "text",
    "id": "-UNIedPrPdCw"
   },
   "source": [
    "Let's have a closer look at the properties of our vocabulary. Having a good idea of what it is like can facilitate data analysis and debugging later on."
   ]
  },
  {
   "cell_type": "code",
   "execution_count": 13,
   "metadata": {
    "colab": {},
    "colab_type": "code",
    "id": "oJyuogmh0CA7"
   },
   "outputs": [
    {
     "name": "stdout",
     "output_type": "stream",
     "text": [
      "1973\n"
     ]
    }
   ],
   "source": [
    "# What is the ID for \"century?\"\n",
    "print(v.w2i[\"century\"])"
   ]
  },
  {
   "cell_type": "code",
   "execution_count": 14,
   "metadata": {
    "colab": {},
    "colab_type": "code",
    "id": "O8OkPQ8Zv-rI"
   },
   "outputs": [
    {
     "name": "stdout",
     "output_type": "stream",
     "text": [
      "Word 0: <unk>\n",
      "Word 1: <pad>\n",
      "Word 2: .\n",
      "Word 3: ,\n",
      "Word 4: the\n",
      "Word 5: and\n",
      "Word 6: a\n",
      "Word 7: of\n",
      "Word 8: to\n",
      "Word 9: 's\n"
     ]
    }
   ],
   "source": [
    "# What are the first 10 words in the vocabulary?\n",
    "for i in range(10):\n",
    "    print(\"Word \" + str(i) + \": \" + v.i2w[i])"
   ]
  },
  {
   "cell_type": "code",
   "execution_count": 15,
   "metadata": {
    "colab": {},
    "colab_type": "code",
    "id": "kmXwu02lOLWI"
   },
   "outputs": [
    {
     "name": "stdout",
     "output_type": "stream",
     "text": [
      "Frequency top  1 (8024): .\n",
      "Frequency top  2 (7131): ,\n",
      "Frequency top  3 (6037): the\n",
      "Frequency top  4 (4431): and\n",
      "Frequency top  5 (4403): a\n",
      "Frequency top  6 (4386): of\n",
      "Frequency top  7 (2995): to\n",
      "Frequency top  8 (2544): 's\n",
      "Frequency top  9 (2536): is\n",
      "Frequency top 10 (1915): that\n"
     ]
    }
   ],
   "source": [
    "# What are the 10 most common words?\n",
    "common_indices_list = sorted([(i, v.freqs[v.i2w[i]]) for i in range(len(v.freqs))], key=lambda x: -x[1])\n",
    "for i in range(10):\n",
    "    print(\"Frequency top \" + str(i+1).rjust(2) + \" (\" + str(common_indices_list[i][1]) + \"): \" + v.i2w[common_indices_list[i][0]])"
   ]
  },
  {
   "cell_type": "code",
   "execution_count": 16,
   "metadata": {
    "colab": {},
    "colab_type": "code",
    "id": "__NDPaCeOT_m"
   },
   "outputs": [
    {
     "name": "stdout",
     "output_type": "stream",
     "text": [
      "Words with frequency 1: 9541\n"
     ]
    }
   ],
   "source": [
    "# And how many words are there with frequency 1?\n",
    "no_freq_1 = sum([v.freqs[v.i2w[i]]==1 for i in range(len(v.freqs))])\n",
    "print(\"Words with frequency 1: \" + str(no_freq_1))"
   ]
  },
  {
   "cell_type": "code",
   "execution_count": 17,
   "metadata": {
    "colab": {},
    "colab_type": "code",
    "id": "xKHocugctZGM"
   },
   "outputs": [
    {
     "name": "stdout",
     "output_type": "stream",
     "text": [
      "boiled\n",
      "strictness\n",
      "sub-Tarantino\n",
      "Silberling\n",
      "world-renowned\n",
      "Mama\n",
      "gracious\n",
      "grocery\n",
      "Guzman\n",
      "miscalculations\n",
      "sent\n",
      "placing\n",
      "pose\n",
      "sustains\n",
      "Entertaining\n",
      "Sayles\n",
      "frantic\n",
      "hidden-agenda\n",
      "imaginary\n",
      "sixties\n"
     ]
    }
   ],
   "source": [
    "# Finally 20 random words from the vocabulary.\n",
    "# This is a simple way to get a feeling for the data.\n",
    "for i in range(20):\n",
    "    word_index = random.randint(0,len(v.freqs)-1)\n",
    "    print(v.i2w[word_index])"
   ]
  },
  {
   "cell_type": "markdown",
   "metadata": {
    "colab_type": "text",
    "id": "nGWaZahKV_dH"
   },
   "source": [
    "#### Sentiment label vocabulary"
   ]
  },
  {
   "cell_type": "code",
   "execution_count": 18,
   "metadata": {
    "colab": {},
    "colab_type": "code",
    "id": "AmTC-rvQelpl"
   },
   "outputs": [
    {
     "data": {
      "text/plain": [
       "['very negative', 'negative', 'neutral', 'positive', 'very positive']"
      ]
     },
     "execution_count": 18,
     "metadata": {},
     "output_type": "execute_result"
    }
   ],
   "source": [
    "# Now let's map the sentiment labels 0-4 to a more readable form\n",
    "i2t = [\"very negative\", \"negative\", \"neutral\", \"positive\", \"very positive\"]\n",
    "i2t"
   ]
  },
  {
   "cell_type": "code",
   "execution_count": 19,
   "metadata": {
    "colab": {},
    "colab_type": "code",
    "id": "D7UI26DP2dr2"
   },
   "outputs": [
    {
     "data": {
      "text/plain": [
       "OrderedDict([('very negative', 0),\n",
       "             ('negative', 1),\n",
       "             ('neutral', 2),\n",
       "             ('positive', 3),\n",
       "             ('very positive', 4)])"
      ]
     },
     "execution_count": 19,
     "metadata": {},
     "output_type": "execute_result"
    }
   ],
   "source": [
    "# And let's also create the opposite mapping.\n",
    "# We won't use a Vocabulary for this (although we could), since the labels\n",
    "# are already numeric.\n",
    "t2i = OrderedDict({p : i for p, i in zip(i2t, range(len(i2t)))})\n",
    "t2i"
   ]
  },
  {
   "cell_type": "markdown",
   "metadata": {
    "colab_type": "text",
    "id": "y0067ax54-rd"
   },
   "source": [
    "## Installing PyTorch\n",
    "\n",
    "We are going to need PyTorch and Google Colab does not have it installed by default. Run the cell below to install it.\n",
    "\n",
    "*For installing PyTorch in your own computer, follow the instructions on [pytorch.org](pytorch.org) instead. This is for Google Colab only.*"
   ]
  },
  {
   "cell_type": "code",
   "execution_count": 20,
   "metadata": {
    "colab": {},
    "colab_type": "code",
    "id": "qKQMGtkR5KWr"
   },
   "outputs": [],
   "source": [
    "# http://pytorch.org/\n",
    "from os.path import exists\n",
    "from wheel.pep425tags import get_abbr_impl, get_impl_ver, get_abi_tag\n",
    "import torch\n",
    "from torch import optim\n",
    "from torch import nn"
   ]
  },
  {
   "cell_type": "code",
   "execution_count": 21,
   "metadata": {
    "colab": {},
    "colab_type": "code",
    "id": "BhiRqhTM5V4c"
   },
   "outputs": [
    {
     "data": {
      "text/plain": [
       "'0.4.1.post2'"
      ]
     },
     "execution_count": 21,
     "metadata": {},
     "output_type": "execute_result"
    }
   ],
   "source": [
    "# this should result in the PyTorch version\n",
    "torch.__version__"
   ]
  },
  {
   "cell_type": "code",
   "execution_count": 22,
   "metadata": {
    "colab": {},
    "colab_type": "code",
    "id": "BYt8uTyGCKc7"
   },
   "outputs": [
    {
     "data": {
      "text/plain": [
       "device(type='cpu')"
      ]
     },
     "execution_count": 22,
     "metadata": {},
     "output_type": "execute_result"
    }
   ],
   "source": [
    "# PyTorch can run on CPU or on Nvidia GPU (video card) using CUDA\n",
    "# This cell selects the GPU if one is available.\n",
    "device = torch.device('cuda' if torch.cuda.is_available() else 'cpu')\n",
    "device"
   ]
  },
  {
   "cell_type": "code",
   "execution_count": 23,
   "metadata": {
    "colab": {},
    "colab_type": "code",
    "id": "2d1VMOOYx1Bw"
   },
   "outputs": [],
   "source": [
    "# Seed manually to make runs reproducible\n",
    "# You need to set this again if you do multiple runs of the same model\n",
    "torch.manual_seed(0)\n",
    "\n",
    "# When running on the CuDNN backend two further options must be set for reproducibility\n",
    "if torch.cuda.is_available():\n",
    "  torch.backends.cudnn.deterministic = True\n",
    "  torch.backends.cudnn.benchmark = False"
   ]
  },
  {
   "cell_type": "markdown",
   "metadata": {
    "colab_type": "text",
    "id": "uWBTzkuE3CtZ"
   },
   "source": [
    "# BOW"
   ]
  },
  {
   "cell_type": "markdown",
   "metadata": {
    "colab_type": "text",
    "id": "TBAjYYySOA5W"
   },
   "source": [
    "Our first model is a super simple neural **bag-of-words (BOW) model**.\n",
    "Unlike the bag-of-words model that you used in the previous lab, here we associate each word with a vector of size 5, exactly our number of sentiment classes. \n",
    "\n",
    "To make a classification, we simply **sum** the vectors of the words in our sentence and a bias vector. Because we sum the vectors, we lose word order: that's why we call this a neural bag-of-words model.\n",
    "\n",
    "```\n",
    "this   [0.0, 0.1, 0.1, 0.1, 0.0]\n",
    "movie  [0.1, 0.1, 0.1, 0.2, 0.1]\n",
    "is     [0.0, 0.1, 0.0, 0.0, 0.0]\n",
    "stupid [0.9, 0.5, 0.1, 0.0, 0.0]\n",
    "\n",
    "bias   [0.0, 0.0, 0.0, 0.0, 0.0]\n",
    "--------------------------------\n",
    "sum    [0.9, 0.8, 0.3, 0.3, 0.1]\n",
    "\n",
    "argmax: 0 (very negative)\n",
    "```\n",
    "\n",
    "Now, the **argmax** of this sum is our predicted label.\n",
    "\n",
    "We initialize all vectors *randomly* and train them using cross-entropy loss."
   ]
  },
  {
   "cell_type": "markdown",
   "metadata": {
    "colab_type": "text",
    "id": "rLtBAIQGynkB"
   },
   "source": [
    "#### Model class"
   ]
  },
  {
   "cell_type": "code",
   "execution_count": 24,
   "metadata": {
    "colab": {},
    "colab_type": "code",
    "id": "QZfNklWf3tvs"
   },
   "outputs": [],
   "source": [
    "class BOW(nn.Module):\n",
    "  \"\"\"A simple bag-of-words model\"\"\"\n",
    "\n",
    "  def __init__(self, vocab_size, embedding_dim, vocab):\n",
    "    super(BOW, self).__init__()\n",
    "    self.vocab = vocab\n",
    "    \n",
    "    # this is a trained look-up table with word embeddings\n",
    "    self.embed = nn.Embedding(vocab_size, embedding_dim)\n",
    "    \n",
    "    # this is a trained bias term\n",
    "    self.bias = nn.Parameter(torch.zeros(embedding_dim), requires_grad=True)        \n",
    "\n",
    "  def forward(self, inputs):\n",
    "    # this is the forward pass of the neural network\n",
    "    # given inputs, it computes the output\n",
    "\n",
    "    # this looks up the embeddings for each word ID in inputs\n",
    "    # the result is a sequence of word embeddings\n",
    "    embeds = self.embed(inputs)\n",
    "    \n",
    "    # the output is the sum across the time dimension (1)\n",
    "    # with the bias term added\n",
    "    logits = embeds.sum(dim=1) + self.bias\n",
    "\n",
    "    return logits"
   ]
  },
  {
   "cell_type": "code",
   "execution_count": 25,
   "metadata": {
    "colab": {},
    "colab_type": "code",
    "id": "eKHvBnoBAr6z"
   },
   "outputs": [
    {
     "name": "stdout",
     "output_type": "stream",
     "text": [
      "BOW(\n",
      "  (embed): Embedding(18280, 5)\n",
      ")\n"
     ]
    }
   ],
   "source": [
    "# Let's create a model.\n",
    "vocab_size = len(v.w2i)\n",
    "n_classes = len(t2i)\n",
    "bow_model = BOW(vocab_size, n_classes, v)\n",
    "print(bow_model)"
   ]
  },
  {
   "cell_type": "markdown",
   "metadata": {
    "colab_type": "text",
    "id": "vfCx-HvMH1qQ"
   },
   "source": [
    "> **Hey, wait, where is the bias vector?**\n",
    "> PyTorch does not print Parameters, only Modules!\n",
    "\n",
    "> We can print it ourselves though, to check that it is there."
   ]
  },
  {
   "cell_type": "code",
   "execution_count": 26,
   "metadata": {
    "colab": {},
    "colab_type": "code",
    "id": "Fhvk5HenAroT",
    "scrolled": true
   },
   "outputs": [
    {
     "name": "stdout",
     "output_type": "stream",
     "text": [
      "bias                     [5]          requires_grad=True\n",
      "embed.weight             [18280, 5]   requires_grad=True\n",
      "\n",
      "Total parameters: 91405\n",
      "\n"
     ]
    }
   ],
   "source": [
    "\n",
    "# Here we print each parameter name, shape, and if it is trainable.\n",
    "def print_parameters(model):\n",
    "  total = 0\n",
    "  for name, p in model.named_parameters():\n",
    "    total += np.prod(p.shape)\n",
    "    print(\"{:24s} {:12s} requires_grad={}\".format(name, str(list(p.shape)), p.requires_grad))\n",
    "  print(\"\\nTotal parameters: {}\\n\".format(total))\n",
    "    \n",
    "\n",
    "print_parameters(bow_model)"
   ]
  },
  {
   "cell_type": "markdown",
   "metadata": {
    "colab_type": "text",
    "id": "WSAw292WxuP4"
   },
   "source": [
    "#### Preparing an example for input\n",
    "\n",
    "To feed sentences to our PyTorch model, we need to convert a sequence of tokens to a sequence of IDs. The `prepare_example` function below takes care of this for us. With these IDs we index the word embedding table. "
   ]
  },
  {
   "cell_type": "code",
   "execution_count": 27,
   "metadata": {
    "colab": {},
    "colab_type": "code",
    "id": "YWeGTC_OGReV"
   },
   "outputs": [],
   "source": [
    "def prepare_example(example, vocab):\n",
    "  \"\"\"\n",
    "  Map tokens to their IDs for 1 example\n",
    "  \"\"\"\n",
    "  \n",
    "  # vocab returns 0 if the word is not there\n",
    "  x = [[vocab.w2i.get(t, 0) for t in example.tokens]]\n",
    "  \n",
    "  x = torch.LongTensor(x)\n",
    "  x = x.to(device)\n",
    "  \n",
    "  y = torch.LongTensor([example.label])\n",
    "  y = y.to(device)\n",
    "  \n",
    "  return x, y"
   ]
  },
  {
   "cell_type": "markdown",
   "metadata": {
    "colab_type": "text",
    "id": "oKNQjEc0yXnJ"
   },
   "source": [
    "#### Evaluation\n",
    "We will need one more thing: an evaluation metric.\n",
    "How many predictions do we get right? The accuracy will tell us.\n",
    "Make sure that you understand this code block.\n"
   ]
  },
  {
   "cell_type": "code",
   "execution_count": 28,
   "metadata": {
    "colab": {},
    "colab_type": "code",
    "id": "yGmQLcVYKZsh"
   },
   "outputs": [],
   "source": [
    "\n",
    "def simple_evaluate(model, data, prep_fn=prepare_example, **kwargs):\n",
    "    \"\"\"Accuracy of a model on given data set.\"\"\"\n",
    "    correct = 0\n",
    "    total = 0\n",
    "    preds = list()\n",
    "    model.eval()  # disable dropout (explained later)\n",
    "\n",
    "    for example in data:\n",
    "\n",
    "        # convert the example input and label to PyTorch tensors\n",
    "        x, target = prep_fn(example, model.vocab)\n",
    "\n",
    "        # forward pass\n",
    "        # get the output from the neural network for input x\n",
    "        with torch.no_grad():\n",
    "            logits = model(x)\n",
    "\n",
    "        # get out the prediction\n",
    "        prediction = logits.argmax(dim=-1)\n",
    "\n",
    "        # add the number of correct predictions to the total correct\n",
    "        correct += (prediction == target).sum().item()\n",
    "        total += 1\n",
    "        preds.append(prediction[0].item())\n",
    "        \n",
    "        del x\n",
    "        del target\n",
    "        torch.cuda.empty_cache()  \n",
    "\n",
    "    return correct, preds, correct / float(total)"
   ]
  },
  {
   "cell_type": "markdown",
   "metadata": {
    "colab_type": "text",
    "id": "dIk6OtSdzGRP"
   },
   "source": [
    "#### Example feed\n",
    "For stochastic gradient descent (SGD) we will need a random training example for every update.\n",
    "We implement this by shuffling the training data and returning examples one by one using `yield`.\n",
    "\n",
    "Shuffling is optional so that we get to use this to get validation and test examples, too."
   ]
  },
  {
   "cell_type": "code",
   "execution_count": 29,
   "metadata": {
    "colab": {},
    "colab_type": "code",
    "id": "dxDFOZLfCXvJ"
   },
   "outputs": [],
   "source": [
    "def get_examples(data, shuffle=True, **kwargs):\n",
    "  \"\"\"Shuffle data set and return 1 example at a time (until nothing left)\"\"\"\n",
    "  indices = list(range(len(data)))\n",
    "  if shuffle:\n",
    "    print(\"Shuffling training data\")\n",
    "    random.shuffle(indices)  # shuffle training data each epoch\n",
    "  for index in indices:\n",
    "    yield data[index]"
   ]
  },
  {
   "cell_type": "markdown",
   "metadata": {
    "colab_type": "text",
    "id": "g09SM8yb2cjx"
   },
   "source": [
    "#### Exercise: Training function\n",
    "\n",
    "Your task is now to complete the training loop below.\n",
    "Before you do so, please read the section about optimization."
   ]
  },
  {
   "cell_type": "markdown",
   "metadata": {
    "colab_type": "text",
    "id": "TVfUukVdM_1c"
   },
   "source": [
    "**Optimization**\n",
    "\n",
    "As mentioned in the \"Introduction to PyTorch\" notebook, one of the perks of using PyTorch are its automatic differentiation abilities. We will use these to train our BOW model. \n",
    "\n",
    "We train our model by feeding it an input and performing **forward** pass, which results in an output for which we obtain a **loss** with our loss function.\n",
    "After the gradients are calculated in the **backward** pass, we can take a step on the loss surface towards more optimal parameter settings (e.g. gradient descent). \n",
    "\n",
    "The package we will use to do this optimization is [torch.optim](https://pytorch.org/docs/stable/optim.html). Besides implementations of stochastic gradient descent (SGD), this package also implements the optimization algorithm Adam, which we'll be using in this practical. \n",
    "For the purposes of this assignment you do not need to know what Adam does besides that it uses gradient information to update our model parameters by calling: \n",
    "\n",
    "```\n",
    "optimizer.step()\n",
    "```\n",
    "Remember when we updated our parameters in the PyTorch tutorial in a loop?\n",
    "\n",
    "\n",
    "```python\n",
    "# update weights\n",
    "learning_rate = 0.5\n",
    "for f in net.parameters():\n",
    "    # for each parameter, take a small step in the opposite dir of the gradient\n",
    "    p.data = p.data - p.grad.data * learning_rate\n",
    "\n",
    "```\n",
    "The function call optimizer.step() does effectively the same thing.\n",
    "\n",
    "*(If you want to know more about optimization algorithms using gradient information [this blog](http://ruder.io/optimizing-gradient-descent/.) gives a nice intuitive overview.)*"
   ]
  },
  {
   "cell_type": "code",
   "execution_count": 30,
   "metadata": {
    "colab": {},
    "colab_type": "code",
    "id": "ktFnKBux25lD"
   },
   "outputs": [],
   "source": [
    "def train_model(model, optimizer, num_iterations=10000, \n",
    "                print_every=1000, eval_every=1000,\n",
    "                batch_fn=get_examples, \n",
    "                prep_fn=prepare_example,\n",
    "                eval_fn=simple_evaluate,\n",
    "                batch_size=1, eval_batch_size=None,\n",
    "                file_prefix=None, dataset_train=None):\n",
    "    \"\"\"Train a model.\"\"\"  \n",
    "    iter_i = 0\n",
    "    train_loss = 0.\n",
    "    print_num = 0\n",
    "    start = time.time()\n",
    "    criterion = nn.CrossEntropyLoss() # loss function\n",
    "    best_eval = 0.\n",
    "    best_iter = 0\n",
    "\n",
    "    if not file_prefix:\n",
    "        checkpoint_path = CHECKPOINT_DIR + \"{}.pt\".format(model.__class__.__name__)\n",
    "    else:\n",
    "        checkpoint_path = CHECKPOINT_DIR + file_prefix + \".pt\"\n",
    "        \n",
    "    if dataset_train is None:\n",
    "        dataset_train = train_data\n",
    "    \n",
    "    # store train loss and validation accuracy during training\n",
    "    # so we can plot them afterwards\n",
    "    losses = []\n",
    "    accuracies = []  \n",
    "\n",
    "    if eval_batch_size is None:\n",
    "        eval_batch_size = batch_size\n",
    "\n",
    "    while True:  # when we run out of examples, shuffle and continue\n",
    "        for batch in batch_fn(dataset_train, batch_size=batch_size):\n",
    "\n",
    "            # forward pass\n",
    "            model.train()\n",
    "            x, targets = prep_fn(batch, model.vocab)\n",
    "            logits = model(x)\n",
    "\n",
    "            B = targets.size(0)  # later we will use B examples per update\n",
    "\n",
    "            # compute cross-entropy loss (our criterion)\n",
    "            # note that the cross entropy loss function computes the softmax for us\n",
    "            loss = criterion(logits.view([B, -1]), targets.view(-1))\n",
    "            train_loss += loss.item()\n",
    "\n",
    "            # backward pass\n",
    "            # Tip: check the Introduction to PyTorch notebook.\n",
    "\n",
    "            # erase previous gradients\n",
    "            model.zero_grad()\n",
    "            \n",
    "            \n",
    "            loss.backward()\n",
    "\n",
    "            # update weights - take a small step in the opposite dir of the gradient\n",
    "            optimizer.step()\n",
    "\n",
    "            print_num += 1\n",
    "            iter_i += 1\n",
    "\n",
    "            # print info\n",
    "            if iter_i % print_every == 0:\n",
    "                print(\"Iter %r: loss=%.4f, time=%.2fs\" % \n",
    "                (iter_i, train_loss, time.time()-start))\n",
    "                losses.append(train_loss)\n",
    "                print_num = 0        \n",
    "                train_loss = 0.\n",
    "\n",
    "            # evaluate\n",
    "            if iter_i % eval_every == 0:\n",
    "                _, _, accuracy = eval_fn(model, dev_data, batch_size=eval_batch_size,\n",
    "                         batch_fn=batch_fn, prep_fn=prep_fn)\n",
    "                accuracies.append(accuracy)\n",
    "                print(\"iter %r: dev acc=%.4f\" % (iter_i, accuracy))       \n",
    "\n",
    "                # save best model parameters\n",
    "                if accuracy > best_eval:\n",
    "                    print(\"new highscore\")\n",
    "                    best_eval = accuracy\n",
    "                    best_iter = iter_i\n",
    "                    ckpt = {\n",
    "                    \"state_dict\": model.state_dict(),\n",
    "                    \"optimizer_state_dict\": optimizer.state_dict(),\n",
    "                    \"best_eval\": best_eval,\n",
    "                    \"best_iter\": best_iter\n",
    "                    }\n",
    "                    torch.save(ckpt, checkpoint_path)\n",
    "\n",
    "            del x\n",
    "            del targets\n",
    "            torch.cuda.empty_cache()        \n",
    "            \n",
    "            # done training\n",
    "            if iter_i == num_iterations:\n",
    "                print(\"Done training\")\n",
    "\n",
    "                # evaluate on train, dev, and test with best model\n",
    "                print(\"Loading best model\")    \n",
    "                ckpt = torch.load(checkpoint_path)\n",
    "                model.load_state_dict(ckpt[\"state_dict\"])\n",
    "\n",
    "                _, _, train_acc = eval_fn(\n",
    "                model, dataset_train, batch_size=eval_batch_size, \n",
    "                batch_fn=batch_fn, prep_fn=prep_fn)\n",
    "                _, _, dev_acc = eval_fn(\n",
    "                model, dev_data, batch_size=eval_batch_size,\n",
    "                batch_fn=batch_fn, prep_fn=prep_fn)\n",
    "                _, _, test_acc = eval_fn(\n",
    "                model, test_data, batch_size=eval_batch_size, \n",
    "                batch_fn=batch_fn, prep_fn=prep_fn)\n",
    "\n",
    "                print(\"best model iter {:d}: \"\n",
    "                \"train acc={:.4f}, dev acc={:.4f}, test acc={:.4f}\".format(\n",
    "                best_iter, train_acc, dev_acc, test_acc))\n",
    "\n",
    "                return losses, accuracies, test_acc\n",
    "            \n",
    "def evaluate_model(model, \n",
    "                batch_fn=get_examples, \n",
    "                prep_fn=prepare_example,\n",
    "                eval_fn=simple_evaluate,\n",
    "                batch_size=1, eval_batch_size=None,\n",
    "                file_prefix=None):\n",
    "    \"\"\"Evaluate a model.\"\"\"  \n",
    "    \n",
    "    if not file_prefix:\n",
    "        checkpoint_path = CHECKPOINT_DIR + \"{}.pt\".format(model.__class__.__name__)\n",
    "    else:\n",
    "        checkpoint_path = CHECKPOINT_DIR + file_prefix + \".pt\"\n",
    "\n",
    "    # evaluate on train, dev, and test with best model\n",
    "    print(\"Loading model\")    \n",
    "    ckpt = torch.load(checkpoint_path,map_location='cpu')\n",
    "    model.load_state_dict(ckpt[\"state_dict\"])\n",
    "\n",
    "    # _, _, train_acc = eval_fn(\n",
    "    # model, train_data, batch_size=eval_batch_size, \n",
    "    # batch_fn=batch_fn, prep_fn=prep_fn)\n",
    "    train_acc = 0.5\n",
    "    _, _, dev_acc = eval_fn(\n",
    "    model, dev_data, batch_size=eval_batch_size,\n",
    "    batch_fn=batch_fn, prep_fn=prep_fn)\n",
    "    _, _, test_acc = eval_fn(\n",
    "    model, test_data, batch_size=eval_batch_size, \n",
    "    batch_fn=batch_fn, prep_fn=prep_fn)\n",
    "\n",
    "    print(\"best model: \"\n",
    "    \"train acc={:.4f}, dev acc={:.4f}, test acc={:.4f}\".format(\n",
    "    train_acc, dev_acc, test_acc))\n",
    "\n",
    "    return train_acc, dev_acc, test_acc"
   ]
  },
  {
   "cell_type": "code",
   "execution_count": 31,
   "metadata": {},
   "outputs": [],
   "source": [
    "def mean(l):\n",
    "    if not l or len(l)==0:\n",
    "        return 0\n",
    "    else:\n",
    "        return sum(l) * 1.0 / len(l)\n",
    "    \n",
    "def std(l):\n",
    "    if not l or len(l) == 0:\n",
    "        return 0\n",
    "    mu = mean(l)\n",
    "    std = np.sqrt(sum([(x - mu)**2 for x in l]) * 1.0 / len(l))\n",
    "    return std"
   ]
  },
  {
   "cell_type": "code",
   "execution_count": null,
   "metadata": {},
   "outputs": [],
   "source": []
  },
  {
   "cell_type": "markdown",
   "metadata": {
    "colab_type": "text",
    "id": "XEPsLvI-3D5b"
   },
   "source": [
    "### Training the BOW model"
   ]
  },
  {
   "cell_type": "code",
   "execution_count": 32,
   "metadata": {},
   "outputs": [],
   "source": [
    "def train_model_default(model_fn, lr, file_prefix, num_seeds=10, batch_size=1, batch_fn=None, prep_fn=None, eval_fn=None, num_iterations=300000, eval_every=10000):\n",
    "    for i in range(num_seeds):\n",
    "        if not TRAIN_ALL_MODELS and os.path.exists(CHECKPOINT_DIR + file_prefix + \"_\"+str(i).zfill(2)+\".pt\"):\n",
    "            print(\"Skipping \" + CHECKPOINT_DIR + file_prefix + \"_\"+str(i).zfill(2)+\".pt\")\n",
    "            continue\n",
    "        torch.manual_seed(i)\n",
    "        np.random.seed(i)\n",
    "        random.seed(i)\n",
    "        \n",
    "        dataset_train=None\n",
    "        if USE_SMALLER_DATASET_SIZE:\n",
    "            dataset_train = split_dataset(train_data, DATASET_DIVISION_FACTOR)\n",
    "            random.seed(i) # Reset \n",
    "            num_iters = int(num_iterations / np.sqrt(1.0 * DATASET_DIVISION_FACTOR)) # With smaller dataset sizes, lower number of iterations is needed. Used here for speeding up the training\n",
    "            num_evals = int(eval_every / np.sqrt(1.0 * DATASET_DIVISION_FACTOR))\n",
    "        else:\n",
    "            num_iters = num_iterations\n",
    "            num_evals = eval_every\n",
    "\n",
    "        print(\"Dataset size: \" + str(len(dataset_train)))\n",
    "        model = model_fn()\n",
    "        model = model.to(device)\n",
    "        optimizer = optim.Adam(model.parameters(), lr=lr)\n",
    "        if not batch_fn or not prep_fn or not eval_fn:\n",
    "            _,_,_ = train_model(\n",
    "                model, optimizer, num_iterations=num_iters, \n",
    "                print_every=10000, eval_every=num_evals, batch_size = batch_size, file_prefix=file_prefix + \"_\" + str(i).zfill(2), dataset_train=dataset_train) \n",
    "        else:\n",
    "            _,_,_ = train_model(\n",
    "                model, optimizer, num_iterations=num_iters, \n",
    "                print_every=10000, eval_every=num_evals, batch_size = batch_size, file_prefix=file_prefix + \"_\" + str(i).zfill(2),batch_fn=batch_fn, \n",
    "                prep_fn=prep_fn,eval_fn=eval_fn, dataset_train=dataset_train)\n",
    "        \n",
    "        del model\n",
    "        del optimizer\n",
    "        torch.cuda.empty_cache()  "
   ]
  },
  {
   "cell_type": "code",
   "execution_count": 33,
   "metadata": {},
   "outputs": [],
   "source": [
    "def split_dataset(dataset, division_factor):\n",
    "    data_by_label = {i:list() for i in range(5)}\n",
    "    for d_index, d in enumerate(dataset):\n",
    "        data_by_label[d.label].append(d)\n",
    "    new_dataset = list()\n",
    "    for i in range(5):\n",
    "        random.shuffle(data_by_label[i])\n",
    "        no_examples = int(len(data_by_label[i])/division_factor)\n",
    "        new_dataset += data_by_label[i][:no_examples]\n",
    "    random.shuffle(new_dataset) # Shuffle dataset just to be sure\n",
    "    return new_dataset"
   ]
  },
  {
   "cell_type": "code",
   "execution_count": 34,
   "metadata": {},
   "outputs": [],
   "source": [
    "def eval_model_default(model, file_prefix, num_seeds=10, batch_fn=get_examples, prep_fn=prepare_example, eval_fn=simple_evaluate):\n",
    "    test_accs = list()\n",
    "    val_accs = list()\n",
    "    model = model.to(device)\n",
    "    for i in range(10):\n",
    "        train_acc, dev_acc, test_acc = evaluate_model(\n",
    "            model, batch_size = 1, file_prefix=file_prefix + \"_\" + str(i).zfill(2), batch_fn=batch_fn, prep_fn=prep_fn, eval_fn=eval_fn)\n",
    "        test_accs.append(test_acc)\n",
    "        val_accs.append(dev_acc)\n",
    "\n",
    "    del model\n",
    "    torch.cuda.empty_cache() \n",
    "    print(\"=\"*50+\"\\nTest score: %.2f\" % (100.0*mean(test_accs)) + \"%\" + \" (+-%.2f)\" % (100.0*std(test_accs)) + \"\\nValidation score: %.2f\" % (100.0*mean(val_accs)) + \"%\" + \" (+-%.2f)\" % (100.0*std(val_accs)))\n",
    "    return test_accs, val_accs"
   ]
  },
  {
   "cell_type": "code",
   "execution_count": 35,
   "metadata": {},
   "outputs": [
    {
     "name": "stdout",
     "output_type": "stream",
     "text": [
      "Skipping checkpoints/BOW_00.pt\n",
      "Skipping checkpoints/BOW_01.pt\n",
      "Skipping checkpoints/BOW_02.pt\n",
      "Skipping checkpoints/BOW_03.pt\n",
      "Skipping checkpoints/BOW_04.pt\n",
      "Skipping checkpoints/BOW_05.pt\n",
      "Skipping checkpoints/BOW_06.pt\n",
      "Skipping checkpoints/BOW_07.pt\n",
      "Skipping checkpoints/BOW_08.pt\n",
      "Skipping checkpoints/BOW_09.pt\n"
     ]
    }
   ],
   "source": [
    "train_model_default(lambda : BOW(len(v.w2i), len(t2i), vocab=v), 0.001, \"BOW\")"
   ]
  },
  {
   "cell_type": "code",
   "execution_count": 36,
   "metadata": {},
   "outputs": [
    {
     "name": "stdout",
     "output_type": "stream",
     "text": [
      "Loading model\n",
      "best model: train acc=0.5000, dev acc=0.3351, test acc=0.3498\n",
      "Loading model\n",
      "best model: train acc=0.5000, dev acc=0.3524, test acc=0.3566\n",
      "Loading model\n",
      "best model: train acc=0.5000, dev acc=0.3733, test acc=0.3846\n",
      "Loading model\n",
      "best model: train acc=0.5000, dev acc=0.3515, test acc=0.3805\n",
      "Loading model\n",
      "best model: train acc=0.5000, dev acc=0.3579, test acc=0.3787\n",
      "Loading model\n",
      "best model: train acc=0.5000, dev acc=0.3297, test acc=0.3416\n",
      "Loading model\n",
      "best model: train acc=0.5000, dev acc=0.3678, test acc=0.3729\n",
      "Loading model\n",
      "best model: train acc=0.5000, dev acc=0.3488, test acc=0.3674\n",
      "Loading model\n",
      "best model: train acc=0.5000, dev acc=0.3388, test acc=0.3579\n",
      "Loading model\n",
      "best model: train acc=0.5000, dev acc=0.3279, test acc=0.3222\n",
      "==================================================\n",
      "Test score: 36.12% (+-1.86)\n",
      "Validation score: 34.83% (+-1.47)\n"
     ]
    }
   ],
   "source": [
    "bow_model = BOW(len(v.w2i), len(t2i), vocab=v)\n",
    "bow_test, bow_val = eval_model_default(bow_model, \"BOW\", num_seeds=10)\n",
    "del bow_model\n",
    "torch.cuda.empty_cache()  "
   ]
  },
  {
   "cell_type": "code",
   "execution_count": 37,
   "metadata": {
    "colab": {},
    "colab_type": "code",
    "id": "dvYLj8LIAzfS"
   },
   "outputs": [],
   "source": [
    "# This will plot the validation accuracies across time.\n",
    "# f, axarr = plt.subplots(2, 2, figsize=(10,5))\n",
    "# axarr[0, 0].plot(bow_accuracies)\n",
    "# axarr[0, 0].set_title('Axis [0,0]')\n",
    "# axarr[0, 1].plot(bow_accuracies)\n",
    "# axarr[0, 1].set_title('Axis [0,1]')\n",
    "# axarr[1, 0].plot(bow_accuracies)\n",
    "# axarr[1, 0].set_title('Axis [1,0]')\n",
    "# axarr[1, 1].plot(bow_accuracies)\n",
    "# axarr[1, 1].set_title('Axis [1,1]')"
   ]
  },
  {
   "cell_type": "code",
   "execution_count": 38,
   "metadata": {
    "colab": {},
    "colab_type": "code",
    "id": "vUHm9JfSI4po"
   },
   "outputs": [],
   "source": [
    "# This will plot the training loss over time.\n",
    "# plt.plot(bow_losses)"
   ]
  },
  {
   "cell_type": "markdown",
   "metadata": {
    "colab_type": "text",
    "id": "E9mB1_XhMPNN"
   },
   "source": [
    "# CBOW"
   ]
  },
  {
   "cell_type": "markdown",
   "metadata": {
    "colab_type": "text",
    "id": "pWk78FvNMw4o"
   },
   "source": [
    "We now continue with a **continuous bag-of-words (CBOW)** model.\n",
    "It is similar to the BOW model, but now embeddings can have a dimension of *arbitrary size*. \n",
    "This means that we can make them bigger and learn more aspects of each word. We will still sum the vectors to get a sentence representation, but now the result is no longer conveniently the number of sentiment classes. \n",
    "\n",
    "*Note that this is not the same as word2vec CBOW.* Both models take a few words as input, sum and make a prediction. However, in word2vec the prediction is the word in the middle of the input words. Here, the prediction is a sentiment class (1 out of 5 possible numbers 0-4).\n",
    "\n",
    "So what can we do? We can *learn* a parameter matrix $W$ that turns our summed vector into the number of output classes, by matrix-multiplying it: $$Wx$$\n",
    "If the size of $W$ is `5 x d`, and $x$ is `d x 1` and , then the result will be `5x1`, and then we can again find our prediction using an argmax."
   ]
  },
  {
   "cell_type": "markdown",
   "metadata": {
    "colab_type": "text",
    "id": "gIjrCPfCwsXI"
   },
   "source": [
    "## Exercise: write CBOW class & train it\n",
    "\n",
    "Write a class `CBOW` that:\n",
    "\n",
    "- has word embeddings with size 300\n",
    "- sums the word vectors for the input words (just like in `BOW`)\n",
    "- projects the resulting vector down to 5 units using a linear layer (including a bias term)\n",
    "\n",
    "Train your CBOW model and plot the validation accuracy and training loss over time."
   ]
  },
  {
   "cell_type": "code",
   "execution_count": 39,
   "metadata": {
    "colab": {},
    "colab_type": "code",
    "id": "PEV22aR2MP0Q"
   },
   "outputs": [],
   "source": [
    "# YOUR CODE HERE\n",
    "class CBOW(nn.Module):\n",
    "    \"\"\"A continuos bag-of-words model\"\"\"\n",
    "\n",
    "    def __init__(self, vocab_size, embedding_dim, output_dim, vocab):\n",
    "        super(CBOW, self).__init__()\n",
    "        self.vocab = vocab\n",
    "\n",
    "        # this is a trained look-up table with word embeddings\n",
    "        self.embed = nn.Embedding(vocab_size, embedding_dim)\n",
    "        self.applyW = nn.Linear(embedding_dim, output_dim)\n",
    "\n",
    "        # this is a trained bias term\n",
    "        self.bias = nn.Parameter(torch.zeros(output_dim), requires_grad=True)        \n",
    "\n",
    "    def forward(self, inputs):\n",
    "        # this is the forward pass of the neural network\n",
    "        # given inputs, it computes the output\n",
    "\n",
    "        # this looks up the embeddings for each word ID in inputs\n",
    "        # the result is a sequence of word embeddings\n",
    "        embeds = self.embed(inputs)\n",
    "        trans_embeds = self.applyW(embeds)\n",
    "\n",
    "        # the output is the sum across the time dimension (1)\n",
    "        # with the bias term added\n",
    "        logits = trans_embeds.sum(1) + self.bias\n",
    "\n",
    "        return logits"
   ]
  },
  {
   "cell_type": "code",
   "execution_count": 40,
   "metadata": {},
   "outputs": [
    {
     "name": "stdout",
     "output_type": "stream",
     "text": [
      "Skipping checkpoints/CBOW_00.pt\n",
      "Skipping checkpoints/CBOW_01.pt\n",
      "Skipping checkpoints/CBOW_02.pt\n",
      "Skipping checkpoints/CBOW_03.pt\n",
      "Skipping checkpoints/CBOW_04.pt\n",
      "Skipping checkpoints/CBOW_05.pt\n",
      "Skipping checkpoints/CBOW_06.pt\n",
      "Skipping checkpoints/CBOW_07.pt\n",
      "Skipping checkpoints/CBOW_08.pt\n",
      "Skipping checkpoints/CBOW_09.pt\n"
     ]
    }
   ],
   "source": [
    "train_model_default(lambda: CBOW(len(v.w2i), 300, len(t2i), vocab=v), 0.0005, \"CBOW\", num_iterations=100000)"
   ]
  },
  {
   "cell_type": "code",
   "execution_count": 41,
   "metadata": {},
   "outputs": [
    {
     "name": "stdout",
     "output_type": "stream",
     "text": [
      "Loading model\n",
      "best model: train acc=0.5000, dev acc=0.3579, test acc=0.3575\n",
      "Loading model\n",
      "best model: train acc=0.5000, dev acc=0.3442, test acc=0.3674\n",
      "Loading model\n",
      "best model: train acc=0.5000, dev acc=0.3606, test acc=0.3511\n",
      "Loading model\n",
      "best model: train acc=0.5000, dev acc=0.3488, test acc=0.3561\n",
      "Loading model\n",
      "best model: train acc=0.5000, dev acc=0.3297, test acc=0.3584\n",
      "Loading model\n",
      "best model: train acc=0.5000, dev acc=0.3542, test acc=0.3588\n",
      "Loading model\n",
      "best model: train acc=0.5000, dev acc=0.3569, test acc=0.3674\n",
      "Loading model\n",
      "best model: train acc=0.5000, dev acc=0.3506, test acc=0.3756\n",
      "Loading model\n",
      "best model: train acc=0.5000, dev acc=0.3342, test acc=0.3837\n",
      "Loading model\n",
      "best model: train acc=0.5000, dev acc=0.3406, test acc=0.3389\n",
      "==================================================\n",
      "Test score: 36.15% (+-1.20)\n",
      "Validation score: 34.78% (+-0.99)\n"
     ]
    }
   ],
   "source": [
    "cbow_model = CBOW(len(v.w2i), 300, len(t2i), vocab=v)\n",
    "cbow_test, cbow_val = eval_model_default(cbow_model, \"CBOW\")\n",
    "del cbow_model\n",
    "torch.cuda.empty_cache()  "
   ]
  },
  {
   "cell_type": "code",
   "execution_count": 42,
   "metadata": {},
   "outputs": [],
   "source": [
    "# plt.plot(cbow_accuracies)"
   ]
  },
  {
   "cell_type": "code",
   "execution_count": 43,
   "metadata": {},
   "outputs": [],
   "source": [
    "# plt.plot(cbow_losses)"
   ]
  },
  {
   "cell_type": "markdown",
   "metadata": {
    "colab_type": "text",
    "id": "zpFt_Fo2TdN0"
   },
   "source": [
    "# Deep CBOW"
   ]
  },
  {
   "cell_type": "markdown",
   "metadata": {
    "colab_type": "text",
    "id": "iZanOMesTfEZ"
   },
   "source": [
    "To see if we can squeeze some more performance out of the CBOW model, we can make it deeper and non-linear: add more layers and tanh-activations.\n",
    "By using more parameters we can learn more aspects of the data, and by using more layers and non-linearities, we can try to learn a more complex function. \n",
    "This is not something that always works. If the input-output mapping of your data is simple, then a complicated function could easily overfit on your training set, which will lead to poor generalization. \n",
    "\n",
    "We will use E for the size of the word embeddings (use: 300) and D for the size of a hidden layer (use: 100).\n",
    "\n",
    "#### Exercise: write Deep CBOW class and train it\n",
    "\n",
    "Write a class `DeepCBOW`.\n",
    "\n",
    "In your code, make sure that your `output_layer` consists of the following:\n",
    "- A linear transformation from E units to D units.\n",
    "- A Tanh activation\n",
    "- A linear transformation from D units to D units\n",
    "- A Tanh activation\n",
    "- A linear transformation from D units to 5 units (our output classes).\n",
    "\n",
    "We recommend using [nn.Sequential](https://pytorch.org/docs/stable/nn.html?highlight=sequential#torch.nn.Sequential) to implement this exercise."
   ]
  },
  {
   "cell_type": "code",
   "execution_count": 44,
   "metadata": {
    "colab": {},
    "colab_type": "code",
    "id": "l8Z1igvpTrZq"
   },
   "outputs": [],
   "source": [
    "# YOUR CODE HERE\n",
    "class DeepCBOW(nn.Module):\n",
    "    \"\"\"A continuos bag-of-words model\"\"\"\n",
    "\n",
    "    def __init__(self, vocab_size, E, D, output_dim, vocab):\n",
    "        super(DeepCBOW, self).__init__()\n",
    "        self.vocab = vocab\n",
    "\n",
    "        # this is a trained look-up table with word embeddings\n",
    "        self.embed = nn.Embedding(vocab_size, E)\n",
    "        self.output_layer = nn.Sequential(OrderedDict([\n",
    "          ('linear1', nn.Linear(E, D)),\n",
    "          ('tanh1', nn.Tanh()),\n",
    "          ('dropout1', nn.Dropout(0.1)),\n",
    "          ('linear2', nn.Linear(D,D)),\n",
    "          ('relu2', nn.Tanh()),\n",
    "          ('dropout2', nn.Dropout(0.1)),\n",
    "          ('linear3', nn.Linear(D,output_dim))\n",
    "        ]))\n",
    "\n",
    "        # this is a trained bias term\n",
    "        self.bias = nn.Parameter(torch.zeros(output_dim), requires_grad=True)        \n",
    "\n",
    "    def forward(self, inputs):\n",
    "        # this is the forward pass of the neural network\n",
    "        # given inputs, it computes the output\n",
    "\n",
    "        # this looks up the embeddings for each word ID in inputs\n",
    "        # the result is a sequence of word embeddings\n",
    "        embeds = self.embed(inputs)\n",
    "        for layer in self.output_layer:\n",
    "            embeds = layer(embeds)\n",
    "\n",
    "        # the output is the sum across the time dimension (1)\n",
    "        # with the bias term added\n",
    "        logits = embeds.sum(1) + self.bias\n",
    "\n",
    "        return logits"
   ]
  },
  {
   "cell_type": "code",
   "execution_count": 45,
   "metadata": {},
   "outputs": [
    {
     "name": "stdout",
     "output_type": "stream",
     "text": [
      "Skipping checkpoints/DeepCBOW_00.pt\n",
      "Skipping checkpoints/DeepCBOW_01.pt\n",
      "Skipping checkpoints/DeepCBOW_02.pt\n",
      "Skipping checkpoints/DeepCBOW_03.pt\n",
      "Skipping checkpoints/DeepCBOW_04.pt\n",
      "Skipping checkpoints/DeepCBOW_05.pt\n",
      "Skipping checkpoints/DeepCBOW_06.pt\n",
      "Skipping checkpoints/DeepCBOW_07.pt\n",
      "Skipping checkpoints/DeepCBOW_08.pt\n",
      "Skipping checkpoints/DeepCBOW_09.pt\n"
     ]
    }
   ],
   "source": [
    "train_model_default(lambda: DeepCBOW(len(v.w2i), 300, 100, len(t2i), vocab=v), 0.002, \"DeepCBOW\", eval_every=1000, num_iterations=100000)"
   ]
  },
  {
   "cell_type": "code",
   "execution_count": 46,
   "metadata": {},
   "outputs": [
    {
     "name": "stdout",
     "output_type": "stream",
     "text": [
      "Loading model\n",
      "best model: train acc=0.5000, dev acc=0.3669, test acc=0.3633\n",
      "Loading model\n",
      "best model: train acc=0.5000, dev acc=0.3606, test acc=0.3561\n",
      "Loading model\n",
      "best model: train acc=0.5000, dev acc=0.3706, test acc=0.3620\n",
      "Loading model\n",
      "best model: train acc=0.5000, dev acc=0.3760, test acc=0.3742\n",
      "Loading model\n",
      "best model: train acc=0.5000, dev acc=0.3497, test acc=0.3217\n",
      "Loading model\n",
      "best model: train acc=0.5000, dev acc=0.3579, test acc=0.3575\n",
      "Loading model\n",
      "best model: train acc=0.5000, dev acc=0.3797, test acc=0.3602\n",
      "Loading model\n",
      "best model: train acc=0.5000, dev acc=0.3588, test acc=0.3783\n",
      "Loading model\n",
      "best model: train acc=0.5000, dev acc=0.3787, test acc=0.3724\n",
      "Loading model\n",
      "best model: train acc=0.5000, dev acc=0.3833, test acc=0.3529\n",
      "==================================================\n",
      "Test score: 35.99% (+-1.50)\n",
      "Validation score: 36.82% (+-1.07)\n"
     ]
    }
   ],
   "source": [
    "deep_cbow_model = DeepCBOW(len(v.w2i), 300, 100, len(t2i), vocab=v)\n",
    "deep_cbow_test, deep_cbow_val = eval_model_default(deep_cbow_model, \"DeepCBOW\")\n",
    "del deep_cbow_model\n",
    "torch.cuda.empty_cache()  "
   ]
  },
  {
   "cell_type": "code",
   "execution_count": 47,
   "metadata": {},
   "outputs": [],
   "source": [
    "# plt.plot(deep_cbow_accuracies)"
   ]
  },
  {
   "cell_type": "code",
   "execution_count": 48,
   "metadata": {},
   "outputs": [],
   "source": [
    "# plt.plot(deep_cbow_losses)"
   ]
  },
  {
   "cell_type": "markdown",
   "metadata": {
    "colab_type": "text",
    "id": "MQZ5flHwiiHY"
   },
   "source": [
    "# Pre-trained word embeddings"
   ]
  },
  {
   "cell_type": "markdown",
   "metadata": {
    "colab_type": "text",
    "id": "9NX35vecmHy6"
   },
   "source": [
    "The Stanford sentiment treebank is a very small data set, since it was manually annotated. This makes it difficult for the model to learn good word embeddings, to learn the \"meaning\" of the words in our vocabulary.\n",
    "\n",
    "Think for a moment about the fact that the only error signal that the network receives is from predicting the sentiment!\n",
    "\n",
    "To mitigate our data sparsity, we can download **pre-trained word embeddings**. \n",
    "You can choose which pre-trained word embeddings to use:\n",
    "\n",
    "- **Glove**. The \"original\" Stanford Sentiment classification [paper](http://aclweb.org/anthology/P/P15/P15-1150.pdf) used Glove embeddings, which are just another method (like *word2vec*) to get word embeddings from unannotated text. Glove is described in the following paper which you should cite if you use them:\n",
    "> Jeffrey Pennington, Richard Socher, and Christopher Manning. [\"Glove: Global vectors for word representation.\"](https://nlp.stanford.edu/pubs/glove.pdf) EMNLP 2014. \n",
    "\n",
    "- **word2vec**. This is the method that you learned about in class, described in:\n",
    "> Mikolov, Tomas, et al. [\"Distributed representations of words and phrases and their compositionality.\"](https://papers.nips.cc/paper/5021-distributed-representations-of-words-and-phrases-and-their-compositionality.pdf) Advances in neural information processing systems. 2013.\n",
    "\n",
    "With these pre-trained word embeddings, we can initialize our word embedding lookup table and start form a point where similar words are already close to one another. \n",
    "\n",
    "You can choose to keep the word embeddings **fixed** or to train them further.\n",
    "We will keep them fixed for now.\n",
    "\n",
    "For the purposes of this lab, it is enough if you understand how word2vec works (whichever vectors you use). If you are interested you may also check out the Glove paper.\n",
    "\n",
    "You can either download the word2vec vectors, or the Glove vectors.\n",
    "If you want to compare your results to the Stanford paper later on, then you should use Glove. \n",
    "**At the end of this lab you have the option to compare which vectors give you the best performance. For now, simply choose one of them and continue with that.**"
   ]
  },
  {
   "cell_type": "code",
   "execution_count": 49,
   "metadata": {
    "colab": {},
    "colab_type": "code",
    "id": "lGYr02WWO993"
   },
   "outputs": [],
   "source": [
    "# This downloads the Glove 840B 300d embeddings.\n",
    "# The original file is at http://nlp.stanford.edu/data/glove.840B.300d.zip\n",
    "# Since that file is 2GB, we provide you with a *filtered version*\n",
    "# which contains all the words you need for this data set.\n",
    "\n",
    "# You only need to do this once.\n",
    "# Please comment this cell out after downloading.\n",
    "\n",
    "# !wget https://gist.githubusercontent.com/bastings/b094de2813da58056a05e8e7950d4ad1/raw/3fbd3976199c2b88de2ae62afc0ecc6f15e6f7ce/glove.840B.300d.sst.txt"
   ]
  },
  {
   "cell_type": "code",
   "execution_count": 50,
   "metadata": {
    "colab": {},
    "colab_type": "code",
    "id": "6NLsgFGiTjmI"
   },
   "outputs": [],
   "source": [
    "# This downloads the word2vec 300D Google News vectors \n",
    "# The file has been truncated to only contain words that appear in our data set.\n",
    "# You can find the original file here: https://code.google.com/archive/p/word2vec/\n",
    "\n",
    "# You only need to do this once.\n",
    "# Please comment this out after downloading.\n",
    "# !wget https://gist.githubusercontent.com/bastings/4d1c346c68969b95f2c34cfbc00ba0a0/raw/76b4fefc9ef635a79d0d8002522543bc53ca2683/googlenews.word2vec.300d.txt"
   ]
  },
  {
   "cell_type": "code",
   "execution_count": 51,
   "metadata": {
    "colab": {},
    "colab_type": "code",
    "id": "GXBITzPRQUQb"
   },
   "outputs": [],
   "source": [
    "# Mount Google Drive (to save the downloaded files)\n",
    "# from google.colab import drive\n",
    "# drive.mount('/gdrive')"
   ]
  },
  {
   "cell_type": "code",
   "execution_count": 52,
   "metadata": {
    "colab": {},
    "colab_type": "code",
    "id": "uFvzPuiKSCbl"
   },
   "outputs": [],
   "source": [
    "# Copy word vectors *to* Google Drive\n",
    "\n",
    "# You only need to do this once.\n",
    "# Please comment this out after running it. \n",
    "# !cp \"glove.840B.300d.sst.txt\" \"/gdrive/My Drive/\"\n",
    "# !cp \"googlenews.word2vec.300d.txt\" \"/gdrive/My Drive/\""
   ]
  },
  {
   "cell_type": "code",
   "execution_count": 53,
   "metadata": {
    "colab": {},
    "colab_type": "code",
    "id": "kUMH0bM6BuY9"
   },
   "outputs": [],
   "source": [
    "# If you copied the word vectors to your Drive before,\n",
    "# here is where you copy them back to the Colab notebook.\n",
    "\n",
    "# Copy Glove vectors *from* Google Drive\n",
    "# !cp \"/gdrive/My Drive/glove.840B.300d.sst.txt\" .\n",
    "# !cp \"/gdrive/My Drive/googlenews.word2vec.300d.txt\" ."
   ]
  },
  {
   "cell_type": "markdown",
   "metadata": {
    "colab_type": "text",
    "id": "MX2GJVHILM8n"
   },
   "source": [
    "At this point you have the pre-trained word embedding files, but what do they look like?"
   ]
  },
  {
   "cell_type": "code",
   "execution_count": 54,
   "metadata": {
    "colab": {},
    "colab_type": "code",
    "id": "ChsChH14Ruxn"
   },
   "outputs": [
    {
     "name": "stdout",
     "output_type": "stream",
     "text": [
      "the\n"
     ]
    }
   ],
   "source": [
    "# Exercise: Print the first 4 lines of the files that you downloaded.\n",
    "# What do you see?\n",
    "with open(\"glove.840B.300d.sst.txt\", \"r\") as f:\n",
    "    glove_init_lines = f.readlines()\n",
    "    print(glove_init_lines[2].split(\" \")[0])"
   ]
  },
  {
   "cell_type": "markdown",
   "metadata": {
    "colab_type": "text",
    "id": "WIVCkUkE_IjR"
   },
   "source": [
    "#### Exercise: New Vocabulary\n",
    "\n",
    "Since we now use pre-trained word embeddings, we need to create a new vocabulary. \n",
    "This is because of two reasons:\n",
    "\n",
    "1. Not all words in our training set are in the set of pre-trained word embeddings. We do not want words in our vocabulary that are not in that set.\n",
    "2. We get to look up the pre-trained word embedding for words in the validation and test set, even if we don't know them from training. \n",
    "\n",
    "Now, create a new vocabulary object `v` and load the pre-trained vectors into a `vectors`.\n",
    "\n",
    "The vocabulary `v` should consist of:\n",
    " - a  `<unk>` token at position 0,\n",
    " - a  `<pad>` token at position 1, \n",
    " - and then all words in the pre-trained vector set.\n",
    " \n",
    "\n",
    "After storing each vector in a list `vectors`, turn in into a numpy matrix like this:\n",
    "```python\n",
    " vectors = np.stack(vectors, axis=0)\n",
    "```\n",
    " \n",
    " \n"
   ]
  },
  {
   "cell_type": "code",
   "execution_count": 55,
   "metadata": {
    "colab": {},
    "colab_type": "code",
    "id": "ITyyCvDnCL4U"
   },
   "outputs": [],
   "source": [
    "# YOUR CODE HERE\n",
    "v = Vocabulary()\n",
    "vectors = list()\n",
    "vectors.append(np.zeros(300, dtype=np.float32)) # <unk>\n",
    "vectors.append(np.zeros(300, dtype=np.float32)) # <pad>\n",
    "for line in glove_init_lines:\n",
    "    v.count_token(line.split(\" \")[0])\n",
    "    vectors.append(np.array([float(x) for x in line.split(\" \")[1:]], dtype=np.float32))\n",
    "vectors = np.stack(vectors, axis=0)\n",
    "v.build()"
   ]
  },
  {
   "cell_type": "markdown",
   "metadata": {
    "colab_type": "text",
    "id": "xC-7mRyYNG9b"
   },
   "source": [
    "#### Exercise: words not in our pre-trained set\n",
    "\n",
    "How many words in the training, dev, and test set are also in your vector set?\n",
    "How many words are not there?\n",
    "\n",
    "Store the words that are not in the word vector set in the set below."
   ]
  },
  {
   "cell_type": "code",
   "execution_count": 56,
   "metadata": {
    "colab": {},
    "colab_type": "code",
    "id": "K6MA3-wF_X5M"
   },
   "outputs": [
    {
     "name": "stdout",
     "output_type": "stream",
     "text": [
      "{'action-thriller/dark', 'cop-flick', 'queasy-stomached', 'Piercingly', 'père-fils', 'rock-n-rolling', 'Vulakoro', 'Wisegirls', 'prefeminist', 'Jae-eun', 'smarter-than-thou', 'Recoing', 'Brothers/Abrahams', 'dog-paddle', 'overstylized', 'Brother-Man', 'farewell-to-innocence', 'teen-driven', 'ricture', 'flex-a-thon', 'kids-cute', 'Imaxy', 'yarn-spinner', 'Wollter', 'flck', 'oh-so-Hollywood', 'direct-to-void', 'the-cash', 'underdramatized', 'zinger-filled', 'often-funny', 'Altman-esque', 'post-Tarantino', 'style-free', 'too-conscientious', 'outgag', 'zombie-land', 'double-pistoled', 'ever-ruminating', 'cat-and-mouser', 'bottom-of-the-bill', 'Auteil', 'O2-tank', 'dirgelike', 'modern-office', 'Cliff-Notes', 'Gaï', 'un-bear-able', 'Fulford-Wierzbicki', 'S1M0NE', 'revenge-of-the-nerds', 'achronological', 'industrial-model', 'pasta-fagioli', 'super-stupid', 'renegade-cop', 'I-heard-a-joke', 'monster-in-the', 'Channel-style', 'still-inestimable', 'LePlouff', 'splendid-looking', 'kids-in-peril', 'Lynch-like', 'Mordantly', 'grunge-pirate', 'boundary-hopping', 'lower-wit', 'imponderably', 'Otto-Sallies', 'unslick', 'anti-Kieslowski', 'Bazadona', 'affirmational', 'bio-drama', 'French-produced', 'hammily', 'buzz-obsessed', 'long-on-the-shelf', 'banter-filled', '-LRB-', 'soul-stripping', 'surfacey', 'clung-to', 'materalism', 'therapy-dependent', 'affectation-free', 'cor-blimey-luv-a-duck', 'achival', 'Hitler-study', 'anti-erotic', 'crash-and-bash', 'unfussily', 'half-dimensional', 'thinly-conceived', 'action-and-popcorn', 'raunch-fests', 'Rashomon-for-dipsticks', 'slummer', 'Ki-Deok', 'coming-of-age/coming-out', 'Interminably', 'super-dooper-adorability', 'over-amorous', 'snazziness', 'I-2-spoofing', 'murder-on-campus', 'movie-movie', '102-minute', 'heart-rate-raising', 'Well-meant', 'near-hypnotic', 'she-cute', 'humor-seeking', 'wannabe-hip', 'like-themed', 'gabbiest', 'out-outrage', 'actress-producer', 'Poke-mania', 'message-mongering', 'valley-girl', 'Hollywood-predictable', 'dullingly', 'disease-of', 'spy-action', 'cheatfully', 'Good-naturedly', 'propriety-obsessed', 'often-cute', 'Holofcenter', 'unfakable', 'ANTWONE', 'travel-agency', 'Bettany/McDowell', 'than-likely', 'pseudo-philosophic', 'Nietzsche-referencing', 'big-fisted', 'barn-burningly', 'democracie', 'toilet-humor', 'the-loose', 'no-surprise', 'blood-splattering', 'non-firsthand', 'wise-cracker', 'kid-movie', 'bottomlessly', 'who-wrote-Shakespeare', 'still-raw', 'so-five-minutes-ago', 'Self-congratulatory', 'damaged-goods', 'meets-John', 'East-vs', 'Potty-mouthed', 'non-exploitive', 'none-too-original', 'clone-gag', 'Stortelling', 'Efteriades', 'art-conscious', 'Unspools', 'community-therapy', 'Director-chef', 'sense-spinning', 'reality-snubbing', 'Jeong-Hyang', 'brain-deadening', 'Kosashvili', 'kids-and-family-oriented', 'overmanipulative', 'none-too-funny', 'drama/character', 'too-extreme-for-TV', 'Spy-vs', 'bibbidy-bobbidi-bland', 'time-it-is', 'hour-and-a-half-long', 'based-on-truth', 'not-so-Divine', 'splatterfests', 'Sandlerian', 'artnering', 'stiletto-stomps', 'Ill-considered', 'Bjorkness', 'Director-writer', 'Singer/composer', 'musclefest', 'cliché-laden', 'unhibited', 'indieflick', 'hell-jaunt', 'talk-heavy', 'pseudo-bio', 'Witch-style', 'two-wrongs-make-a-right', 'white-empowered', 'deadeningly', 'handbag-clutching', 'Bond-inspired', 'genre-curling', 'Eckstraordinarily', 'soon-to-be-forgettable', 'Waters-like', 'matinee-style', 'sub-sophomoric', 'Silbersteins', 'been-told-a', 'moral-condundrum', 'teen-gang', 'dust-caked', 'less-compelling', 'dudsville', 'life-at-arm', 'crummy-looking', 'TV-insider', 'Warmed-over', 'lip-non-synching', 'snow-and-stuntwork', 'Laissez-passer', 'ultra-cheesy', 'ultra-loud', 'Japanimator', 'Juliet/West', 'Rintarô', 'fast-edit', 'tuba-playing', 'ennui-hobbled', 'video-shot', 'techno-sex', 'videologue', 'pee-related', 'identity-seeking', 'nerve-raked', 'kiddie-oriented', 'pseudo-witty', 'daytime-drama', 'Hollywood-itis', 'jazz-playing', 'gore-free', 'Ourside', 'qatsi', 'thrill-kill', 'actorliness', 'disappearing/reappearing', 'as-it', 'give-me-an-Oscar', 'road-and-buddy', 'big-budget/all-star', 'Steinis', 'eroti-comedy', 'so-bad-they', 'dolphin-gasm', 'ultra-provincial', 'talking-animal', 'raw-nerved', 'kibbitzes', 'seventy-minute', 'sitcom-worthy', 'better-focused', 'Univac-like', 'razor-sided', 'wonder-what', 'badly-rendered', 'ego-destroying', 'video-game-based', 'even-flowing', 'semi-surrealist', 'Punch-and-Judy', 'foul-natured', 'marveilleux', 'best-foreign-film', 'smashups', 'self-defeatingly', 'pop-cyber', 'rubber-face', 'shlockmeister', 'doofus-on', 'eardrum-dicing', 'pro-Serbian', 'smile-button', 'genial-rogue', '91-minute', 'movie-biz', 'Schneidermeister', 'kid-empowerment', 'Hollywood-action', 'demented-funny', 'faux-urban', 'sub-music', 'disease-of-the-week', 'semi-throwback', 'Kafka-inspired', 'beloved-major', 'thinks-it-is', 'tolerable-to-adults', 'uncinematic', 'not-nearly', 'gone-to-seed', 'Wewannour', 'food-spittingly', 'tear-drenched', 'junk-calorie', 'made-for-movie', 'shuck-and-jive', 'Puportedly', 'neo-Augustinian', 'disaffected-indie-film', 'gunfest', 'Bruckheimeresque', 'dirty-joke', 'Chabrolian', 'Zishe', 'big-bug', 'shock-you-into-laughter', 'Insufferably', 'social/economic/urban', 'and-miss', 'tries-so-hard-to-be-cool', 'too-frosty', 'trash-cinema', 'Globetrotters-Generals', '103-minute', 'barn-side', 'hotter-two-years-ago', 'non-mystery', 'uncharismatically', 'sense-of-humour', 'German-Expressionist', 'kinetically-charged', 'TV-cops', 'stunt-hungry', 'cipherlike', 'quick-cuts', 'moldy-oldie', 'Live-style', 'oft-brilliant', 'Janklowicz-Mann', 'natural-seeming', 'cinemantic', 'Komediant', 'pyro-correctly', 'pathos-filled', 'young-guns', 'hippie-turned-yuppie', 'fun-for-fun', 'repellantly', 'as-nasty', 'skit-com', 'follow-your-dream', 'surface-effect', 'yahoo-ing', 'sex-in-the-city', 'Brit-com', 'Phonce', 'war-movie', 'Clarke-Williams', 'redneck-versus-blueblood', 'cheese-laced', 'show-don', 'psychodramatics', 'tough-man', 'huge-screen', 'life-embracing', 'movie-specific', 'pro-wildlife', 'preachy-keen', 'prechewed', 'pseudo-rock-video', 'unconned', 'autocritique', 'makeup-deep', 'late-twenty-somethings', 'pulpiness', 'Kubrick-meets-Spielberg', 'image-mongering', 'family-film', 'flakeball', 'out-to-change-the-world', 'romantic/comedy', 'stomach-knotting', 'media-soaked', 'the-week', '112-minute', 'made-for-home-video', 'step-printing', 'monster/science', 'rough-trade', 'beyond-lame', 'Tiresomely', 'wind-in-the-hair', 'barking-mad', 'dictator-madman', 'stagecrafts', 'scary-funny', 'hyper-artificiality', 'inside-show-biz', 'lovable-loser', 'special-effects-laden', 'under-7', 'cable-sports', 'gender-provoking', 'a-bornin', '-RRB-', 'Short-story', 'Phoned-in', 'tryingly', 'something-borrowed', 'Mushes', 'goth-vampire', 'Norrington-directed', 'well-lensed', 'from-television', 'sillified', 'FearDotCom', 'old-fashioned-movie', 'not-quite-dead', 'e-graveyard', 'neo-Hitchcockianism', 'Marine/legal', 'MIBII', 'Frankenstein-monster', 'stadium-seat', 'Marcken', 'pantomimesque', '168-minute', 'too-hot-for-TV', 'drama/action', 'quasi-Shakespearean', 'RunTelDat', 'animated-movie', 'Reeboir', 'sub-formulaic', 'By-the-numbers', 'title-bout', 'surface-obsession', 'Co-writer/director', 'Jaglomized', 'Formuliac', 'nonethnic', 'pseudo-educational', 'Underachieves', 'triple-crosses', 'Birot', 'Damon/Bourne', 'Punitively', 'teen-speak', 'Devolves', 'out-shock', 'Djeinaba', 'Idemoto', 'college-spawned', 'college-friends', 'anti-adult', 'overcoming-obstacles', 'Re-Fried', 'Driver-esque', 'singer-turned', 'skyscraper-trapeze', 'surehanded', 'telanovela', 'two-hour-and-fifteen-minute', 'Oscar-sweeping', 'lack-of-attention', 'dungpile', 'Age-inspired', 'Felinni', 'Jean-Claud', 'show-stoppingly', 'trouble-in-the-ghetto', 'every-joke-has', 'stable-full', 'best-sustained', 'grade-grubbers', 'Margolo', 'Verete', 'bare-midriff', 'girls-behaving-badly', 'girl-meets-girl', 'out-bad-act', 'egocentricities', 'superficiale', 'Pie-like', 'Kahlories', 'nonchallenging', 'Feardotcom', '129-minute', 'Whiffle-Ball', 'Glizty', 'anti-Harry', 'adventues', 'dark-as-pitch', 'Romething', 'McBeal-style', 'Priggish', 'Choquart', 'unsalvageability', 'flatula', 'cellophane-pop', 'groupie/scholar', 'video-cam', 'audience-pleaser', 'Unambitious', 'spook-a-rama', 'yawn-provoking', 'spaniel-eyed', 'overly-familiar', 'hidden-agenda', 'Sychowski', 'Je-Gyu', 'boom-bam', 'not-at-all-good', 'hayseeds-vs', 'crime-land', 'independent-community', 'Annie-Mary', 'church-wary', 'gender-war', 'Audacious-impossible', 'two-drink-minimum', 'cameo-packed', 'Cool-J', 'bore-athon', 'landbound', 'indie-heads', 'gangster/crime', 'of-a-sequel', 'Vereté', 'unlaughable', 'doing-it-for', 'tub-thumpingly', 'ballistic-pyrotechnic', 'creepy-scary', 'direct-to-video/DVD', 'stand-up-comedy', 'flick-knife', 'Hopkins/Rock', 'Cosby-Seinfeld', 'Equlibrium', 'water-camera', 'guilt-suffused', 'Oscar-size', 'trance-noir', 'bang-the-drum', 'Achero', 'Less-than-compelling', 'slash-fest', 'Hjelje', 'fustily', 'gay-niche', 'message-movie', 'Volletta', 'fang-baring', 'artsploitation', 'Georgian-Israeli', 'Nickelodeon-esque', 'Journalistically', 'sitcomishly', 'Hellstenius', 'actorish', 'bad-movie', 'guy-in-a-dress', 'male-ridden', 'non-Bondish', 'Debrauwer', 'pokepie', 'rape-payback', 'celeb-strewn', 'screeching-metal', 'too-spectacular', 'time-switching', 'phoney-feeling', 'self-amused', 'now-cliched', 'often-hilarious', 'Truckzilla', 'truncheoning', 'dead-undead', 'Talkiness', 'Ear-splitting', 'hotsies', 'acting-workshop', 'Gator-bashing', 'sleep-inducingly', 'film-culture', 'digital-effects-heavy', 'Minac', 'kid-vid', 'Nebrida', 'Brothers-style', 'run-of-the-filth', 'groan-to-guffaw', 'cold-fish', 'pop-induced', 'unemotive', 'docu-Dogma', 'bump-in', 'media-constructed', 'bio-doc', 'waydowntown', 'Qutting', 'oh-those-wacky-Brits', 'feardotcom', 'wide-smiling', 'Copmovieland', 'jump-in-your-seat', 'brain-slappingly', 'Watstein', 'happily-ever', 'Seldahl', 'non-Britney', 'auto-critique', 'unembarrassing', 'derisions', 'Bottom-rung', 'mush-hearted', 'revigorates', 'female-bonding', 'Butterfingered', 'semi-amusing', 'sub-Tarantino', 'cliché-riddled', 'feardotcom.com', 'unencouraging', 'girl-buddy', 'semimusical', 'tardier', 'Banderas-Lucy', 'character-who-shall', 'at-a-frat-party', 'beast-within', 'thousand-times', 'lascivious-minded', 'song-and-dance-man', 'voices-from-the-other-side', 'Asiaphiles', 'police-oriented', 'pseudo-serious', 'under-inspired', 'warm-milk', 'Seldhal', 'power-lunchers', 'pooper-scoopers', 'headline-fresh', 'in-jokey', 'II-Birkenau', 'underrehearsed', 'underventilated', 'gut-clutching', 'slasher-movie', 'well-contructed', 'shoe-loving', 'reel/real', 'Denlopp', 'fizzability', 'estrogen-free', 'whoopee-cushion', 'already-shallow', 'pro-Serb', 'techno-tripe', 'Rocky-like', 'Star/producer', 'Pasach', 'ill-wrought', 'Koshashvili', 'retro-refitting', 'quasi-improvised', 'spy-savvy', 'Stevenon', 'tech-geeks', 'Cineasts', 'Oprahfication', 'remain-nameless', 'sequel-for-the-sake', '24-and-unders', 'close-to-solid', 'Dognini', 'Talancón', 'Brazil-like', 'Heremakono', 'hit-hungry', 'stuporously', 'not-very-funny', 'merchandised-to-the-max', 'high-buffed', 'truck-loving', 'diciness', 'sports-movie', 'wild-and-woolly', 'teen-exploitation', 'goose-pimple', 'out-depress', 'Venice/Venice', 'teen-sleaze', 'just-above-average', 'self-glorified'}\n",
      "699\n"
     ]
    }
   ],
   "source": [
    "words_not_found = set()\n",
    "# YOUR CODE HERE\n",
    "for data_set in (train_data,):\n",
    "    for ex in data_set:\n",
    "        for token in ex.tokens:\n",
    "            if v.w2i.get(token, 0) == 0:\n",
    "                words_not_found.update([token])\n",
    "print(words_not_found)\n",
    "print(len(words_not_found))"
   ]
  },
  {
   "cell_type": "markdown",
   "metadata": {
    "colab_type": "text",
    "id": "BfEd38W0NnAI"
   },
   "source": [
    "#### Exercise: train Deep CBOW with (fixed) pre-trained embeddings\n",
    "\n",
    "Now train Deep CBOW again using the pre-trained word vectors.\n"
   ]
  },
  {
   "cell_type": "code",
   "execution_count": 57,
   "metadata": {
    "colab": {},
    "colab_type": "code",
    "id": "z_6ooqgEsB20"
   },
   "outputs": [],
   "source": [
    "# We define a dummy class so that we save the model to a different file.\n",
    "class PTDeepCBOW(DeepCBOW):\n",
    "    def __init__(self, vocab_size, embedding_dim, hidden_dim, output_dim, vocab):\n",
    "        super(PTDeepCBOW, self).__init__(\n",
    "            vocab_size, embedding_dim, hidden_dim, output_dim, vocab)"
   ]
  },
  {
   "cell_type": "code",
   "execution_count": 58,
   "metadata": {
    "colab": {},
    "colab_type": "code",
    "id": "JfIh4Ni6yuAh"
   },
   "outputs": [
    {
     "name": "stdout",
     "output_type": "stream",
     "text": [
      "Skipping checkpoints/PTDeepCBOW_00.pt\n",
      "Skipping checkpoints/PTDeepCBOW_01.pt\n",
      "Skipping checkpoints/PTDeepCBOW_02.pt\n",
      "Skipping checkpoints/PTDeepCBOW_03.pt\n",
      "Skipping checkpoints/PTDeepCBOW_04.pt\n",
      "Skipping checkpoints/PTDeepCBOW_05.pt\n",
      "Skipping checkpoints/PTDeepCBOW_06.pt\n",
      "Skipping checkpoints/PTDeepCBOW_07.pt\n",
      "Skipping checkpoints/PTDeepCBOW_08.pt\n",
      "Skipping checkpoints/PTDeepCBOW_09.pt\n"
     ]
    }
   ],
   "source": [
    "def prep_pretrained_deep_cbow():\n",
    "    pt_deep_cbow_model = PTDeepCBOW(len(v.w2i), 300, 100, 5, v)\n",
    "\n",
    "    # copy pre-trained word vectors into embeddings table\n",
    "    pt_deep_cbow_model.embed.weight.data.copy_(torch.from_numpy(vectors))\n",
    "\n",
    "    # disable training the pre-trained embeddings\n",
    "    pt_deep_cbow_model.embed.weight.requires_grad = False\n",
    "    return pt_deep_cbow_model\n",
    "\n",
    "train_model_default(prep_pretrained_deep_cbow, lr=0.0001, file_prefix=\"PTDeepCBOW\", num_iterations=30000, eval_every=1000)"
   ]
  },
  {
   "cell_type": "code",
   "execution_count": 59,
   "metadata": {},
   "outputs": [
    {
     "name": "stdout",
     "output_type": "stream",
     "text": [
      "Loading model\n",
      "best model: train acc=0.5000, dev acc=0.4332, test acc=0.4348\n",
      "Loading model\n",
      "best model: train acc=0.5000, dev acc=0.4360, test acc=0.4511\n",
      "Loading model\n",
      "best model: train acc=0.5000, dev acc=0.4369, test acc=0.4484\n",
      "Loading model\n",
      "best model: train acc=0.5000, dev acc=0.4396, test acc=0.4448\n",
      "Loading model\n",
      "best model: train acc=0.5000, dev acc=0.4314, test acc=0.4167\n",
      "Loading model\n",
      "best model: train acc=0.5000, dev acc=0.4396, test acc=0.4376\n",
      "Loading model\n",
      "best model: train acc=0.5000, dev acc=0.4387, test acc=0.4475\n",
      "Loading model\n",
      "best model: train acc=0.5000, dev acc=0.4332, test acc=0.4403\n",
      "Loading model\n",
      "best model: train acc=0.5000, dev acc=0.4378, test acc=0.4303\n",
      "Loading model\n",
      "best model: train acc=0.5000, dev acc=0.4414, test acc=0.4511\n",
      "==================================================\n",
      "Test score: 44.03% (+-1.03)\n",
      "Validation score: 43.68% (+-0.31)\n"
     ]
    }
   ],
   "source": [
    "pt_deep_cbow_model = prep_pretrained_deep_cbow()\n",
    "pt_deep_cbow_test, pt_deep_cbow_val = eval_model_default(pt_deep_cbow_model, \"PTDeepCBOW\")\n",
    "del pt_deep_cbow_model\n",
    "torch.cuda.empty_cache()  "
   ]
  },
  {
   "cell_type": "code",
   "execution_count": 60,
   "metadata": {
    "colab": {},
    "colab_type": "code",
    "id": "Ufujv3x31ufD"
   },
   "outputs": [],
   "source": [
    "# plot dev accuracies\n",
    "# plt.plot(pt_deep_cbow_accuracies)"
   ]
  },
  {
   "cell_type": "code",
   "execution_count": 61,
   "metadata": {
    "colab": {},
    "colab_type": "code",
    "id": "YTJtKBzd7Qjr"
   },
   "outputs": [],
   "source": [
    "# plot train loss\n",
    "# plt.plot(pt_deep_cbow_losses)"
   ]
  },
  {
   "cell_type": "markdown",
   "metadata": {
    "colab_type": "text",
    "id": "yFu8xzCy9XDW"
   },
   "source": [
    "**It looks like we've hit what is possible with just using words.**\n",
    "Let's move on by incorporating word order!"
   ]
  },
  {
   "cell_type": "markdown",
   "metadata": {
    "colab_type": "text",
    "id": "g41yW4PL9jG0"
   },
   "source": [
    "# LSTM"
   ]
  },
  {
   "cell_type": "markdown",
   "metadata": {
    "colab_type": "text",
    "id": "ODzXEH0MaGpa"
   },
   "source": [
    "It is time to get more serious. Even with pre-trained word embeddings and multiple layers, we seem to do pretty badly at sentiment classification here. \n",
    "The next step we can take is to introduce word order again, and to get a representation of the sentence as a whole, without independence assumptions.\n",
    "\n",
    "We will get this representation using an **Long Short-Term Memory** (LSTM). As an exercise, we will code our own LSTM cell, so that we get comfortable with its inner workings.\n",
    "Once we have an LSTM cell, we can call it repeatedly, updating its hidden state one word at a time:\n",
    "\n",
    "```python\n",
    "rnn = MyLSTMCell(input_size, hidden_size)\n",
    "\n",
    "hx = torch.zeros(1, hidden_size)  # initial state\n",
    "cx = torch.zeros(1, hidden_size)  # initial memory cell\n",
    "output = []                       # to save intermediate LSTM states\n",
    "\n",
    "# feed one word at a time\n",
    "for i in range(n_timesteps):\n",
    "  hx, cx = rnn(input[i], (hx, cx))\n",
    "  output.append(hx)\n",
    "```\n",
    "\n",
    "If you need some more help understanding LSTMs, then check out these resources:\n",
    "- Blog post (highly recommended): http://colah.github.io/posts/2015-08-Understanding-LSTMs/\n",
    "- Paper covering LSTM formulas in detail: https://arxiv.org/abs/1503.04069 \n",
    "\n",
    "#### Exercise: Finish the LSTM cell below. \n",
    "You will need to implement the LSTM formulas:\n",
    "\n",
    "$$\n",
    "\\begin{array}{ll}\n",
    "        i = \\sigma(W_{ii} x + b_{ii} + W_{hi} h + b_{hi}) \\\\\n",
    "        f = \\sigma(W_{if} x + b_{if} + W_{hf} h + b_{hf}) \\\\\n",
    "        g = \\tanh(W_{ig} x + b_{ig} + W_{hg} h + b_{hg}) \\\\\n",
    "        o = \\sigma(W_{io} x + b_{io} + W_{ho} h + b_{ho}) \\\\\n",
    "        c' = f * c + i * g \\\\\n",
    "        h' = o \\tanh(c') \\\\\n",
    "\\end{array}\n",
    " $$\n",
    "\n",
    "where $\\sigma$ is the sigmoid function.\n",
    "\n",
    "*Note that the LSTM formulas can differ slightly between different papers. We use the PyTorch LSTM formulation here.*"
   ]
  },
  {
   "cell_type": "code",
   "execution_count": 62,
   "metadata": {
    "colab": {},
    "colab_type": "code",
    "id": "zJ9m5kLMd7-v"
   },
   "outputs": [],
   "source": [
    "class MyLSTMCell(nn.Module):\n",
    "    \"\"\"Our own LSTM cell\"\"\"\n",
    "\n",
    "    def __init__(self, input_size, hidden_size, bias=True):\n",
    "        \"\"\"Creates the weights for this LSTM\"\"\"\n",
    "        super(MyLSTMCell, self).__init__()\n",
    "\n",
    "        self.input_size = input_size\n",
    "        self.hidden_size = hidden_size\n",
    "        self.bias = bias\n",
    "\n",
    "        self.tanh_act = nn.Tanh()\n",
    "        self.sigmoid_act = nn.Sigmoid()\n",
    "        # self.input_gate = nn.Linear(input_size + hidden_size, hidden_size)\n",
    "        # self.forget_gate = nn.Linear(input_size + hidden_size, hidden_size)\n",
    "        # self.candidate_gate = nn.Linear(input_size + hidden_size, hidden_size)\n",
    "        # self.output_gate = nn.Linear(input_size + hidden_size, hidden_size)\n",
    "        self.combined_gate = nn.Linear(input_size + hidden_size, 4 * hidden_size)\n",
    "\n",
    "        self.reset_parameters()\n",
    "\n",
    "    def reset_parameters(self):\n",
    "        \"\"\"This is PyTorch's default initialization method\"\"\"\n",
    "        stdv = 1.0 / math.sqrt(self.hidden_size)\n",
    "        for weight in self.parameters():\n",
    "            weight.data.uniform_(-stdv, stdv)  \n",
    "\n",
    "    def forward(self, input_, hx, mask=None):\n",
    "        \"\"\"\n",
    "        input is (batch, input_size)\n",
    "        hx is ((batch, hidden_size), (batch, hidden_size))\n",
    "        \"\"\"\n",
    "        prev_h, prev_c = hx\n",
    "\n",
    "        # project input and prev state\n",
    "        cat_input = torch.cat([input_,prev_h], dim=1)\n",
    "\n",
    "        # main LSTM computation    \n",
    "\n",
    "        # i = self.sigmoid_act(self.input_gate(cat_input))\n",
    "        # f = self.sigmoid_act(self.forget_gate(cat_input))\n",
    "        # g = self.tanh_act(self.candidate_gate(cat_input))\n",
    "        # o = self.sigmoid_act(self.output_gate(cat_input))\n",
    "        combined_output = self.combined_gate(cat_input)\n",
    "        i = self.sigmoid_act(combined_output[:,0 * self.hidden_size:1 * self.hidden_size])\n",
    "        f = self.sigmoid_act(combined_output[:,1 * self.hidden_size:2 * self.hidden_size])\n",
    "        g = self.tanh_act(combined_output[:,2 * self.hidden_size:3 * self.hidden_size])\n",
    "        o = self.sigmoid_act(combined_output[:,3 * self.hidden_size:4 * self.hidden_size])\n",
    "\n",
    "        c = f * prev_c + i * g\n",
    "        h = o * self.tanh_act(c)\n",
    "\n",
    "        return h, c\n",
    "\n",
    "    def __repr__(self):\n",
    "        return \"{}({:d}, {:d})\".format(\n",
    "            self.__class__.__name__, self.input_size, self.hidden_size)"
   ]
  },
  {
   "cell_type": "markdown",
   "metadata": {
    "colab_type": "text",
    "id": "4JM7xPhkQeE5"
   },
   "source": [
    "#### Optional: Efficient Matrix Multiplication\n",
    "\n",
    "It is more efficient to do a few big matrix multiplications than to do many smaller ones.\n",
    "\n",
    "It is possible to implement the above cell using just **two** linear layers.\n",
    "\n",
    "This is because the eight linear transformations from one forward pass through an LSTM cell can be done in just two:\n",
    "$$W_h h + b_h$$\n",
    "$$W_i x + b_i $$ \n",
    "\n",
    "with $h = $ `prev_h` and $x = $ `input_`.\n",
    "\n",
    "and where: \n",
    "\n",
    "$W_h =  \\begin{pmatrix}\n",
    "W_{hi}\\\\ \n",
    "W_{hf}\\\\ \n",
    "W_{hg}\\\\ \n",
    "W_{ho}\n",
    "\\end{pmatrix}$, $b_h = \\begin{pmatrix}\n",
    "b_{hi}\\\\ \n",
    "b_{hf}\\\\ \n",
    "b_{hg}\\\\ \n",
    "b_{ho}\n",
    "\\end{pmatrix}$,  $W_i = \\begin{pmatrix}\n",
    "W_{ii}\\\\ \n",
    "W_{if}\\\\ \n",
    "W_{ig}\\\\ \n",
    "W_{io}\n",
    "\\end{pmatrix}$ and $b_i = \\begin{pmatrix}\n",
    "b_{ii}\\\\ \n",
    "b_{if}\\\\ \n",
    "b_{ig}\\\\ \n",
    "b_{io}\n",
    "\\end{pmatrix}$.\n",
    "\n",
    "Convince yourself that, after chunking with [torch.chunk](https://pytorch.org/docs/stable/torch.html?highlight=chunk#torch.chunk), the output of those two linear transformations is equivalent to the output of the eight linear transformations in the LSTM cell calculations above."
   ]
  },
  {
   "cell_type": "markdown",
   "metadata": {
    "colab_type": "text",
    "id": "X9gA-UcqSBe0"
   },
   "source": [
    "#### LSTM Classifier\n",
    "\n",
    "Having an LSTM cell is not enough: we still need some code that calls it repeatedly, and then makes a prediction from the final hidden state. \n",
    "You will find that code below. Make sure that you understand it."
   ]
  },
  {
   "cell_type": "code",
   "execution_count": 63,
   "metadata": {
    "colab": {},
    "colab_type": "code",
    "id": "3iuYZm5poEn5"
   },
   "outputs": [],
   "source": [
    "class LSTMClassifier(nn.Module):\n",
    "    \"\"\"Encodes sentence with an LSTM and projects final hidden state\"\"\"\n",
    "\n",
    "    def __init__(self, vocab_size, embedding_dim, hidden_dim, output_dim, vocab):\n",
    "        super(LSTMClassifier, self).__init__()\n",
    "        self.vocab = vocab\n",
    "        self.hidden_dim = hidden_dim\n",
    "        self.embed = nn.Embedding(vocab_size, embedding_dim, padding_idx=1)\n",
    "        self.rnn = MyLSTMCell(embedding_dim, hidden_dim)\n",
    "\n",
    "        self.output_layer = nn.Sequential(     \n",
    "            nn.Dropout(p=0.1),  # explained later\n",
    "            nn.Linear(hidden_dim, output_dim)\n",
    "        )\n",
    "\n",
    "    def forward(self, x):\n",
    "\n",
    "        B = x.size(0)  # batch size (this is 1 for now, i.e. 1 single example)\n",
    "        T = x.size(1)  # time (the number of words in the sentence)\n",
    "\n",
    "        input_ = self.embed(x)\n",
    "\n",
    "        # here we create initial hidden states containing zeros\n",
    "        # we use a trick here so that, if input is on the GPU, then so are hx and cx\n",
    "        hx = input_.new_zeros(B, self.rnn.hidden_size)\n",
    "        cx = input_.new_zeros(B, self.rnn.hidden_size)\n",
    "\n",
    "        # process input sentences one word/timestep at a time\n",
    "        # input is batch-major, so the first word(s) is/are input_[:, 0]\n",
    "        outputs = []   \n",
    "        for i in range(T):\n",
    "            hx, cx = self.rnn(input_[:, i], (hx, cx))\n",
    "            outputs.append(hx)\n",
    "\n",
    "        # if we have a single example, our final LSTM state is the last hx\n",
    "        if B == 1:\n",
    "            final = hx\n",
    "        else:\n",
    "            #\n",
    "            # This part is explained in next section, ignore this else-block for now.\n",
    "            #\n",
    "            # we processed sentences with different lengths, so some of the sentences\n",
    "            # had already finished and we have been adding padding inputs to hx\n",
    "            # we select the final state based on the length of each sentence\n",
    "\n",
    "            # two lines below not needed if using LSTM form pytorch\n",
    "            outputs = torch.stack(outputs, dim=0)          # [T, B, D]\n",
    "            outputs = outputs.transpose(0, 1).contiguous()  # [B, T, D]\n",
    "\n",
    "            # to be super-sure we're not accidentally indexing the wrong state\n",
    "            # we zero out positions that are invalid\n",
    "            pad_positions = (x == 1).unsqueeze(-1)\n",
    "\n",
    "            outputs = outputs.contiguous()      \n",
    "            outputs = outputs.masked_fill_(pad_positions, 0.)\n",
    "\n",
    "            mask = (x != 1)  # true for valid positions [B, T]\n",
    "            lengths = mask.sum(dim=1)                  # [B, 1]\n",
    "\n",
    "            indexes = (lengths - 1) + torch.arange(B, device=x.device, dtype=x.dtype) * T\n",
    "            final = outputs.view(-1, self.hidden_dim)[indexes]  # [B, D]\n",
    "\n",
    "        # we use the last hidden state to classify the sentence\n",
    "        logits = self.output_layer(final)\n",
    "        return logits"
   ]
  },
  {
   "cell_type": "markdown",
   "metadata": {
    "colab_type": "text",
    "id": "FxFoVpvMPB6g"
   },
   "source": [
    "#### Dropout\n",
    "\n",
    "Besides not being able to learn meaningful word embeddings, there is another negative effect that can follow from data sparsity and a small data set: *overfitting*. This is a phenomenom that is very likely to occur when fitting strong and expressive models, like LSTMs, to small data. In practice, if your model overfits, this means that it will be very good at predicting (or: 'remembering') the sentiment of the training set, but unable to generalize to new, unseen data in the test set. This is undesirable and one technique to mitigate it is *dropout*. \n",
    "\n",
    "A dropout layer is defined by the following formula: $\\mathbf{d} \\in \\{0, 1\\}^n$, with $d_j \\sim \\text{Bernoulli}(p)$, and can be applied to for example a linear layer:\n",
    "\n",
    "$$\\text{tanh}(W(\\mathbf{h}\\odot \\mathbf{d}) + \\mathbf{b})$$\n",
    "\n",
    "\n",
    "These formulas simply mean that we *drop* certain parameters during training (by setting them to zero). Which parameters we drop is stochastically determined by a Bernoulli distribution and the probability of each parameter being dropped is set to $p = 0.5$ in our experiments (see the previous cell of code where we define our output layer). A dropout layer can be applied at many different places in our models. This technique helps against the undesirable effect where our model relies on single parameters for  prediction (e.g. if $h^{\\prime}_j$ is large, always predict positive). If we use dropout, the model needs to learn to rely on different parameters, which is desirable when generalizing to unseen data."
   ]
  },
  {
   "cell_type": "markdown",
   "metadata": {
    "colab_type": "text",
    "id": "XQjEjLt9z0XW"
   },
   "source": [
    "**Let's train our LSTM! ** Note that is will be a lot slower, because we need to do many more computations per sentence!\n",
    "\n",
    "#### Training"
   ]
  },
  {
   "cell_type": "code",
   "execution_count": null,
   "metadata": {
    "colab": {},
    "colab_type": "code",
    "id": "LgZoSPD4fsf_"
   },
   "outputs": [],
   "source": []
  },
  {
   "cell_type": "code",
   "execution_count": 64,
   "metadata": {
    "colab": {},
    "colab_type": "code",
    "id": "2BKVnyg0Hq5E"
   },
   "outputs": [],
   "source": [
    "# plot validation accuracy\n",
    "# plt.plot(lstm_accuracies)"
   ]
  },
  {
   "cell_type": "code",
   "execution_count": 65,
   "metadata": {
    "colab": {},
    "colab_type": "code",
    "id": "ZowTV0EBTb3z"
   },
   "outputs": [],
   "source": [
    "# plot training loss\n",
    "# plt.plot(lstm_losses)"
   ]
  },
  {
   "cell_type": "markdown",
   "metadata": {
    "colab_type": "text",
    "id": "YEw6XHQY_AAQ"
   },
   "source": [
    "# Mini-batching\n",
    "\n"
   ]
  },
  {
   "cell_type": "markdown",
   "metadata": {
    "colab_type": "text",
    "id": "FPf96wGzBTQJ"
   },
   "source": [
    "**Why is the LSTM so slow?** Despite our best efforts, we still need to make a lot of matrix multiplications per example (linear in the length of the example) just to get a single classification, and we can only process the 2nd word once we have computed the hidden state for the 1st word (sequential computation).\n",
    "\n",
    "GPUs are more efficient if we do a few big matrix multiplications, rather than lots of small ones. If we could process multiple examples at the same time, then we could exploit that. We still process the input sequentially, but now we can do so for multiple sentences at the same time.\n",
    "\n",
    "Up to now our \"minibatch\" consisted of a single example. This was for a reason: the sentences in our data sets have **different lengths**, and this makes it difficult to process them at the same time.\n",
    "\n",
    "Consider a batch of 2 sentences:\n",
    "\n",
    "```\n",
    "this movie is bad\n",
    "this movie is super cool !\n",
    "```\n",
    "\n",
    "Let's say the IDs for these sentences are:\n",
    "\n",
    "```\n",
    "2 3 4 5\n",
    "2 3 4 6 7 8\n",
    "```\n",
    "\n",
    "We cannot feed PyTorch an object with variable length rows! We need to turn this into a matrix.\n",
    "\n",
    "The solution is to add **padding values** to our mini-batch:\n",
    "\n",
    "```\n",
    "2 3 4 5 1 1\n",
    "2 3 4 6 7 8\n",
    "```\n",
    "\n",
    "Whenever a sentence is shorter than the longest sentence in a mini-batch, we just use a padding value (here: 1) to fill the matrix.\n",
    "\n",
    "In our computation, we should **ignore** the padding positions (e.g. mask them out). Paddings should not contribute to the loss.\n",
    "\n",
    "#### Mini-batch feed\n",
    "We will now code a `get_minibatch` function that will replace our `get_example` function, and returns a mini-batch of the requested size."
   ]
  },
  {
   "cell_type": "code",
   "execution_count": 66,
   "metadata": {
    "colab": {},
    "colab_type": "code",
    "id": "IoAE2JBiXJ3P"
   },
   "outputs": [],
   "source": [
    "def get_minibatch(data, batch_size=25, shuffle=True):\n",
    "    \"\"\"Return minibatches, optional shuffling\"\"\"\n",
    "\n",
    "    if shuffle:\n",
    "        # print(\"Shuffling training data\")\n",
    "        random.shuffle(data)  # shuffle training data each epoch\n",
    "\n",
    "    batch = []\n",
    "\n",
    "    # yield minibatches\n",
    "    for example in data:\n",
    "        batch.append(example)\n",
    "\n",
    "        if len(batch) == batch_size:\n",
    "            yield batch\n",
    "            batch = []\n",
    "\n",
    "    # in case there is something left\n",
    "    if len(batch) > 0:\n",
    "        yield batch"
   ]
  },
  {
   "cell_type": "markdown",
   "metadata": {
    "colab_type": "text",
    "id": "DwZM-XYkT8Zx"
   },
   "source": [
    "#### Pad function\n",
    "We will need a function that adds padding 1s to a sequence of IDs so that\n",
    "it becomes as long as the longest sequencen in the minibatch."
   ]
  },
  {
   "cell_type": "code",
   "execution_count": 67,
   "metadata": {
    "colab": {},
    "colab_type": "code",
    "id": "sp0sK1ghw4Ft"
   },
   "outputs": [
    {
     "data": {
      "text/plain": [
       "[2, 3, 4, 1, 1]"
      ]
     },
     "execution_count": 67,
     "metadata": {},
     "output_type": "execute_result"
    }
   ],
   "source": [
    "def pad(tokens, length, pad_value=1):\n",
    "    \"\"\"add padding 1s to a sequence to that it has the desired length\"\"\"\n",
    "    return tokens + [pad_value] * (length - len(tokens))\n",
    "\n",
    "# example\n",
    "tokens = [2, 3, 4]\n",
    "pad(tokens, 5)"
   ]
  },
  {
   "cell_type": "markdown",
   "metadata": {
    "colab_type": "text",
    "id": "SL2iixMYUgfh"
   },
   "source": [
    "#### New prepare function\n",
    "\n",
    "We will also need a new function that turns a mini-batch into PyTorch tensors."
   ]
  },
  {
   "cell_type": "code",
   "execution_count": 68,
   "metadata": {
    "colab": {},
    "colab_type": "code",
    "id": "ZID0cqozWks8"
   },
   "outputs": [],
   "source": [
    "def prepare_minibatch(mb, vocab):\n",
    "    \"\"\"\n",
    "    Minibatch is a list of examples.\n",
    "    This function converts words to IDs and returns\n",
    "    torch tensors to be used as input/targets.\n",
    "    \"\"\"\n",
    "    batch_size = len(mb)\n",
    "    maxlen = max([len(ex.tokens) for ex in mb])\n",
    "\n",
    "    # vocab returns 0 if the word is not there\n",
    "    x = [pad([vocab.w2i.get(t, 0) for t in ex.tokens], maxlen) for ex in mb]\n",
    "\n",
    "    x = torch.LongTensor(x)\n",
    "    x = x.to(device)\n",
    "\n",
    "    y = [ex.label for ex in mb]\n",
    "    y = torch.LongTensor(y)\n",
    "    y = y.to(device)\n",
    "\n",
    "    return x, y"
   ]
  },
  {
   "cell_type": "code",
   "execution_count": 69,
   "metadata": {
    "colab": {},
    "colab_type": "code",
    "id": "OwDAtCv1x2hB"
   },
   "outputs": [
    {
     "name": "stdout",
     "output_type": "stream",
     "text": [
      "Example(tokens=['The', 'Rock', 'is', 'destined', 'to', 'be', 'the', '21st', 'Century', \"'s\", 'new', '``', 'Conan', \"''\", 'and', 'that', 'he', \"'s\", 'going', 'to', 'make', 'a', 'splash', 'even', 'greater', 'than', 'Arnold', 'Schwarzenegger', ',', 'Jean-Claud', 'Van', 'Damme', 'or', 'Steven', 'Segal', '.'], tree=Tree('3', [Tree('2', [Tree('2', ['The']), Tree('2', ['Rock'])]), Tree('4', [Tree('3', [Tree('2', ['is']), Tree('4', [Tree('2', ['destined']), Tree('2', [Tree('2', [Tree('2', [Tree('2', [Tree('2', ['to']), Tree('2', [Tree('2', ['be']), Tree('2', [Tree('2', ['the']), Tree('2', [Tree('2', ['21st']), Tree('2', [Tree('2', [Tree('2', ['Century']), Tree('2', [\"'s\"])]), Tree('2', [Tree('3', ['new']), Tree('2', [Tree('2', ['``']), Tree('2', ['Conan'])])])])])])])]), Tree('2', [\"''\"])]), Tree('2', ['and'])]), Tree('3', [Tree('2', ['that']), Tree('3', [Tree('2', ['he']), Tree('3', [Tree('2', [\"'s\"]), Tree('3', [Tree('2', ['going']), Tree('3', [Tree('2', ['to']), Tree('4', [Tree('3', [Tree('2', ['make']), Tree('3', [Tree('3', [Tree('2', ['a']), Tree('3', ['splash'])]), Tree('2', [Tree('2', ['even']), Tree('3', ['greater'])])])]), Tree('2', [Tree('2', ['than']), Tree('2', [Tree('2', [Tree('2', [Tree('2', [Tree('1', [Tree('2', ['Arnold']), Tree('2', ['Schwarzenegger'])]), Tree('2', [','])]), Tree('2', [Tree('2', ['Jean-Claud']), Tree('2', [Tree('2', ['Van']), Tree('2', ['Damme'])])])]), Tree('2', ['or'])]), Tree('2', [Tree('2', ['Steven']), Tree('2', ['Segal'])])])])])])])])])])])])]), Tree('2', ['.'])])]), label=3, transitions=[0, 0, 1, 0, 0, 0, 0, 0, 0, 0, 0, 1, 0, 0, 0, 1, 1, 1, 1, 1, 1, 1, 0, 1, 0, 1, 0, 0, 0, 0, 0, 0, 0, 0, 1, 0, 0, 1, 1, 1, 0, 0, 0, 1, 0, 1, 0, 0, 0, 1, 1, 1, 0, 1, 0, 0, 1, 1, 1, 1, 1, 1, 1, 1, 1, 1, 1, 1, 0, 1, 1])\n"
     ]
    }
   ],
   "source": [
    "# Let's test our new function.\n",
    "# This should give us 3 examples.\n",
    "mb = next(get_minibatch(train_data, batch_size=3, shuffle=False))\n",
    "for ex in mb:\n",
    "    print(ex)\n",
    "    break"
   ]
  },
  {
   "cell_type": "code",
   "execution_count": 70,
   "metadata": {
    "colab": {},
    "colab_type": "code",
    "id": "dg8zEK8zyUCH"
   },
   "outputs": [
    {
     "name": "stdout",
     "output_type": "stream",
     "text": [
      "x tensor([[   23,  1414,    11,  8222,     6,    27,     4,  2826,  3764,    21,\n",
      "            92,  5233,  8558, 15010,     5,    16,    53,    21,   183,     6,\n",
      "           107,     8,  7409,   148,  1552,    97,  6000, 10464,     2,     0,\n",
      "          2740, 15451,    33,  4008, 12925,     3,     1,     1,     1],\n",
      "        [   23, 15300,  6665,  8307,     7,  5233,    23,  1383,     7,     4,\n",
      "          4884, 15010,  8681,    11,    59,   933,    16,     8,  3045,     7,\n",
      "           566,    42,    36,  7800,  2886, 20302,  1433,  1977,    21,  4360,\n",
      "          2274,     7, 15256, 10099,    21, 15561,     3,     1,     1],\n",
      "        [    0,  5314,  3878,  7735,     8,  9726,     7,  1261,   158,     8,\n",
      "           219,  1060,  2187,     2,     8,   219,    50,   688, 11605,     6,\n",
      "             4,   414,   158,    43,     4,   494,  1568,  1214,  6985,     4,\n",
      "          2243,     2,  5986,     2,  2320,     7,     4,   982,     3]])\n",
      "y tensor([3, 4, 3])\n"
     ]
    }
   ],
   "source": [
    "# We should find 1s at the end where padding is.\n",
    "x, y = prepare_minibatch(mb, v)\n",
    "print(\"x\", x)\n",
    "print(\"y\", y)"
   ]
  },
  {
   "cell_type": "markdown",
   "metadata": {
    "colab_type": "text",
    "id": "xYBJEoSNUwI0"
   },
   "source": [
    "#### Evaluate (mini-batch version)\n",
    "\n",
    "We can now update our evaluation function to use minibatches"
   ]
  },
  {
   "cell_type": "code",
   "execution_count": 71,
   "metadata": {
    "colab": {},
    "colab_type": "code",
    "id": "eiZZpEghzqou"
   },
   "outputs": [],
   "source": [
    "def evaluate(model, data, \n",
    "             batch_fn=get_minibatch, prep_fn=prepare_minibatch,\n",
    "             batch_size=16):\n",
    "    \"\"\"Accuracy of a model on given data set (using minibatches)\"\"\"\n",
    "    correct = 0\n",
    "    total = 0\n",
    "    preds = list()\n",
    "    model.eval()  # disable dropout\n",
    "\n",
    "    for mb in batch_fn(data, batch_size=batch_size, shuffle=False):\n",
    "        x, targets = prep_fn(mb, model.vocab)\n",
    "        with torch.no_grad():\n",
    "            logits = model(x)\n",
    "\n",
    "        predictions = logits.argmax(dim=-1).view(-1)\n",
    "\n",
    "        # add the number of correct predictions to the total correct\n",
    "        correct += (predictions == targets.view(-1)).sum().item()\n",
    "        total += targets.size(0)\n",
    "        for i in range(predictions.size(0)):\n",
    "            preds.append(predictions[i].item())\n",
    "\n",
    "    return correct, preds, correct / float(total)"
   ]
  },
  {
   "cell_type": "markdown",
   "metadata": {
    "colab_type": "text",
    "id": "23wAZomozh_2"
   },
   "source": [
    "# LSTM (Mini-batched)"
   ]
  },
  {
   "cell_type": "markdown",
   "metadata": {
    "colab_type": "text",
    "id": "B-gkPU7jzBe2"
   },
   "source": [
    "With this, let's run the LSTM again but now using minibatches!"
   ]
  },
  {
   "cell_type": "code",
   "execution_count": 72,
   "metadata": {
    "colab": {},
    "colab_type": "code",
    "id": "226Xg9OPzFbA"
   },
   "outputs": [
    {
     "name": "stdout",
     "output_type": "stream",
     "text": [
      "Skipping checkpoints/LSTM_00.pt\n",
      "Skipping checkpoints/LSTM_01.pt\n",
      "Skipping checkpoints/LSTM_02.pt\n",
      "Skipping checkpoints/LSTM_03.pt\n",
      "Skipping checkpoints/LSTM_04.pt\n",
      "Skipping checkpoints/LSTM_05.pt\n",
      "Skipping checkpoints/LSTM_06.pt\n",
      "Skipping checkpoints/LSTM_07.pt\n",
      "Skipping checkpoints/LSTM_08.pt\n",
      "Skipping checkpoints/LSTM_09.pt\n"
     ]
    }
   ],
   "source": [
    "def get_lstm_model():\n",
    "    lstm_model = LSTMClassifier(len(v.w2i), 300, 168, len(t2i), v)\n",
    "\n",
    "    # copy pre-trained word vectors into embeddings table\n",
    "    with torch.no_grad():\n",
    "        lstm_model.embed.weight.data.copy_(torch.from_numpy(vectors))\n",
    "        lstm_model.embed.weight.requires_grad = False\n",
    "    return lstm_model\n",
    "\n",
    "train_model_default(get_lstm_model, 2e-4, \"LSTM\", batch_size=32, batch_fn=get_minibatch, prep_fn=prepare_minibatch, eval_fn=evaluate, num_iterations=10000, eval_every=250)"
   ]
  },
  {
   "cell_type": "code",
   "execution_count": 73,
   "metadata": {},
   "outputs": [
    {
     "name": "stdout",
     "output_type": "stream",
     "text": [
      "Loading model\n",
      "best model: train acc=0.5000, dev acc=0.4550, test acc=0.4629\n",
      "Loading model\n",
      "best model: train acc=0.5000, dev acc=0.4678, test acc=0.4615\n",
      "Loading model\n",
      "best model: train acc=0.5000, dev acc=0.4623, test acc=0.4710\n",
      "Loading model\n",
      "best model: train acc=0.5000, dev acc=0.4587, test acc=0.4738\n",
      "Loading model\n",
      "best model: train acc=0.5000, dev acc=0.4650, test acc=0.4561\n",
      "Loading model\n",
      "best model: train acc=0.5000, dev acc=0.4632, test acc=0.4534\n",
      "Loading model\n",
      "best model: train acc=0.5000, dev acc=0.4632, test acc=0.4819\n",
      "Loading model\n",
      "best model: train acc=0.5000, dev acc=0.4578, test acc=0.4710\n",
      "Loading model\n",
      "best model: train acc=0.5000, dev acc=0.4641, test acc=0.4679\n",
      "Loading model\n",
      "best model: train acc=0.5000, dev acc=0.4569, test acc=0.4710\n",
      "==================================================\n",
      "Test score: 46.71% (+-0.82)\n",
      "Validation score: 46.14% (+-0.39)\n"
     ]
    }
   ],
   "source": [
    "lstm_val_acc, lstm_test_acc = eval_model_default(get_lstm_model(), \"LSTM\")"
   ]
  },
  {
   "cell_type": "code",
   "execution_count": 74,
   "metadata": {
    "colab": {},
    "colab_type": "code",
    "id": "ymj1rLDMvyhp"
   },
   "outputs": [],
   "source": [
    "# plot validation accuracy\n",
    "# plt.plot(lstm_accuracies)"
   ]
  },
  {
   "cell_type": "code",
   "execution_count": 75,
   "metadata": {
    "colab": {},
    "colab_type": "code",
    "id": "1je5S1RHVC5R"
   },
   "outputs": [],
   "source": [
    "# plot training loss\n",
    "# plt.plot(lstm_losses)"
   ]
  },
  {
   "cell_type": "code",
   "execution_count": null,
   "metadata": {},
   "outputs": [],
   "source": []
  },
  {
   "cell_type": "markdown",
   "metadata": {
    "colab_type": "text",
    "id": "q7WjcxXntMi5"
   },
   "source": [
    "# Tree LSTM"
   ]
  },
  {
   "cell_type": "markdown",
   "metadata": {
    "colab_type": "text",
    "id": "jyj_UD6GtO5M"
   },
   "source": [
    "In the final part of this lab we will exploit the tree-structure of our data. \n",
    "Until now we only used the surface tokens, but remember that our data examples include trees with a sentiment score at every node.\n",
    "\n",
    "In particular, we will implement **N-ary Tree-LSTMs** which are described in:\n",
    "\n",
    "> Kai Sheng Tai, Richard Socher, and Christopher D. Manning. [Improved Semantic Representations From Tree-Structured Long Short-Term Memory Networks](http://aclweb.org/anthology/P/P15/P15-1150.pdf) ACL 2015.\n",
    "\n",
    "Since our trees are binary, N=2, and we can refer to these as *Binary Tree-LSTMs*.\n",
    "\n",
    "You should read this paper carefully and make sure that you understand the approach. You will also find our LSTM baseline there.\n",
    "Note however that Tree LSTMs were also invented around the same time by two other groups:\n",
    "\n",
    "> Phong Le and Willem Zuidema. [Compositional distributional semantics with long short term memory](http://anthology.aclweb.org/S/S15/S15-1002.pdf). *SEM 2015.\n",
    "\n",
    "> Xiaodan Zhu, Parinaz Sobihani,  and Hongyu Guo. [Long short-term memory over recursive structures](http://proceedings.mlr.press/v37/zhub15.pdf). ICML 2015.\n",
    "\n",
    "It is good scientific practice to cite all three papers in your report.\n",
    "\n",
    "If you study equations (9) to (14) in the paper, you will find that they are not all too different from the original LSTM that you already have.\n",
    "\n",
    "\n"
   ]
  },
  {
   "cell_type": "markdown",
   "metadata": {
    "colab_type": "text",
    "id": "1rDzvSos3JFp"
   },
   "source": [
    "## Computation\n",
    "\n",
    "Do you remember the `transitions_from_treestring` function all the way in the beginning of this lab? Every example contains a **transition sequence** made by this function. Let's look at it again:\n",
    "\n"
   ]
  },
  {
   "cell_type": "code",
   "execution_count": 76,
   "metadata": {
    "colab": {},
    "colab_type": "code",
    "id": "5pg0Xumc3ZUS"
   },
   "outputs": [
    {
     "name": "stdout",
     "output_type": "stream",
     "text": [
      "              3                                                                     \n",
      "  ____________|____________________                                                  \n",
      " |                                 4                                                \n",
      " |        _________________________|______________________________________________   \n",
      " |       4                                                                        | \n",
      " |    ___|______________                                                          |  \n",
      " |   |                  4                                                         | \n",
      " |   |         _________|__________                                               |  \n",
      " |   |        |                    3                                              | \n",
      " |   |        |               _____|______________________                        |  \n",
      " |   |        |              |                            4                       | \n",
      " |   |        |              |            ________________|_______                |  \n",
      " |   |        |              |           |                        2               | \n",
      " |   |        |              |           |                 _______|___            |  \n",
      " |   |        3              |           |                |           2           | \n",
      " |   |    ____|_____         |           |                |        ___|_____      |  \n",
      " |   |   |          4        |           3                |       2         |     | \n",
      " |   |   |     _____|___     |      _____|_______         |    ___|___      |     |  \n",
      " 2   2   2    3         2    2     3             2        2   2       2     2     2 \n",
      " |   |   |    |         |    |     |             |        |   |       |     |     |  \n",
      " It  's  a  lovely     film with lovely     performances  by Buy     and Accorsi  . \n",
      "\n",
      "Transitions:\n",
      "[0, 0, 0, 0, 0, 1, 1, 0, 0, 0, 1, 0, 0, 0, 1, 0, 1, 1, 1, 1, 1, 1, 0, 1, 1]\n"
     ]
    }
   ],
   "source": [
    "ex = next(examplereader(\"trees/dev.txt\"))\n",
    "print(TreePrettyPrinter(ex.tree))\n",
    "print(\"Transitions:\")\n",
    "print(ex.transitions)"
   ]
  },
  {
   "cell_type": "markdown",
   "metadata": {
    "colab_type": "text",
    "id": "ceBFe9fU4BI_"
   },
   "source": [
    "Note that the tree is **binary**. Every node has two children, except for pre-terminal nodes.\n",
    "\n",
    "A tree like this can be described by a sequence of **SHIFT (0)** and **REDUCE (1)** actions.\n",
    "\n",
    "We can use the transitions like this to construct the tree:\n",
    "- **reverse** the sentence (a list of tokens) and call this the **buffer**\n",
    "   - the first word is now on top (last in the list), and we would get it when calling pop() on the buffer\n",
    "- create an empty list and call it the **stack**\n",
    "- iterate through the transition sequence:\n",
    "  - if it says SHIFT(0), we pop a word from the buffer, and push it to the stack\n",
    "  - if it says REDUCE(1), we pop the **top two items** from the stack, and combine them (e.g. with a tree LSTM!), creating a new node that we push back on the stack\n",
    "  \n",
    "Convince yourself that going through the transition sequence above will result in the tree that you see.\n",
    "For example, we would start by putting the following words on the stack (by shifting 5 times, starting with `It`):\n",
    "\n",
    "```\n",
    "Top of the stack:\n",
    "-----------------\n",
    "film\n",
    "lovely\n",
    "a \n",
    "'s  \n",
    "It\n",
    "```\n",
    "Now we find a REDUCE in the transition sequence, so we get the top two words (film and lovely), and combine them, so our new stack becomes:\n",
    "```\n",
    "Top of the stack:\n",
    "-----------------\n",
    "lovely film\n",
    "a \n",
    "'s  \n",
    "It\n",
    "```\n",
    "\n",
    "We will use this approach when encoding sentences with our Tree LSTM.\n",
    "Now, our sentence is a (reversed) list of word embeddings.\n",
    "When we shift, we move a word embedding to the stack.\n",
    "When we reduce, we apply a Tree LSTM to the top two vectors, and the result is a single vector that we put back on the stack.\n",
    "After going through the whole transition sequence, we will have the root node on our stack! We can use that to classify the sentence.\n",
    "\n"
   ]
  },
  {
   "cell_type": "markdown",
   "metadata": {
    "colab_type": "text",
    "id": "pDWKShm1AfmR"
   },
   "source": [
    "## Obtaining the transition sequence\n"
   ]
  },
  {
   "cell_type": "markdown",
   "metadata": {
    "colab_type": "text",
    "id": "fO7VKWVpAbWj"
   },
   "source": [
    "\n",
    "So what goes on in the `transitions_from_treestring` function?\n",
    "\n",
    "The idea ([explained in this blog post](https://devblogs.nvidia.com/recursive-neural-networks-pytorch/)) is that, if we had a tree, we could traverse through the tree, and every time that we find a node containing only a word, we output a SHIFT.\n",
    "Every time **after** we have finished visiting the children of a node, we output a REDUCE.\n",
    "(What is this tree traversal called?)\n",
    "\n",
    "However, our `transitions_from_treestring` function operates directly on the string representation. It works as follows.\n",
    "\n",
    "We start with the representation:\n",
    "\n",
    "```\n",
    "(3 (2 It) (4 (4 (2 's) (4 (3 (2 a) (4 (3 lovely) (2 film))) (3 (2 with) (4 (3 (3 lovely) (2 performances)) (2 (2 by) (2 (2 (2 Buy) (2 and)) (2 Accorsi))))))) (2 .)))\n",
    "```\n",
    "\n",
    "First we remove pre-terminal nodes (and add spaces before closing brackets):\n",
    "\n",
    "```\n",
    "(3 It (4 (4 's (4 (3 a (4 lovely film ) ) (3 with (4 (3 lovely performances ) (2 by (2 (2 Buy and )  Accorsi ) ) ) ) ) ) . ) )\n",
    "```\n",
    "\n",
    "Then we remove node labels:\n",
    "\n",
    "```\n",
    "( It ( ( 's ( ( a ( lovely film ) ) ( with ( ( lovely performances) ( by ( ( Buy and )  Accorsi ) ) ) ) ) ) . ) )\n",
    "```\n",
    "\n",
    "Then we remove opening brackets:\n",
    "\n",
    "```\n",
    "It 's a lovely film ) ) with lovely performances ) by Buy and ) Accorsi ) ) ) ) ) ) . ) )\n",
    "```\n",
    "\n",
    "Now we replace words by S (for SHIFT), and closing brackets by R (for REDUCE):\n",
    "\n",
    "```\n",
    "S S S S S R R S S S R S S S R S R R R R R R S R R\n",
    "0 0 0 0 0 1 1 0 0 0 1 0 0 0 1 0 1 1 1 1 1 1 0 1 1 \n",
    "```\n",
    "\n",
    "Et voila. We just obtained the transition sequence!"
   ]
  },
  {
   "cell_type": "code",
   "execution_count": 77,
   "metadata": {
    "colab": {},
    "colab_type": "code",
    "id": "1y069gM4_v64"
   },
   "outputs": [
    {
     "name": "stdout",
     "output_type": "stream",
     "text": [
      "S S S S S R R S S S R S S S R S R R R R R R S R R\n",
      "0 0 0 0 0 1 1 0 0 0 1 0 0 0 1 0 1 1 1 1 1 1 0 1 1\n"
     ]
    }
   ],
   "source": [
    "# for comparison\n",
    "seq = ex.transitions\n",
    "s = \" \".join([\"S\" if t == 0 else \"R\" for t in seq])\n",
    "print(s)\n",
    "print(\" \".join(map(str, seq)))"
   ]
  },
  {
   "cell_type": "markdown",
   "metadata": {
    "colab_type": "text",
    "id": "d-qOuKbDAiBn"
   },
   "source": [
    "## Coding the Tree LSTM\n",
    "\n",
    "The code below contains a Binary Tree LSTM cell.\n",
    "It is used in the TreeLSTM class below it, which in turn is used in the TreeLSTMClassifier.\n",
    "The job of the TreeLSTM class is to encode a complete sentence and return the root node.\n",
    "The job of the TreeLSTMCell is to return a new state when provided with two children (a reduce action). By repeatedly calling the TreeLSTMCell, the TreeLSTM will encode a sentence. This can be done for multiple sentences at the same time.\n",
    "\n",
    "\n",
    "#### Exercise \n",
    "Check the `forward` function and complete the Tree LSTM formulas.\n",
    "You can see that we defined a large linear layer for you, that projects the *concatenation* of the left and right child into the input gate, left forget gate, right forget gate, candidate, and output gate."
   ]
  },
  {
   "cell_type": "code",
   "execution_count": 78,
   "metadata": {
    "colab": {},
    "colab_type": "code",
    "id": "J9b9mjMlN7Pb"
   },
   "outputs": [],
   "source": [
    "class TreeLSTMCell(nn.Module):\n",
    "    \"\"\"A Binary Tree LSTM cell\"\"\"\n",
    "\n",
    "    def __init__(self, input_size, hidden_size, bias=True):\n",
    "        \"\"\"Creates the weights for this LSTM\"\"\"\n",
    "        super(TreeLSTMCell, self).__init__()\n",
    "\n",
    "        self.input_size = input_size\n",
    "        self.hidden_size = hidden_size\n",
    "        self.bias = bias\n",
    "\n",
    "        self.reduce_layer = nn.Linear(2 * hidden_size, 5 * hidden_size)\n",
    "        self.dropout_layer = nn.Dropout(p=0.25)\n",
    "        self.tanh_act = nn.Tanh()\n",
    "        self.sigmoid_act = nn.Sigmoid()\n",
    "\n",
    "        self.reset_parameters()\n",
    "\n",
    "    def reset_parameters(self):\n",
    "        \"\"\"This is PyTorch's default initialization method\"\"\"\n",
    "        stdv = 1.0 / math.sqrt(self.hidden_size)\n",
    "        for weight in self.parameters():\n",
    "            weight.data.uniform_(-stdv, stdv)  \n",
    "\n",
    "    def forward(self, hx_l, hx_r, mask=None):\n",
    "        \"\"\"\n",
    "        hx_l is ((batch, hidden_size), (batch, hidden_size))\n",
    "        hx_r is ((batch, hidden_size), (batch, hidden_size))    \n",
    "        \"\"\"\n",
    "        prev_h_l, prev_c_l = hx_l  # left child\n",
    "        prev_h_r, prev_c_r = hx_r  # right child\n",
    "\n",
    "        B = prev_h_l.size(0)\n",
    "\n",
    "        # we concatenate the left and right children\n",
    "        # you can also project from them separately and then sum\n",
    "        children = torch.cat([prev_h_l, prev_h_r], dim=1)\n",
    "\n",
    "        # project the combined children into a 5D tensor for i,fl,fr,g,o\n",
    "        # this is done for speed, and you could also do it separately\n",
    "        proj = self.reduce_layer(children)  # shape: B x 5D\n",
    "\n",
    "        # each shape: B x D\n",
    "        i, f_l, f_r, g, o = torch.chunk(proj, 5, dim=-1)\n",
    "\n",
    "        # main Tree LSTM computation\n",
    "\n",
    "        # YOUR CODE HERE\n",
    "        # You only need to complete the commented lines below.\n",
    "\n",
    "        # The shape of each of these is [batch_size, hidden_size]\n",
    "\n",
    "        i = self.sigmoid_act(i)\n",
    "        f_l = self.sigmoid_act(f_l)    \n",
    "        f_r = self.sigmoid_act(f_r)\n",
    "        g = self.tanh_act(g)\n",
    "        o = self.sigmoid_act(o)\n",
    "\n",
    "        c = i * g + f_l * prev_c_l + f_r * prev_c_r\n",
    "        h = o * self.tanh_act(c)\n",
    "\n",
    "        return h, c\n",
    "\n",
    "    def __repr__(self):\n",
    "        return \"{}({:d}, {:d})\".format(\n",
    "            self.__class__.__name__, self.input_size, self.hidden_size)"
   ]
  },
  {
   "cell_type": "markdown",
   "metadata": {
    "colab_type": "text",
    "id": "Dj5dYSGh_643"
   },
   "source": [
    "## Explanation of the TreeLSTM class\n",
    "\n",
    "\n",
    "The code below contains the TreeLSTM class, which implements everything we need in order to encode a sentence from word embeddings. The calculations are the same as in the paper, implemented such that the class `TreeLSTMCell` above is as general as possible and only takes two children to reduce them into a parent. \n",
    "\n",
    "\n",
    "**Initialize $\\mathbf{h}$ and $\\mathbf{c}$ outside of the cell for the leaves**\n",
    "\n",
    "At the leaves of each tree the children nodes are **empty**, whereas in higher levels the nodes are binary tree nodes that *do* have a left and right child (but no input $x$). By initializing the leaf nodes outside of the cell class (`TreeLSTMCell`), we avoid if-else statements in the forward pass.\n",
    "\n",
    "The `TreeLSTM` class (among other things) pre-calculates an initial $h$ and $c$ for every word in the sentence. Since the initial left and right child are 0, the only calculations we need to do are based on $x$, and we can drop the forget gate calculation (`prev_c_l` and `prev_c_r` are zero). The calculations we do in order to initalize $h$ and $c$ are then:\n",
    "\n",
    "$$\n",
    "c_1 =  W^{(u)}x_1 \\\\\n",
    "o_1 = \\sigma (W^{(i)}x_1) \\\\\n",
    "h_1 = o_1 \\odot \\text{tanh}(c_1)$$\n",
    "*NB: note that these equations are chosen as initializations of $c$ and $h$, other initializations are possible and might work equally well.*\n",
    "\n",
    "**Sentence Representations**\n",
    "\n",
    "All our leaf nodes are now initialized, so we can start processing the sentence in its tree form. Each sentence is represented by a buffer (initially a list with a concatenation of $[h_1, c_1]$ for every word in the reversed sentence), a stack (initially an empty list) and a transition sequence. To encode our sentence, we construct the tree from its transition sequence as explained earlier. \n",
    "\n",
    "*A short example that constructs a tree:*\n",
    "\n",
    "We loop over the time dimension of the batched transition sequences (i.e. row by row), which contain values of 0's, 1's and 2's (representing SHIFT, REDUCE and padding respectively). If we have a batch of size 2 where the first example has a transition sequence given by [0, 0, 1, 0, 0, 0, 1] and the second by [0, 0, 1, 0, 0, 1], our transition batch will be given by the following two-dimensional numpy array:\n",
    "\n",
    "$$\n",
    "\\text{transitions} = \n",
    "\\begin{pmatrix}\n",
    "0 & 0\\\\ \n",
    "0 & 0\\\\ \n",
    "1 & 1\\\\ \n",
    "0 & 0\\\\ \n",
    "0 & 0\\\\ \n",
    "0 & 1\\\\ \n",
    "1 & 2\n",
    "\\end{pmatrix}\n",
    "$$\n",
    "The inner loop (`for transition, buffer, stack in zip(t_batch, buffers, stacks)`) goes over each example in the batch and updates its buffer and stack. The nested loop for this example will then do roughy the following:\n",
    "\n",
    "```\n",
    "Time = 0:  t_batch = [0, 0], the inner loop performs 2 SHIFTs. \n",
    "\n",
    "Time = 1:  t_batch = [0, 0], \"..\"\n",
    "\n",
    "Time = 2:  t_batch = [1, 1], causing the inner loop to fill the list child_l and child_r for both examples in the batch. Now the statement if child_l will return True, triggering a REDUCE action to be performed by our Tree LSTM cell with a batch size of 2. \n",
    "\n",
    "Time = 3:  t_batch = [0, 0], \"..\".\n",
    "\n",
    "Time = 4:  t_batch = [0, 0], \"..\"\n",
    "\n",
    "Time = 5:  t_batch = [0, 1], one SHIFT will be done and another REDUCE action will be performed by our Tree LSTM, this time of batch size 1.  \n",
    "\n",
    "Time = 6:  t_batch = [1, 2], triggering another REDUCE action with batch size 1.\n",
    "```\n",
    "*NB: note that this was an artificial example for the purpose of demonstrating parts of the code, the transition sequences do not necessarily represent actual trees.*\n",
    "\n",
    "**Batching and Unbatching**\n",
    "\n",
    "Within the body of the outer loop over time, we use the functions for batching and unbatching. \n",
    "\n",
    "*Batching*\n",
    "\n",
    "Before passing two lists of children to the reduce layer (an instance of `TreeLSTMCell`), we batch the children as they are at this point a list of tensors of variable length based on how many REDUCE actions there are to perform at a certain time step across the batch (let's call the length `L`). To do an efficient forward pass we want to transform the list to a pair of tensors of shape `([L, D], [L, D])`, which the function `batch` achieves. \n",
    "\n",
    "*Unbatching*\n",
    "\n",
    "In the same line where we batched the children, we unbatch the output of the forward pass to become a list of states of length `L` again. We do this because we need to loop over each example's transition at the current time step and push the children that are reduced into a parent to the stack.\n",
    "\n",
    "*The batch and unbatch functions let us switch between the \"PyTorch world\" (Tensors) and the Python world (easy to manipulate lists).*\n"
   ]
  },
  {
   "cell_type": "code",
   "execution_count": 79,
   "metadata": {
    "colab": {},
    "colab_type": "code",
    "id": "5PixvTd4AqsQ"
   },
   "outputs": [],
   "source": [
    "# Helper functions for batching and unbatching states\n",
    "# For speed we want to combine computations by batching, but \n",
    "# for processing logic we want to turn the output into lists again\n",
    "# to easily manipulate.\n",
    "\n",
    "def batch(states):\n",
    "    \"\"\"\n",
    "    Turns a list of states into a single tensor for fast processing. \n",
    "    This function also chunks (splits) each state into a (h, c) pair\"\"\"\n",
    "    return torch.cat(states, 0).chunk(2, 1)\n",
    "\n",
    "def unbatch(state):\n",
    "    \"\"\"\n",
    "    Turns a tensor back into a list of states.\n",
    "    First, (h, c) are merged into a single state.\n",
    "    Then the result is split into a list of sentences.\n",
    "    \"\"\"\n",
    "    return torch.split(torch.cat(state, 1), 1, 0)"
   ]
  },
  {
   "cell_type": "markdown",
   "metadata": {
    "colab_type": "text",
    "id": "CynltDasaLPt"
   },
   "source": [
    "Take some time to understand the class below, having read the explanation above."
   ]
  },
  {
   "cell_type": "code",
   "execution_count": 80,
   "metadata": {
    "colab": {},
    "colab_type": "code",
    "id": "rQOqMXG4gX5G"
   },
   "outputs": [],
   "source": [
    "class TreeLSTM(nn.Module):\n",
    "    \"\"\"Encodes a sentence using a TreeLSTMCell\"\"\"\n",
    "\n",
    "    def __init__(self, input_size, hidden_size, bias=True):\n",
    "        \"\"\"Creates the weights for this LSTM\"\"\"\n",
    "        super(TreeLSTM, self).__init__()\n",
    "\n",
    "        self.input_size = input_size\n",
    "        self.hidden_size = hidden_size\n",
    "        self.bias = bias\n",
    "        self.reduce = TreeLSTMCell(input_size, hidden_size)\n",
    "\n",
    "        # project word to initial c\n",
    "        self.proj_x = nn.Linear(input_size, hidden_size)\n",
    "        self.proj_x_gate = nn.Linear(input_size, hidden_size)\n",
    "\n",
    "        self.buffers_dropout = nn.Dropout(p=0.5)\n",
    "\n",
    "    def forward(self, x, transitions):\n",
    "        \"\"\"\n",
    "        WARNING: assuming x is reversed!\n",
    "        :param x: word embeddings [B, T, E]\n",
    "        :param transitions: [2T-1, B]\n",
    "        :return: root states\n",
    "        \"\"\"\n",
    "\n",
    "        B = x.size(0)  # batch size\n",
    "        T = x.size(1)  # time\n",
    "\n",
    "        # compute an initial c and h for each word\n",
    "        # Note: this corresponds to input x in the Tai et al. Tree LSTM paper.\n",
    "        # We do not handle input x in the TreeLSTMCell itself.\n",
    "        buffers_c = self.proj_x(x)\n",
    "        buffers_h = buffers_c.tanh()\n",
    "        buffers_h_gate = self.proj_x_gate(x).sigmoid()\n",
    "        buffers_h = buffers_h_gate * buffers_h\n",
    "\n",
    "        # concatenate h and c for each word\n",
    "        buffers = torch.cat([buffers_h, buffers_c], dim=-1)\n",
    "\n",
    "        D = buffers.size(-1) // 2\n",
    "\n",
    "        # we turn buffers into a list of stacks (1 stack for each sentence)\n",
    "        # first we split buffers so that it is a list of sentences (length B)\n",
    "        # then we split each sentence to be a list of word vectors\n",
    "        buffers = buffers.split(1, dim=0)  # Bx[T, 2D]\n",
    "        buffers = [list(b.squeeze(0).split(1, dim=0)) for b in buffers]  # BxTx[2D]\n",
    "\n",
    "        # create B empty stacks\n",
    "        stacks = [[] for _ in buffers]\n",
    "\n",
    "        # t_batch holds 1 transition for each sentence\n",
    "        for t_batch in transitions:\n",
    "\n",
    "            child_l = []  # contains the left child for each sentence with reduce action\n",
    "            child_r = []  # contains the corresponding right child\n",
    "\n",
    "            # iterate over sentences in the batch\n",
    "            # each has a transition t, a buffer and a stack\n",
    "            for transition, buffer, stack in zip(t_batch, buffers, stacks):\n",
    "                if transition == SHIFT:\n",
    "                    stack.append(buffer.pop())\n",
    "                elif transition == REDUCE:\n",
    "                    assert len(stack) >= 2, \\\n",
    "                        \"Stack too small! Should not happen with valid transition sequences\"\n",
    "                    child_r.append(stack.pop())  # right child is on top\n",
    "                    child_l.append(stack.pop())\n",
    "\n",
    "            # if there are sentences with reduce transition, perform them batched\n",
    "            if child_l:\n",
    "                reduced = iter(unbatch(self.reduce(batch(child_l), batch(child_r))))\n",
    "                for transition, stack in zip(t_batch, stacks):\n",
    "                    if transition == REDUCE:\n",
    "                        stack.append(next(reduced))\n",
    "\n",
    "        final = [stack.pop().chunk(2, -1)[0] for stack in stacks]\n",
    "        final = torch.cat(final, dim=0)  # tensor [B, D]\n",
    "\n",
    "        return final"
   ]
  },
  {
   "cell_type": "markdown",
   "metadata": {
    "colab_type": "text",
    "id": "s4EzbVzqaXkw"
   },
   "source": [
    "Just like the LSTM before, we will need an extra class that does the classifications."
   ]
  },
  {
   "cell_type": "code",
   "execution_count": 81,
   "metadata": {
    "colab": {},
    "colab_type": "code",
    "id": "nLxpYRvtQKge"
   },
   "outputs": [],
   "source": [
    "class TreeLSTMClassifier(nn.Module):\n",
    "    \"\"\"Encodes sentence with a TreeLSTM and projects final hidden state\"\"\"\n",
    "\n",
    "    def __init__(self, vocab_size, embedding_dim, hidden_dim, output_dim, vocab):\n",
    "        super(TreeLSTMClassifier, self).__init__()\n",
    "        self.vocab = vocab\n",
    "        self.hidden_dim = hidden_dim\n",
    "        self.embed = nn.Embedding(vocab_size, embedding_dim, padding_idx=1)\n",
    "        self.treelstm = TreeLSTM(embedding_dim, hidden_dim)\n",
    "        self.output_layer = nn.Sequential(     \n",
    "            nn.Dropout(p=0.5),\n",
    "            nn.Linear(hidden_dim, output_dim, bias=True)\n",
    "            )\n",
    "\n",
    "    def forward(self, x):\n",
    "\n",
    "        # x is a pair here of words and transitions; we unpack it here.\n",
    "        # x is batch-major: [B, T], transitions is time major [2T-1, B]\n",
    "        x, transitions = x\n",
    "        emb = self.embed(x)\n",
    "\n",
    "        # we use the root/top state of the Tree LSTM to classify the sentence\n",
    "        root_states = self.treelstm(emb, transitions)\n",
    "\n",
    "        # we use the last hidden state to classify the sentence\n",
    "        logits = self.output_layer(root_states)\n",
    "        return logits"
   ]
  },
  {
   "cell_type": "markdown",
   "metadata": {
    "colab_type": "text",
    "id": "gh9RbhGwaiLg"
   },
   "source": [
    "## Special prepare function for Tree LSTM\n",
    "\n",
    "We need yet another prepare function. For our implementation our sentences to be *reversed*. We will do that here."
   ]
  },
  {
   "cell_type": "code",
   "execution_count": 82,
   "metadata": {
    "colab": {},
    "colab_type": "code",
    "id": "DiqH-_2xdm9H"
   },
   "outputs": [],
   "source": [
    "def prepare_treelstm_minibatch(mb, vocab):\n",
    "    \"\"\"\n",
    "    Returns sentences reversed (last word first)\n",
    "    Returns transitions together with the sentences.  \n",
    "    \"\"\"\n",
    "    batch_size = len(mb)\n",
    "    maxlen = max([len(ex.tokens) for ex in mb])\n",
    "\n",
    "    # vocab returns 0 if the word is not there\n",
    "    # NOTE: reversed sequence!\n",
    "    x = [pad([vocab.w2i.get(t, 0) for t in ex.tokens], maxlen)[::-1] for ex in mb]\n",
    "\n",
    "    x = torch.LongTensor(x)\n",
    "    x = x.to(device)\n",
    "\n",
    "    y = [ex.label for ex in mb]\n",
    "    y = torch.LongTensor(y)\n",
    "    y = y.to(device)\n",
    "\n",
    "    maxlen_t = max([len(ex.transitions) for ex in mb])\n",
    "    transitions = [pad(ex.transitions, maxlen_t, pad_value=2) for ex in mb]\n",
    "    transitions = np.array(transitions)\n",
    "    transitions = transitions.T  # time-major\n",
    "\n",
    "    return (x, transitions), y"
   ]
  },
  {
   "cell_type": "markdown",
   "metadata": {
    "colab_type": "text",
    "id": "IMUsrlL9ayVe"
   },
   "source": [
    "## Training"
   ]
  },
  {
   "cell_type": "code",
   "execution_count": 83,
   "metadata": {
    "colab": {},
    "colab_type": "code",
    "id": "IpOYUdg2D3v0",
    "scrolled": true
   },
   "outputs": [
    {
     "name": "stdout",
     "output_type": "stream",
     "text": [
      "Skipping checkpoints/TreeLSTM_00.pt\n",
      "Skipping checkpoints/TreeLSTM_01.pt\n",
      "Skipping checkpoints/TreeLSTM_02.pt\n",
      "Skipping checkpoints/TreeLSTM_03.pt\n",
      "Skipping checkpoints/TreeLSTM_04.pt\n",
      "Skipping checkpoints/TreeLSTM_05.pt\n",
      "Skipping checkpoints/TreeLSTM_06.pt\n",
      "Skipping checkpoints/TreeLSTM_07.pt\n",
      "Skipping checkpoints/TreeLSTM_08.pt\n",
      "Skipping checkpoints/TreeLSTM_09.pt\n"
     ]
    }
   ],
   "source": [
    "# Now let's train the Tree LSTM!\n",
    "\n",
    "def get_tree_lstm():\n",
    "    tree_model = TreeLSTMClassifier(\n",
    "        len(v.w2i), 300, 150, len(t2i), v)\n",
    "\n",
    "    with torch.no_grad():\n",
    "        tree_model.embed.weight.data.copy_(torch.from_numpy(vectors))\n",
    "        tree_model.embed.weight.requires_grad = False\n",
    "    \n",
    "    return tree_model\n",
    "  \n",
    "# results = do_train(tree_model)\n",
    "train_model_default(get_tree_lstm, 2e-4, \"TreeLSTM\", batch_size=32, batch_fn=get_minibatch, prep_fn=prepare_treelstm_minibatch, eval_fn=evaluate, num_iterations=10000, eval_every=250)"
   ]
  },
  {
   "cell_type": "code",
   "execution_count": 84,
   "metadata": {
    "colab": {},
    "colab_type": "code",
    "id": "DHcHHaLtguUg"
   },
   "outputs": [
    {
     "name": "stdout",
     "output_type": "stream",
     "text": [
      "Loading model\n",
      "best model: train acc=0.5000, dev acc=0.4668, test acc=0.4747\n",
      "Loading model\n",
      "best model: train acc=0.5000, dev acc=0.4687, test acc=0.4742\n",
      "Loading model\n",
      "best model: train acc=0.5000, dev acc=0.4659, test acc=0.4959\n",
      "Loading model\n",
      "best model: train acc=0.5000, dev acc=0.4668, test acc=0.4774\n",
      "Loading model\n",
      "best model: train acc=0.5000, dev acc=0.4723, test acc=0.4778\n",
      "Loading model\n",
      "best model: train acc=0.5000, dev acc=0.4659, test acc=0.4629\n",
      "Loading model\n",
      "best model: train acc=0.5000, dev acc=0.4650, test acc=0.4665\n",
      "Loading model\n",
      "best model: train acc=0.5000, dev acc=0.4787, test acc=0.4697\n",
      "Loading model\n",
      "best model: train acc=0.5000, dev acc=0.4659, test acc=0.4833\n",
      "Loading model\n",
      "best model: train acc=0.5000, dev acc=0.4641, test acc=0.4760\n",
      "==================================================\n",
      "Test score: 47.58% (+-0.87)\n",
      "Validation score: 46.80% (+-0.41)\n"
     ]
    }
   ],
   "source": [
    "tree_lstm_val_acc, tree_lstm_test_acc = eval_model_default(get_tree_lstm(), \"TreeLSTM\", batch_fn=get_minibatch, prep_fn=prepare_treelstm_minibatch, eval_fn=evaluate)"
   ]
  },
  {
   "cell_type": "code",
   "execution_count": 85,
   "metadata": {},
   "outputs": [],
   "source": [
    "# plt.plot(results[1])"
   ]
  },
  {
   "cell_type": "code",
   "execution_count": 195,
   "metadata": {},
   "outputs": [
    {
     "name": "stdout",
     "output_type": "stream",
     "text": [
      "iter 200: dev acc=0.3733\n",
      "new highscore\n",
      "iter 400: dev acc=0.4069\n",
      "new highscore\n",
      "iter 600: dev acc=0.4223\n",
      "new highscore\n",
      "iter 800: dev acc=0.4242\n",
      "new highscore\n",
      "iter 1000: dev acc=0.4287\n",
      "new highscore\n",
      "iter 1200: dev acc=0.4360\n",
      "new highscore\n",
      "iter 1400: dev acc=0.4523\n",
      "new highscore\n",
      "iter 1600: dev acc=0.4487\n",
      "iter 1800: dev acc=0.4487\n",
      "iter 2000: dev acc=0.4559\n",
      "new highscore\n",
      "iter 2200: dev acc=0.4559\n",
      "iter 2400: dev acc=0.4342\n",
      "iter 2600: dev acc=0.4541\n",
      "iter 2800: dev acc=0.4714\n",
      "new highscore\n",
      "iter 3000: dev acc=0.4632\n",
      "iter 3200: dev acc=0.4578\n",
      "iter 3400: dev acc=0.4487\n",
      "iter 3600: dev acc=0.4678\n",
      "iter 3800: dev acc=0.4614\n",
      "iter 4000: dev acc=0.4405\n",
      "iter 4200: dev acc=0.4478\n",
      "iter 4400: dev acc=0.4587\n",
      "iter 4600: dev acc=0.4578\n",
      "iter 4800: dev acc=0.4460\n",
      "iter 5000: dev acc=0.4469\n",
      "iter 5200: dev acc=0.4450\n",
      "iter 5400: dev acc=0.4505\n",
      "iter 5600: dev acc=0.4423\n",
      "iter 5800: dev acc=0.4423\n",
      "iter 6000: dev acc=0.4414\n",
      "iter 6200: dev acc=0.4360\n",
      "iter 6400: dev acc=0.4396\n",
      "iter 6600: dev acc=0.4251\n",
      "iter 6800: dev acc=0.4033\n",
      "iter 7000: dev acc=0.4233\n",
      "iter 7200: dev acc=0.4332\n",
      "iter 7400: dev acc=0.4151\n",
      "iter 7600: dev acc=0.4060\n",
      "iter 7800: dev acc=0.4096\n",
      "iter 8000: dev acc=0.4223\n",
      "iter 8200: dev acc=0.4214\n",
      "iter 8400: dev acc=0.4160\n",
      "iter 8600: dev acc=0.4087\n",
      "iter 8800: dev acc=0.4024\n",
      "iter 9000: dev acc=0.3969\n",
      "iter 9200: dev acc=0.4096\n",
      "iter 9400: dev acc=0.4087\n",
      "iter 9600: dev acc=0.3906\n",
      "iter 9800: dev acc=0.4015\n",
      "Iter 10000: loss=8911.3168, time=1996.87s\n",
      "iter 10000: dev acc=0.4069\n",
      "iter 10200: dev acc=0.4069\n",
      "iter 10400: dev acc=0.3969\n",
      "iter 10600: dev acc=0.3987\n",
      "iter 10800: dev acc=0.4069\n",
      "iter 11000: dev acc=0.4133\n",
      "iter 11200: dev acc=0.4060\n",
      "iter 11400: dev acc=0.4096\n",
      "iter 11600: dev acc=0.4051\n",
      "iter 11800: dev acc=0.4078\n",
      "iter 12000: dev acc=0.4196\n",
      "iter 12200: dev acc=0.4051\n",
      "iter 12400: dev acc=0.4124\n",
      "iter 12600: dev acc=0.4015\n",
      "iter 12800: dev acc=0.3969\n",
      "iter 13000: dev acc=0.4060\n",
      "iter 13200: dev acc=0.4051\n",
      "iter 13400: dev acc=0.4005\n",
      "iter 13600: dev acc=0.4242\n",
      "iter 13800: dev acc=0.3887\n",
      "iter 14000: dev acc=0.3933\n",
      "iter 14200: dev acc=0.4051\n",
      "iter 14400: dev acc=0.4069\n",
      "iter 14600: dev acc=0.4042\n",
      "iter 14800: dev acc=0.4105\n",
      "iter 15000: dev acc=0.4105\n",
      "iter 15200: dev acc=0.3878\n",
      "iter 15400: dev acc=0.4042\n",
      "iter 15600: dev acc=0.4178\n",
      "iter 15800: dev acc=0.4069\n",
      "iter 16000: dev acc=0.4033\n",
      "iter 16200: dev acc=0.4015\n",
      "iter 16400: dev acc=0.3851\n",
      "iter 16600: dev acc=0.3942\n",
      "iter 16800: dev acc=0.3987\n",
      "iter 17000: dev acc=0.4033\n",
      "iter 17200: dev acc=0.4142\n",
      "iter 17400: dev acc=0.4105\n",
      "iter 17600: dev acc=0.3942\n",
      "iter 17800: dev acc=0.3996\n",
      "iter 18000: dev acc=0.4042\n",
      "iter 18200: dev acc=0.4133\n",
      "iter 18400: dev acc=0.4060\n",
      "iter 18600: dev acc=0.4060\n",
      "iter 18800: dev acc=0.4187\n",
      "iter 19000: dev acc=0.3987\n",
      "iter 19200: dev acc=0.4069\n",
      "iter 19400: dev acc=0.4087\n",
      "iter 19600: dev acc=0.4069\n",
      "iter 19800: dev acc=0.4060\n",
      "Iter 20000: loss=1698.4622, time=3983.54s\n",
      "iter 20000: dev acc=0.3951\n",
      "iter 20200: dev acc=0.3960\n",
      "iter 20400: dev acc=0.3933\n",
      "iter 20600: dev acc=0.4133\n",
      "iter 20800: dev acc=0.3942\n",
      "iter 21000: dev acc=0.4042\n",
      "iter 21200: dev acc=0.4114\n",
      "iter 21400: dev acc=0.4069\n",
      "iter 21600: dev acc=0.3896\n",
      "iter 21800: dev acc=0.3996\n",
      "iter 22000: dev acc=0.3933\n",
      "iter 22200: dev acc=0.3833\n",
      "iter 22400: dev acc=0.4133\n",
      "iter 22600: dev acc=0.3915\n",
      "iter 22800: dev acc=0.4142\n",
      "iter 23000: dev acc=0.3969\n",
      "iter 23200: dev acc=0.4096\n",
      "iter 23400: dev acc=0.4078\n",
      "iter 23600: dev acc=0.4078\n",
      "iter 23800: dev acc=0.4133\n",
      "iter 24000: dev acc=0.4042\n",
      "iter 24200: dev acc=0.4124\n",
      "iter 24400: dev acc=0.4105\n",
      "iter 24600: dev acc=0.3933\n",
      "iter 24800: dev acc=0.3915\n",
      "iter 25000: dev acc=0.4033\n",
      "iter 25200: dev acc=0.4087\n",
      "iter 25400: dev acc=0.3906\n",
      "iter 25600: dev acc=0.3942\n",
      "iter 25800: dev acc=0.3996\n",
      "iter 26000: dev acc=0.3996\n",
      "iter 26200: dev acc=0.3969\n",
      "iter 26400: dev acc=0.3915\n",
      "iter 26600: dev acc=0.3978\n",
      "iter 26800: dev acc=0.3987\n",
      "iter 27000: dev acc=0.3842\n",
      "iter 27200: dev acc=0.3969\n",
      "iter 27400: dev acc=0.3951\n",
      "iter 27600: dev acc=0.3978\n",
      "iter 27800: dev acc=0.3987\n",
      "iter 28000: dev acc=0.3996\n",
      "iter 28200: dev acc=0.4005\n",
      "iter 28400: dev acc=0.3996\n",
      "iter 28600: dev acc=0.3987\n",
      "iter 28800: dev acc=0.3951\n",
      "iter 29000: dev acc=0.4114\n",
      "iter 29200: dev acc=0.3915\n",
      "iter 29400: dev acc=0.3978\n",
      "iter 29600: dev acc=0.4051\n",
      "iter 29800: dev acc=0.4069\n",
      "Iter 30000: loss=481.1598, time=6145.26s\n",
      "iter 30000: dev acc=0.4042\n",
      "iter 30200: dev acc=0.4142\n",
      "iter 30400: dev acc=0.4024\n",
      "iter 30600: dev acc=0.4005\n",
      "iter 30800: dev acc=0.4142\n",
      "iter 31000: dev acc=0.4133\n",
      "iter 31200: dev acc=0.4051\n",
      "iter 31400: dev acc=0.4033\n",
      "iter 31600: dev acc=0.3896\n",
      "iter 31800: dev acc=0.3969\n",
      "iter 32000: dev acc=0.3933\n",
      "iter 32200: dev acc=0.4051\n",
      "iter 32400: dev acc=0.4087\n",
      "iter 32600: dev acc=0.4060\n",
      "iter 32800: dev acc=0.3996\n",
      "iter 33000: dev acc=0.3960\n",
      "iter 33200: dev acc=0.3987\n",
      "iter 33400: dev acc=0.3869\n",
      "iter 33600: dev acc=0.3924\n",
      "iter 33800: dev acc=0.3924\n",
      "iter 34000: dev acc=0.3996\n",
      "iter 34200: dev acc=0.3951\n",
      "iter 34400: dev acc=0.4015\n",
      "iter 34600: dev acc=0.4005\n",
      "iter 34800: dev acc=0.3933\n",
      "iter 35000: dev acc=0.3987\n",
      "iter 35200: dev acc=0.3942\n",
      "iter 35400: dev acc=0.4069\n",
      "iter 35600: dev acc=0.4187\n",
      "iter 35800: dev acc=0.4069\n",
      "iter 36000: dev acc=0.3996\n",
      "iter 36200: dev acc=0.4060\n",
      "iter 36400: dev acc=0.3933\n",
      "iter 36600: dev acc=0.3887\n",
      "iter 36800: dev acc=0.3887\n",
      "iter 37000: dev acc=0.3815\n",
      "iter 37200: dev acc=0.3978\n",
      "iter 37400: dev acc=0.3978\n",
      "iter 37600: dev acc=0.3978\n",
      "iter 37800: dev acc=0.3960\n",
      "iter 38000: dev acc=0.4024\n",
      "iter 38200: dev acc=0.3869\n",
      "iter 38400: dev acc=0.3942\n",
      "iter 38600: dev acc=0.3996\n",
      "iter 38800: dev acc=0.4015\n",
      "iter 39000: dev acc=0.4042\n",
      "iter 39200: dev acc=0.4033\n",
      "iter 39400: dev acc=0.4005\n",
      "iter 39600: dev acc=0.4024\n",
      "iter 39800: dev acc=0.4060\n",
      "Iter 40000: loss=263.3028, time=8337.16s\n",
      "iter 40000: dev acc=0.4105\n",
      "iter 40200: dev acc=0.4060\n",
      "iter 40400: dev acc=0.4042\n",
      "iter 40600: dev acc=0.4024\n",
      "iter 40800: dev acc=0.3996\n",
      "iter 41000: dev acc=0.3996\n",
      "iter 41200: dev acc=0.4060\n",
      "iter 41400: dev acc=0.4069\n",
      "iter 41600: dev acc=0.4096\n",
      "iter 41800: dev acc=0.4142\n",
      "iter 42000: dev acc=0.4033\n",
      "iter 42200: dev acc=0.4015\n",
      "iter 42400: dev acc=0.3960\n",
      "iter 42600: dev acc=0.3978\n",
      "iter 42800: dev acc=0.4024\n",
      "iter 43000: dev acc=0.3924\n",
      "iter 43200: dev acc=0.3996\n",
      "iter 43400: dev acc=0.4160\n",
      "iter 43600: dev acc=0.3978\n",
      "iter 43800: dev acc=0.4069\n",
      "iter 44000: dev acc=0.4051\n",
      "iter 44200: dev acc=0.4078\n",
      "iter 44400: dev acc=0.4051\n",
      "iter 44600: dev acc=0.4051\n",
      "iter 44800: dev acc=0.4060\n",
      "iter 45000: dev acc=0.4069\n",
      "iter 45200: dev acc=0.4024\n",
      "iter 45400: dev acc=0.4124\n",
      "iter 45600: dev acc=0.4151\n",
      "iter 45800: dev acc=0.4060\n",
      "iter 46000: dev acc=0.4124\n",
      "iter 46200: dev acc=0.4124\n",
      "iter 46400: dev acc=0.3906\n",
      "iter 46600: dev acc=0.4105\n",
      "iter 46800: dev acc=0.4078\n",
      "iter 47000: dev acc=0.4015\n",
      "iter 47200: dev acc=0.4051\n",
      "iter 47400: dev acc=0.3987\n",
      "iter 47600: dev acc=0.4069\n",
      "iter 47800: dev acc=0.4060\n",
      "iter 48000: dev acc=0.3996\n",
      "iter 48200: dev acc=0.4060\n",
      "iter 48400: dev acc=0.4096\n",
      "iter 48600: dev acc=0.4105\n",
      "iter 48800: dev acc=0.4187\n",
      "iter 49000: dev acc=0.4114\n",
      "iter 49200: dev acc=0.4033\n",
      "iter 49400: dev acc=0.4015\n",
      "iter 49600: dev acc=0.4060\n",
      "iter 49800: dev acc=0.4096\n",
      "Iter 50000: loss=180.5444, time=10569.26s\n",
      "iter 50000: dev acc=0.3960\n",
      "Done training\n",
      "Loading best model\n",
      "best model iter 2800: train acc=0.5543, dev acc=0.4714, test acc=0.4710\n"
     ]
    }
   ],
   "source": [
    "model = get_tree_lstm()\n",
    "model = model.to(device)\n",
    "optimizer = optim.Adam(model.parameters(), lr=2e-4)\n",
    "_,tree_lstm_single_run_accuracies,_ = train_model(\n",
    "    model, optimizer, num_iterations=50000, \n",
    "    print_every=10000, eval_every=200, batch_size = 32, file_prefix=\"TreeLSTM_EvalRun\",batch_fn=get_minibatch, \n",
    "    prep_fn=prepare_treelstm_minibatch,eval_fn=evaluate, dataset_train=train_data)\n",
    "\n",
    "del model\n",
    "del optimizer\n",
    "torch.cuda.empty_cache()  "
   ]
  },
  {
   "cell_type": "code",
   "execution_count": 196,
   "metadata": {},
   "outputs": [
    {
     "name": "stdout",
     "output_type": "stream",
     "text": [
      "[0.37329700272479566, 0.4069028156221617, 0.4223433242506812, 0.42415985467756584, 0.4287011807447775, 0.4359673024523161, 0.45231607629427795, 0.44868301544050865, 0.44868301544050865, 0.45594913714804725, 0.45594913714804725, 0.43415077202543145, 0.45413260672116257, 0.4713896457765668, 0.46321525885558584, 0.45776566757493187, 0.44868301544050865, 0.4677565849227975, 0.46139872842870117, 0.4405086285195277, 0.4477747502270663, 0.4586739327883742, 0.45776566757493187, 0.44595821980018163, 0.44686648501362397, 0.44504995458673935, 0.45049954586739327, 0.44232515894641233, 0.44232515894641233, 0.44141689373297005, 0.4359673024523161, 0.4396003633060854, 0.4250681198910082, 0.4032697547683924, 0.4232515894641235, 0.4332425068119891, 0.4150772025431426, 0.40599455040871935, 0.40962761126248864, 0.4223433242506812, 0.4214350590372389, 0.4159854677565849, 0.4087193460490463, 0.40236148955495005, 0.39691189827429607, 0.40962761126248864, 0.4087193460490463, 0.3905540417801998, 0.4014532243415077, 0.4069028156221617, 0.4069028156221617, 0.39691189827429607, 0.39872842870118075, 0.4069028156221617, 0.41326067211625794, 0.40599455040871935, 0.40962761126248864, 0.405086285195277, 0.407811080835604, 0.4196185286103542, 0.405086285195277, 0.4123524069028156, 0.4014532243415077, 0.39691189827429607, 0.40599455040871935, 0.405086285195277, 0.40054495912806537, 0.42415985467756584, 0.3887375113533152, 0.3932788374205268, 0.405086285195277, 0.4069028156221617, 0.40417801998183467, 0.410535876475931, 0.410535876475931, 0.38782924613987285, 0.40417801998183467, 0.4178019981834696, 0.4069028156221617, 0.4032697547683924, 0.4014532243415077, 0.3851044504995459, 0.3941871026339691, 0.39872842870118075, 0.4032697547683924, 0.4141689373297003, 0.410535876475931, 0.3941871026339691, 0.3996366939146231, 0.40417801998183467, 0.41326067211625794, 0.40599455040871935, 0.40599455040871935, 0.4187102633969119, 0.39872842870118075, 0.4069028156221617, 0.4087193460490463, 0.4069028156221617, 0.40599455040871935, 0.39509536784741145, 0.3960036330608538, 0.3932788374205268, 0.41326067211625794, 0.3941871026339691, 0.40417801998183467, 0.4114441416893733, 0.4069028156221617, 0.3896457765667575, 0.3996366939146231, 0.3932788374205268, 0.3832879200726612, 0.41326067211625794, 0.39146230699364215, 0.4141689373297003, 0.39691189827429607, 0.40962761126248864, 0.407811080835604, 0.407811080835604, 0.41326067211625794, 0.40417801998183467, 0.4123524069028156, 0.410535876475931, 0.3932788374205268, 0.39146230699364215, 0.4032697547683924, 0.4087193460490463, 0.3905540417801998, 0.3941871026339691, 0.3996366939146231, 0.3996366939146231, 0.39691189827429607, 0.39146230699364215, 0.3978201634877384, 0.39872842870118075, 0.38419618528610355, 0.39691189827429607, 0.39509536784741145, 0.3978201634877384, 0.39872842870118075, 0.3996366939146231, 0.40054495912806537, 0.3996366939146231, 0.39872842870118075, 0.39509536784741145, 0.4114441416893733, 0.39146230699364215, 0.3978201634877384, 0.405086285195277, 0.4069028156221617, 0.40417801998183467, 0.4141689373297003, 0.40236148955495005, 0.40054495912806537, 0.4141689373297003, 0.41326067211625794, 0.405086285195277, 0.4032697547683924, 0.3896457765667575, 0.39691189827429607, 0.3932788374205268, 0.405086285195277, 0.4087193460490463, 0.40599455040871935, 0.3996366939146231, 0.3960036330608538, 0.39872842870118075, 0.3869209809264305, 0.3923705722070845, 0.3923705722070845, 0.3996366939146231, 0.39509536784741145, 0.4014532243415077, 0.40054495912806537, 0.3932788374205268, 0.39872842870118075, 0.3941871026339691, 0.4069028156221617, 0.4187102633969119, 0.4069028156221617, 0.3996366939146231, 0.40599455040871935, 0.3932788374205268, 0.3887375113533152, 0.3887375113533152, 0.3814713896457766, 0.3978201634877384, 0.3978201634877384, 0.3978201634877384, 0.3960036330608538, 0.40236148955495005, 0.3869209809264305, 0.3941871026339691, 0.3996366939146231, 0.4014532243415077, 0.40417801998183467, 0.4032697547683924, 0.40054495912806537, 0.40236148955495005, 0.40599455040871935, 0.410535876475931, 0.40599455040871935, 0.40417801998183467, 0.40236148955495005, 0.3996366939146231, 0.3996366939146231, 0.40599455040871935, 0.4069028156221617, 0.40962761126248864, 0.4141689373297003, 0.4032697547683924, 0.4014532243415077, 0.3960036330608538, 0.3978201634877384, 0.40236148955495005, 0.3923705722070845, 0.3996366939146231, 0.4159854677565849, 0.3978201634877384, 0.4069028156221617, 0.405086285195277, 0.407811080835604, 0.405086285195277, 0.405086285195277, 0.40599455040871935, 0.4069028156221617, 0.40236148955495005, 0.4123524069028156, 0.4150772025431426, 0.40599455040871935, 0.4123524069028156, 0.4123524069028156, 0.3905540417801998, 0.410535876475931, 0.407811080835604, 0.4014532243415077, 0.405086285195277, 0.39872842870118075, 0.4069028156221617, 0.40599455040871935, 0.3996366939146231, 0.40599455040871935, 0.40962761126248864, 0.410535876475931, 0.4187102633969119, 0.4114441416893733, 0.4032697547683924, 0.4014532243415077, 0.40599455040871935, 0.40962761126248864, 0.3960036330608538]\n"
     ]
    }
   ],
   "source": [
    "print(tree_lstm_single_run_accuracies)"
   ]
  },
  {
   "cell_type": "code",
   "execution_count": 197,
   "metadata": {},
   "outputs": [
    {
     "name": "stdout",
     "output_type": "stream",
     "text": [
      "[0.37329700272479566, 0.4069028156221617, 0.4223433242506812, 0.42415985467756584, 0.4287011807447775, 0.4359673024523161, 0.45231607629427795, 0.44868301544050865, 0.44868301544050865, 0.45594913714804725, 0.45594913714804725, 0.43415077202543145, 0.45413260672116257, 0.4713896457765668, 0.46321525885558584, 0.45776566757493187, 0.44868301544050865, 0.4677565849227975, 0.46139872842870117, 0.4405086285195277, 0.4477747502270663, 0.4586739327883742, 0.45776566757493187, 0.44595821980018163, 0.44686648501362397, 0.44504995458673935, 0.45049954586739327, 0.44232515894641233, 0.44232515894641233, 0.44141689373297005, 0.4359673024523161, 0.4396003633060854, 0.4250681198910082, 0.4032697547683924, 0.4232515894641235, 0.4332425068119891, 0.4150772025431426, 0.40599455040871935, 0.40962761126248864, 0.4223433242506812, 0.4214350590372389, 0.4159854677565849, 0.4087193460490463, 0.40236148955495005, 0.39691189827429607, 0.40962761126248864, 0.4087193460490463, 0.3905540417801998, 0.4014532243415077, 0.4069028156221617, 0.4069028156221617, 0.39691189827429607, 0.39872842870118075, 0.4069028156221617, 0.41326067211625794, 0.40599455040871935, 0.40962761126248864, 0.405086285195277, 0.407811080835604, 0.4196185286103542, 0.405086285195277, 0.4123524069028156, 0.4014532243415077, 0.39691189827429607, 0.40599455040871935, 0.405086285195277, 0.40054495912806537, 0.42415985467756584, 0.3887375113533152, 0.3932788374205268, 0.405086285195277, 0.4069028156221617, 0.40417801998183467, 0.410535876475931, 0.410535876475931, 0.38782924613987285, 0.40417801998183467, 0.4178019981834696, 0.4069028156221617, 0.4032697547683924, 0.4014532243415077, 0.3851044504995459, 0.3941871026339691, 0.39872842870118075, 0.4032697547683924, 0.4141689373297003, 0.410535876475931, 0.3941871026339691, 0.3996366939146231, 0.40417801998183467, 0.41326067211625794, 0.40599455040871935, 0.40599455040871935, 0.4187102633969119, 0.39872842870118075, 0.4069028156221617, 0.4087193460490463, 0.4069028156221617, 0.40599455040871935, 0.39509536784741145, 0.3960036330608538, 0.3932788374205268, 0.41326067211625794, 0.3941871026339691, 0.40417801998183467, 0.4114441416893733, 0.4069028156221617, 0.3896457765667575, 0.3996366939146231, 0.3932788374205268, 0.3832879200726612, 0.41326067211625794, 0.39146230699364215, 0.4141689373297003, 0.39691189827429607, 0.40962761126248864, 0.407811080835604, 0.407811080835604, 0.41326067211625794, 0.40417801998183467, 0.4123524069028156, 0.410535876475931, 0.3932788374205268, 0.39146230699364215, 0.4032697547683924, 0.4087193460490463, 0.3905540417801998, 0.3941871026339691, 0.3996366939146231, 0.3996366939146231, 0.39691189827429607, 0.39146230699364215, 0.3978201634877384, 0.39872842870118075, 0.38419618528610355, 0.39691189827429607, 0.39509536784741145, 0.3978201634877384, 0.39872842870118075, 0.3996366939146231, 0.40054495912806537, 0.3996366939146231, 0.39872842870118075, 0.39509536784741145, 0.4114441416893733, 0.39146230699364215, 0.3978201634877384, 0.405086285195277, 0.4069028156221617, 0.40417801998183467, 0.4141689373297003, 0.40236148955495005, 0.40054495912806537, 0.4141689373297003, 0.41326067211625794, 0.405086285195277, 0.4032697547683924, 0.3896457765667575, 0.39691189827429607, 0.3932788374205268, 0.405086285195277, 0.4087193460490463, 0.40599455040871935, 0.3996366939146231, 0.3960036330608538, 0.39872842870118075, 0.3869209809264305, 0.3923705722070845, 0.3923705722070845, 0.3996366939146231, 0.39509536784741145, 0.4014532243415077, 0.40054495912806537, 0.3932788374205268, 0.39872842870118075, 0.3941871026339691, 0.4069028156221617, 0.4187102633969119, 0.4069028156221617, 0.3996366939146231, 0.40599455040871935, 0.3932788374205268, 0.3887375113533152, 0.3887375113533152, 0.3814713896457766, 0.3978201634877384, 0.3978201634877384, 0.3978201634877384, 0.3960036330608538, 0.40236148955495005, 0.3869209809264305, 0.3941871026339691, 0.3996366939146231, 0.4014532243415077, 0.40417801998183467, 0.4032697547683924, 0.40054495912806537, 0.40236148955495005, 0.40599455040871935, 0.410535876475931, 0.40599455040871935, 0.40417801998183467, 0.40236148955495005, 0.3996366939146231, 0.3996366939146231, 0.40599455040871935, 0.4069028156221617, 0.40962761126248864, 0.4141689373297003, 0.4032697547683924, 0.4014532243415077, 0.3960036330608538, 0.3978201634877384, 0.40236148955495005, 0.3923705722070845, 0.3996366939146231, 0.4159854677565849, 0.3978201634877384, 0.4069028156221617, 0.405086285195277, 0.407811080835604, 0.405086285195277, 0.405086285195277, 0.40599455040871935, 0.4069028156221617, 0.40236148955495005, 0.4123524069028156, 0.4150772025431426, 0.40599455040871935, 0.4123524069028156, 0.4123524069028156, 0.3905540417801998, 0.410535876475931, 0.407811080835604, 0.4014532243415077, 0.405086285195277, 0.39872842870118075, 0.4069028156221617, 0.40599455040871935, 0.3996366939146231, 0.40599455040871935, 0.40962761126248864, 0.410535876475931, 0.4187102633969119, 0.4114441416893733, 0.4032697547683924, 0.4014532243415077, 0.40599455040871935, 0.40962761126248864, 0.3960036330608538]\n"
     ]
    },
    {
     "name": "stderr",
     "output_type": "stream",
     "text": [
      "/home/phillip/anaconda3/lib/python3.6/site-packages/matplotlib/font_manager.py:1328: UserWarning: findfont: Font family ['Times New Roman'] not found. Falling back to DejaVu Sans\n",
      "  (prop.get_family(), self.defaultFamily[fontext]))\n"
     ]
    },
    {
     "data": {
      "image/png": "[encoded data removed]",
      "text/plain": [
       "<Figure size 432x288 with 1 Axes>"
      ]
     },
     "metadata": {},
     "output_type": "display_data"
    }
   ],
   "source": [
    "iters = range(len(tree_lstm_single_run_accuracies))\n",
    "plt.plot([(i+1)*200 for i in iters], tree_lstm_single_run_accuracies)\n",
    "plt.grid(linestyle=\"dashed\")\n",
    "print(tree_lstm_single_run_accuracies)"
   ]
  },
  {
   "cell_type": "markdown",
   "metadata": {
    "colab_type": "text",
    "id": "f7QZZH86eHqu"
   },
   "source": [
    "# Further experiments and report\n",
    "\n",
    "For your report, you are expected to answer research questions by doing further experiments.\n",
    "\n",
    "## Research Questions\n",
    "\n",
    "Make sure you cover at least the following:\n",
    "\n",
    "- How important is word order for this task?\n",
    "- Does the tree structure help to get a better accuracy?\n",
    "- How does performance depend on the sentence length? Compare the various models. Is there a model that does better on longer sentences? If so, why?\n",
    "- Do you get better performance if you supervise the sentiment **at each node in the tree**? You can extract more training examples by treating every node in each tree as a separate tree. You will need to write a function that extracts all subtrees given a treestring. \n",
    "    - Warning: NLTK's Tree function seems to result in invalid trees in some cases, so be careful if you want to parse the string to a tree structure before extraction the phrases.\n",
    "\n",
    "Optionally, you can also investigate the following:\n",
    "\n",
    "- When making a wrong prediction, can you figure out at what point in the tree (sentence) the model fails? You can make a prediction at each node to investigate.\n",
    "- How does N-ary Tree LSTM compare to the Child-Sum Tree LSTM? \n",
    "- How do the Tai et al. Tree LSTMs compare to Le & Zuidema's formulation?\n",
    "- Or.. your own research question!\n",
    "\n",
    "In general:\n",
    "\n",
    "- ***When you report numbers, please report the mean accuracy across 3 (or more) runs with different random seed, together with the standard deviation.*** This is because the final performance may vary per random seed.\n",
    "\n",
    "## Report instructions\n",
    "\n",
    "Your report needs to be written in LaTeX. You are required to use the ACL 2018 template [(zip)](https://acl2018.org/downloads/acl18-latex.zip) which you can edit directly on [Overleaf](https://www.overleaf.com/latex/templates/instructions-for-acl-2018-proceedings/xzmhqgnmkppc). Make sure your names and student numbers are visible at the top. (Tip: you need to uncomment `/aclfinalcopy`).\n",
    "You can find some general tips about writing a research paper [here](https://www.microsoft.com/en-us/research/academic-program/write-great-research-paper/), but note that you need to make your own judgment about what is appropriate for this project. \n",
    "\n",
    "We expect you to use the following structure:\n",
    "1. Introduction (~1 page) - describe the problem, your research questions and goals, a summary of your findings and contributions. Please cite related work (models, data set) as part of your introduction here, since this is a short paper.\n",
    "    - Introduce the task and the main goal\n",
    "    - Clear research questions\n",
    "    - Motivating the importance of the questions and explaining the expectations\n",
    "    - How are these addressed or not addressed in the literature\n",
    "    - What is your approach\n",
    "    - Short summary of your findings\n",
    "2. Background (~1/2-1 page) -\n",
    "cover the main techniques (\"building blocks\") used in your project (e.g. word embeddings, LSTM, Tree LSTM) and intuitions behind them. Be accurate and concise.\n",
    "    - How each technique that you use works (don't just copy the formulas)\n",
    "    - The relation between the techniques\n",
    "3. Models (~1/2 page) - Cover the models that you used.\n",
    "    - The architecture of the final models (how do you use LSTM or Tree LSTM for the sentiment classification task. what layers you have, how do you do classification? What is your loss function?)\n",
    "4. Experiments (~1/2 page) - Describe your experimental setup. The information here should allow someone else to re-create your experiments. Describe how you evaluate the models.\n",
    "    - Explain the task and the data\n",
    "    - Training the models (model, data, parameters and hyper parameters if the models, training algorithms, what supervision signals you use, etc.)\n",
    "    - Evaluation (e.g. metrics)\n",
    "5. Results and Analysis (~1 page). Go over the results and analyse your findings.\n",
    "    - Answer each of the research questions you raised in the introduction.\n",
    "    - Plots and figures highlighting interesting patterns\n",
    "    - What are the factors that makes model A  better than model B in task C? investigate to prove their effect!\n",
    "6. Conclusion (~1/4 page). The main conclusions of your experiments.\n",
    "    - What you learned from you experiments? how does it relate to what is already known in the literature?\n",
    "    - Where the results as expected ? any surprising results? why?\n",
    "    - Based on what you learned what would you suggest to do next?\n",
    "\n",
    "\n",
    "General Tips:\n",
    "\n",
    "- Math notation – define each variable (either in running text, or in a pseudo-legenda after or before the equation)\n",
    "- Define technical terminology you need\n",
    "- Avoid colloquial language – everything can be said in a scientific-sounding way\n",
    "- Avoid lengthy sentences, stay to the point!\n",
    "- Do not spend space on \"obvious\" things!\n",
    "\n",
    "\n",
    "An ideal report:\n",
    "- Precise, scientific-sounding, technical, to the point \n",
    "  - Little general “waffle”/chit-chat\n",
    "- Not boring – because you don’t explain obvious things too much\n",
    "- Efficient delivery of (only) the facts that we need to know to understand/reimplement\n",
    "- Results visually well-presented and described with the correct priority of importance of sub-results\n",
    "- Insightful analysis – speculation should connect to something interesting and not be too much; the reader “learns something new”\n",
    "- No typos, no colloquialisms – well-considered language\n",
    "- This normally means several re-draftings (re-orderings of information)"
   ]
  },
  {
   "cell_type": "markdown",
   "metadata": {},
   "source": [
    "# Plots"
   ]
  },
  {
   "cell_type": "code",
   "execution_count": 86,
   "metadata": {},
   "outputs": [
    {
     "name": "stdout",
     "output_type": "stream",
     "text": [
      "Vocabulary size: 18280\n"
     ]
    }
   ],
   "source": [
    "v = Vocabulary()\n",
    "for data_set in (train_data,):\n",
    "  for ex in data_set:\n",
    "    for token in ex.tokens:\n",
    "      v.count_token(token)\n",
    "\n",
    "v.build()\n",
    "print(\"Vocabulary size:\", len(v.w2i))"
   ]
  },
  {
   "cell_type": "code",
   "execution_count": null,
   "metadata": {},
   "outputs": [],
   "source": []
  },
  {
   "cell_type": "code",
   "execution_count": 87,
   "metadata": {},
   "outputs": [],
   "source": [
    "def get_test_predictions(model, \n",
    "                batch_fn=get_examples, \n",
    "                prep_fn=prepare_example,\n",
    "                eval_fn=simple_evaluate,\n",
    "                batch_size=1, eval_batch_size=None,\n",
    "                file_prefix=None):\n",
    "    \"\"\"Evaluate a model.\"\"\"  \n",
    "    \n",
    "    if not file_prefix:\n",
    "        checkpoint_path = CHECKPOINT_DIR + \"{}.pt\".format(model.__class__.__name__)\n",
    "    else:\n",
    "        checkpoint_path = CHECKPOINT_DIR + file_prefix + \".pt\"\n",
    "\n",
    "    # evaluate on train, dev, and test with best model\n",
    "    print(\"Loading model\")    \n",
    "    ckpt = torch.load(checkpoint_path,map_location='cpu')\n",
    "    model.load_state_dict(ckpt[\"state_dict\"])\n",
    "\n",
    "    _, preds, _ = eval_fn(\n",
    "    model, test_data, batch_size=eval_batch_size, \n",
    "    batch_fn=batch_fn, prep_fn=prep_fn)\n",
    "\n",
    "    return preds"
   ]
  },
  {
   "cell_type": "code",
   "execution_count": 88,
   "metadata": {},
   "outputs": [
    {
     "name": "stdout",
     "output_type": "stream",
     "text": [
      "Loading model\n",
      "Loading model\n",
      "Loading model\n",
      "Loading model\n",
      "Loading model\n",
      "Loading model\n",
      "Loading model\n",
      "Loading model\n",
      "Loading model\n",
      "Loading model\n"
     ]
    }
   ],
   "source": [
    "bow_preds = list()\n",
    "for i in range(10):\n",
    "    bow_test_preds = get_test_predictions(BOW(len(v.w2i), len(t2i), vocab=v), file_prefix=\"BOW_\"+str(i).zfill(2))\n",
    "    bow_preds.append(bow_test_preds)"
   ]
  },
  {
   "cell_type": "code",
   "execution_count": 89,
   "metadata": {},
   "outputs": [],
   "source": [
    "v = Vocabulary()\n",
    "vectors = list()\n",
    "vectors.append(np.zeros(300, dtype=np.float32)) # <unk>\n",
    "vectors.append(np.zeros(300, dtype=np.float32)) # <pad>\n",
    "for line in glove_init_lines:\n",
    "    v.count_token(line.split(\" \")[0])\n",
    "    vectors.append(np.array([float(x) for x in line.split(\" \")[1:]], dtype=np.float32))\n",
    "vectors = np.stack(vectors, axis=0)\n",
    "v.build()"
   ]
  },
  {
   "cell_type": "code",
   "execution_count": 90,
   "metadata": {},
   "outputs": [
    {
     "name": "stdout",
     "output_type": "stream",
     "text": [
      "Loading model\n",
      "Loading model\n",
      "Loading model\n",
      "Loading model\n",
      "Loading model\n",
      "Loading model\n",
      "Loading model\n",
      "Loading model\n",
      "Loading model\n",
      "Loading model\n"
     ]
    }
   ],
   "source": [
    "pt_deep_cbow_preds = list()\n",
    "for i in range(10):\n",
    "    pt_deep_cbow_test_preds = get_test_predictions(PTDeepCBOW(len(v.w2i), 300, 100, 5, v), file_prefix=\"PTDeepCBOW_\"+str(i).zfill(2))\n",
    "    pt_deep_cbow_preds.append(pt_deep_cbow_test_preds)"
   ]
  },
  {
   "cell_type": "code",
   "execution_count": 91,
   "metadata": {},
   "outputs": [
    {
     "name": "stdout",
     "output_type": "stream",
     "text": [
      "Loading model\n",
      "Loading model\n",
      "Loading model\n",
      "Loading model\n",
      "Loading model\n",
      "Loading model\n",
      "Loading model\n",
      "Loading model\n",
      "Loading model\n",
      "Loading model\n"
     ]
    }
   ],
   "source": [
    "lstm_preds = list()\n",
    "for i in range(10):\n",
    "    lstm_test_preds = get_test_predictions(get_lstm_model(), file_prefix=\"LSTM_\" + str(i).zfill(2))\n",
    "    lstm_preds.append(lstm_test_preds)"
   ]
  },
  {
   "cell_type": "code",
   "execution_count": 92,
   "metadata": {},
   "outputs": [
    {
     "name": "stdout",
     "output_type": "stream",
     "text": [
      "Loading model\n",
      "Loading model\n",
      "Loading model\n",
      "Loading model\n",
      "Loading model\n",
      "Loading model\n",
      "Loading model\n",
      "Loading model\n",
      "Loading model\n",
      "Loading model\n"
     ]
    }
   ],
   "source": [
    "tree_lstm_preds = list()\n",
    "for i in range(10):\n",
    "    tree_lstm_test_preds = get_test_predictions(get_tree_lstm(), file_prefix=\"TreeLSTM_\" + str(i).zfill(2), batch_fn=get_minibatch, prep_fn=prepare_treelstm_minibatch, eval_fn=evaluate)\n",
    "    tree_lstm_preds.append(tree_lstm_test_preds)"
   ]
  },
  {
   "cell_type": "code",
   "execution_count": 93,
   "metadata": {},
   "outputs": [
    {
     "name": "stdout",
     "output_type": "stream",
     "text": [
      "[[3, 3, 3, 3, 4, 1, 3, 1, 4, 4, 3, 3, 4, 1, 3, 2, 4, 3, 3, 4, 4, 4, 3, 3, 3, 3, 3, 3, 2, 1, 4, 2, 1, 3, 1, 3, 2, 4, 1, 1, 3, 1, 3, 4, 3, 1, 4, 4, 4, 3, 3, 3, 3, 4, 3, 3, 3, 1, 4, 3, 3, 1, 4, 2, 3, 1, 4, 4, 4, 3, 1, 3, 4, 3, 3, 2, 3, 4, 3, 3, 3, 4, 3, 4, 4, 3, 3, 3, 4, 1, 1, 3, 1, 1, 3, 4, 1, 4, 1, 3, 3, 3, 1, 3, 3, 3, 3, 3, 3, 4, 3, 3, 1, 3, 2, 4, 4, 3, 4, 3, 4, 3, 3, 3, 3, 3, 2, 4, 3, 3, 3, 3, 3, 3, 3, 2, 3, 3, 1, 3, 3, 1, 3, 3, 3, 3, 3, 4, 1, 2, 3, 3, 2, 2, 3, 4, 4, 3, 4, 1, 2, 3, 3, 3, 3, 3, 3, 3, 1, 4, 3, 3, 3, 3, 3, 3, 3, 0, 4, 4, 4, 3, 4, 3, 3, 3, 1, 1, 3, 4, 4, 4, 4, 1, 3, 3, 3, 4, 3, 3, 3, 4, 1, 1, 3, 2, 1, 3, 2, 3, 2, 3, 3, 3, 3, 3, 4, 3, 3, 3, 4, 3, 3, 3, 4, 1, 1, 1, 3, 4, 4, 3, 3, 3, 3, 1, 4, 3, 3, 3, 4, 3, 3, 3, 3, 3, 1, 3, 3, 3, 3, 2, 4, 4, 1, 3, 3, 3, 3, 4, 4, 3, 3, 3, 3, 2, 2, 3, 4, 3, 3, 3, 3, 4, 4, 2, 1, 1, 3, 3, 3, 4, 1, 3, 3, 2, 2, 1, 3, 3, 3, 3, 3, 2, 3, 2, 4, 1, 1, 3, 3, 1, 4, 3, 4, 3, 1, 1, 0, 4, 2, 1, 1, 3, 3, 2, 3, 3, 3, 3, 3, 1, 4, 3, 1, 1, 2, 3, 3, 4, 3, 3, 3, 3, 3, 1, 4, 2, 4, 3, 1, 3, 1, 3, 3, 4, 4, 3, 1, 3, 3, 1, 4, 3, 1, 3, 3, 1, 4, 1, 3, 3, 4, 3, 4, 4, 0, 4, 4, 1, 2, 4, 1, 1, 3, 3, 1, 3, 3, 3, 3, 1, 3, 3, 3, 3, 4, 4, 4, 4, 3, 3, 3, 3, 4, 3, 3, 3, 4, 0, 3, 3, 4, 3, 3, 3, 1, 1, 3, 3, 1, 3, 4, 3, 3, 3, 3, 1, 1, 3, 2, 4, 4, 1, 1, 3, 3, 1, 2, 3, 1, 3, 4, 4, 3, 1, 3, 4, 1, 3, 3, 3, 3, 3, 2, 2, 4, 3, 1, 3, 3, 4, 2, 3, 1, 4, 3, 3, 4, 3, 4, 3, 1, 3, 1, 1, 1, 3, 3, 3, 2, 3, 3, 1, 3, 2, 3, 2, 3, 3, 1, 3, 3, 3, 3, 3, 3, 3, 4, 3, 3, 3, 3, 0, 3, 4, 1, 3, 4, 3, 3, 3, 3, 4, 2, 1, 3, 3, 3, 3, 4, 3, 3, 3, 3, 2, 3, 2, 3, 0, 3, 1, 4, 3, 1, 4, 3, 3, 3, 2, 4, 2, 3, 3, 1, 1, 4, 3, 1, 3, 3, 4, 2, 2, 3, 3, 4, 3, 3, 3, 1, 2, 3, 4, 3, 4, 3, 1, 2, 3, 3, 3, 3, 3, 1, 3, 3, 3, 1, 3, 4, 3, 3, 4, 1, 2, 4, 1, 3, 3, 3, 3, 3, 3, 3, 4, 3, 3, 1, 3, 2, 2, 3, 3, 4, 4, 4, 3, 3, 3, 3, 2, 3, 3, 4, 3, 3, 3, 4, 4, 3, 3, 3, 3, 4, 3, 3, 1, 3, 3, 2, 1, 2, 3, 3, 3, 3, 4, 3, 3, 1, 3, 3, 1, 3, 1, 1, 1, 1, 4, 3, 2, 4, 1, 1, 3, 1, 4, 1, 3, 4, 3, 3, 3, 4, 3, 4, 3, 3, 3, 3, 3, 1, 3, 3, 3, 3, 3, 3, 1, 1, 4, 3, 1, 3, 1, 1, 4, 4, 4, 4, 3, 3, 3, 4, 1, 4, 2, 3, 3, 1, 3, 3, 3, 4, 3, 4, 3, 3, 4, 1, 2, 4, 4, 4, 3, 1, 2, 3, 3, 1, 3, 4, 1, 2, 3, 4, 1, 3, 4, 2, 3, 3, 3, 3, 3, 3, 4, 4, 4, 4, 4, 4, 3, 3, 4, 4, 1, 4, 0, 1, 3, 3, 2, 4, 1, 4, 1, 4, 3, 4, 3, 3, 4, 3, 1, 3, 0, 1, 1, 4, 3, 4, 3, 3, 3, 3, 4, 4, 3, 4, 3, 4, 3, 1, 3, 3, 2, 4, 4, 4, 1, 4, 3, 3, 4, 3, 4, 4, 3, 4, 1, 3, 3, 1, 1, 0, 4, 2, 3, 3, 3, 3, 3, 3, 3, 4, 3, 1, 3, 2, 4, 3, 4, 4, 4, 3, 3, 3, 3, 3, 3, 3, 3, 3, 3, 3, 3, 3, 4, 0, 3, 3, 3, 3, 3, 3, 2, 4, 1, 2, 3, 3, 3, 3, 3, 3, 3, 3, 4, 3, 3, 4, 4, 4, 3, 4, 3, 3, 1, 3, 4, 1, 3, 4, 3, 3, 4, 3, 3, 3, 1, 3, 3, 4, 3, 3, 3, 1, 2, 1, 2, 4, 3, 3, 3, 1, 3, 3, 3, 4, 1, 1, 1, 3, 1, 3, 3, 2, 3, 1, 3, 3, 3, 3, 3, 3, 3, 3, 1, 3, 2, 3, 3, 3, 3, 4, 1, 3, 3, 4, 3, 4, 4, 2, 4, 4, 3, 3, 3, 3, 1, 3, 2, 4, 3, 3, 1, 1, 2, 3, 4, 4, 3, 3, 4, 4, 4, 1, 3, 4, 3, 1, 1, 3, 4, 1, 3, 3, 3, 3, 1, 3, 3, 1, 4, 3, 3, 4, 3, 3, 3, 1, 1, 3, 3, 1, 3, 4, 3, 3, 4, 4, 3, 2, 4, 1, 4, 1, 1, 4, 3, 3, 3, 1, 4, 3, 4, 3, 3, 3, 1, 3, 3, 3, 3, 1, 3, 3, 3, 1, 3, 4, 4, 4, 1, 3, 3, 4, 2, 2, 3, 3, 4, 1, 1, 1, 3, 3, 4, 4, 3, 2, 4, 4, 3, 1, 3, 4, 4, 2, 4, 3, 3, 3, 1, 3, 4, 3, 1, 3, 4, 3, 3, 3, 3, 3, 4, 3, 2, 3, 1, 4, 3, 3, 3, 3, 2, 1, 1, 2, 1, 0, 0, 1, 1, 1, 1, 3, 0, 1, 0, 2, 1, 1, 2, 1, 2, 1, 2, 2, 1, 1, 0, 1, 1, 2, 1, 2, 1, 0, 1, 0, 1, 1, 0, 0, 0, 3, 2, 1, 1, 0, 1, 1, 1, 2, 1, 1, 1, 1, 0, 1, 0, 0, 2, 1, 1, 3, 3, 2, 1, 2, 0, 1, 1, 3, 1, 2, 0, 3, 0, 1, 3, 1, 1, 3, 1, 3, 1, 1, 3, 1, 1, 3, 1, 1, 1, 1, 1, 0, 1, 0, 1, 1, 2, 1, 1, 0, 0, 0, 1, 3, 0, 3, 1, 4, 1, 3, 3, 3, 0, 0, 1, 1, 2, 0, 2, 0, 1, 1, 1, 0, 1, 0, 3, 1, 3, 3, 1, 2, 1, 2, 1, 1, 1, 1, 3, 1, 1, 1, 1, 1, 1, 1, 1, 2, 1, 2, 3, 3, 1, 3, 1, 1, 0, 0, 0, 0, 4, 1, 1, 3, 1, 1, 1, 3, 1, 1, 2, 1, 3, 1, 3, 1, 3, 1, 1, 3, 3, 2, 1, 1, 0, 3, 1, 1, 1, 1, 0, 1, 3, 1, 3, 1, 3, 0, 1, 1, 1, 0, 1, 0, 3, 2, 3, 1, 1, 1, 1, 1, 1, 1, 0, 3, 3, 3, 0, 1, 1, 3, 1, 2, 1, 1, 1, 3, 0, 1, 1, 2, 1, 2, 1, 0, 1, 1, 1, 1, 2, 1, 3, 1, 1, 1, 0, 0, 1, 2, 1, 1, 3, 3, 1, 1, 1, 0, 0, 3, 1, 1, 1, 3, 1, 1, 2, 0, 3, 1, 3, 3, 3, 2, 2, 1, 0, 1, 3, 3, 1, 3, 1, 2, 3, 1, 0, 1, 1, 1, 1, 1, 1, 0, 1, 0, 1, 2, 0, 2, 3, 1, 0, 1, 3, 0, 1, 1, 1, 3, 1, 0, 1, 1, 2, 1, 0, 0, 0, 3, 0, 1, 3, 0, 1, 1, 1, 1, 1, 3, 0, 2, 1, 2, 2, 3, 1, 1, 1, 1, 0, 1, 1, 1, 3, 1, 0, 1, 1, 1, 0, 0, 1, 1, 3, 1, 1, 3, 1, 1, 1, 1, 1, 1, 0, 3, 2, 1, 1, 1, 1, 1, 0, 1, 2, 1, 0, 1, 3, 1, 1, 0, 1, 3, 1, 1, 1, 1, 3, 3, 1, 2, 2, 1, 1, 1, 3, 1, 3, 1, 1, 1, 3, 3, 3, 2, 2, 1, 1, 1, 1, 0, 0, 3, 1, 1, 0, 1, 1, 2, 1, 1, 1, 0, 3, 1, 2, 1, 2, 0, 0, 1, 1, 1, 2, 1, 2, 1, 1, 1, 1, 1, 1, 2, 3, 2, 1, 1, 1, 1, 1, 2, 1, 1, 1, 1, 0, 0, 0, 1, 1, 1, 2, 1, 1, 1, 2, 1, 1, 1, 1, 1, 1, 0, 1, 1, 1, 0, 1, 3, 3, 3, 1, 1, 1, 1, 1, 3, 1, 1, 1, 2, 1, 1, 1, 1, 1, 0, 1, 1, 0, 1, 1, 1, 1, 1, 1, 2, 4, 1, 0, 0, 1, 1, 1, 1, 1, 1, 3, 1, 1, 1, 1, 1, 0, 4, 0, 2, 1, 1, 1, 2, 1, 3, 1, 1, 1, 3, 1, 3, 0, 1, 0, 1, 3, 1, 1, 0, 0, 0, 3, 1, 1, 1, 1, 1, 0, 2, 3, 1, 3, 1, 1, 0, 1, 1, 0, 1, 1, 1, 1, 1, 2, 3, 1, 1, 3, 1, 1, 1, 1, 1, 1, 1, 1, 0, 1, 0, 0, 1, 1, 3, 1, 0, 1, 3, 1, 1, 2, 1, 1, 2, 1, 0, 1, 1, 1, 1, 1, 1, 1, 0, 1, 1, 1, 0, 1, 0, 3, 1, 1, 3, 1, 0, 0, 1, 3, 1, 0, 2, 0, 1, 3, 0, 1, 3, 2, 1, 1, 0, 1, 2, 1, 1, 1, 4, 1, 1, 1, 1, 1, 1, 3, 1, 1, 1, 1, 1, 2, 1, 2, 1, 1, 0, 1, 1, 4, 0, 3, 1, 3, 3, 1, 1, 1, 1, 1, 0, 1, 0, 2, 3, 2, 2, 0, 0, 1, 1, 1, 1, 1, 1, 3, 1, 3, 1, 3, 0, 3, 1, 2, 1, 1, 3, 1, 1, 3, 1, 3, 0, 1, 0, 1, 3, 0, 1, 0, 1, 3, 3, 3, 1, 3, 0, 1, 3, 1, 1, 1, 3, 1, 1, 1, 3, 1, 0, 1, 1, 3, 1, 1, 1, 1, 1, 3, 0, 0, 1, 1, 1, 2, 1, 1, 1, 0, 3, 0, 0, 1, 0, 1, 1, 0, 1, 1, 2, 3, 1, 0, 1, 0, 2, 1, 0, 1, 1, 1, 1, 1, 1, 3, 3, 1, 1, 1, 1, 1, 1, 1, 1, 3, 2, 1, 0, 1, 1, 4, 1, 2, 2, 1, 0, 0, 0, 1, 3, 1, 1, 3, 1, 1, 1, 3, 1, 1, 0, 1, 1, 1, 1, 1, 1, 1, 0, 1, 0, 2, 1, 1, 1, 1, 1, 2, 1, 1, 3, 1, 1, 1, 1, 0, 1, 3, 3, 1, 1, 1, 1, 1, 3, 0, 0, 1, 1, 0, 0, 2, 1, 3, 1, 1, 0, 0, 0, 3, 1, 0, 1, 4, 1, 4, 2, 1, 3, 4, 1, 1, 0, 2, 0, 1, 3, 1, 4, 0, 1, 3, 1, 1, 1, 0, 0, 1, 1, 1, 1, 1, 1, 1, 1, 1, 1, 1, 1, 3, 1, 0, 1, 1, 1, 1, 3, 1, 2, 1, 3, 1, 1, 1, 0, 1, 1, 3, 1, 1, 1, 0, 3, 1, 1, 1, 0, 1, 0, 1, 1, 3, 1, 0, 1, 3, 3, 3, 0, 1, 1, 1, 1, 1, 4, 1, 0, 2, 1, 3, 0, 1, 3, 3, 0, 3, 0, 1, 3, 1, 1, 1, 1, 1, 1, 3, 1, 1, 1, 1, 2, 3, 2, 1, 3, 2, 1, 2, 1, 1, 3, 1, 1, 0, 1, 3, 1, 2, 1, 1, 3, 1, 1, 1, 1, 1, 3, 1, 2, 1, 1, 1, 1, 1, 1, 3, 1, 1, 0, 3, 1, 1, 1, 3, 0, 1, 3, 1, 1, 2, 2, 0, 3, 1, 1, 1, 3, 1, 3, 1, 1, 1, 1, 2, 1, 0, 1, 0, 0, 1, 1, 0, 1, 1, 1, 1, 3, 1, 1, 1, 1, 1, 2, 0, 0, 0, 2, 3, 1, 0, 1, 1, 3, 1, 0, 1, 2, 1, 1, 1, 0, 1, 3, 1, 1, 3, 3, 0, 1, 1, 1, 1, 3, 1, 1, 1, 1, 1, 1, 0, 3, 2, 1, 1, 0, 2, 2, 0, 1, 3, 1, 3, 2, 0, 1, 1, 2, 3, 0, 1, 1, 1, 1, 1, 2, 0, 3, 1, 0, 1, 0, 1, 1, 3, 0, 1, 1, 4, 1, 0, 0, 3, 4, 4, 1, 1], [2, 3, 3, 3, 4, 1, 3, 1, 4, 4, 3, 2, 4, 3, 3, 2, 4, 3, 4, 4, 4, 4, 3, 3, 3, 3, 3, 2, 3, 1, 4, 2, 1, 3, 1, 3, 2, 3, 1, 1, 3, 1, 3, 4, 3, 1, 4, 3, 4, 3, 3, 3, 3, 4, 3, 3, 3, 1, 4, 3, 3, 3, 3, 2, 3, 1, 4, 4, 4, 3, 3, 3, 4, 1, 3, 1, 3, 4, 3, 3, 3, 4, 3, 4, 4, 3, 3, 3, 4, 1, 3, 3, 1, 1, 1, 4, 1, 4, 1, 3, 2, 3, 1, 3, 3, 1, 3, 3, 3, 4, 3, 3, 3, 3, 2, 4, 4, 3, 4, 3, 3, 3, 3, 3, 3, 3, 2, 4, 3, 4, 3, 3, 3, 3, 3, 1, 3, 3, 1, 3, 3, 1, 3, 3, 3, 3, 3, 4, 1, 2, 3, 3, 2, 2, 3, 4, 3, 3, 4, 1, 3, 3, 3, 3, 4, 3, 2, 3, 1, 4, 3, 3, 3, 3, 3, 3, 3, 0, 4, 4, 4, 3, 4, 3, 4, 3, 1, 1, 3, 4, 3, 4, 3, 1, 4, 3, 3, 4, 3, 3, 3, 4, 1, 1, 3, 2, 1, 3, 3, 4, 3, 3, 3, 3, 3, 3, 4, 3, 3, 3, 4, 3, 3, 1, 4, 3, 1, 1, 3, 4, 4, 3, 3, 3, 3, 1, 4, 3, 2, 3, 4, 3, 3, 3, 3, 3, 1, 3, 3, 3, 3, 2, 4, 4, 1, 3, 3, 3, 3, 4, 3, 3, 3, 3, 2, 2, 2, 3, 3, 3, 3, 3, 3, 4, 4, 2, 1, 1, 3, 1, 3, 4, 1, 3, 3, 1, 2, 1, 3, 3, 3, 3, 3, 3, 3, 3, 4, 1, 1, 3, 4, 1, 4, 3, 4, 3, 1, 1, 1, 4, 1, 1, 1, 3, 3, 2, 4, 3, 3, 4, 2, 1, 4, 3, 1, 1, 2, 3, 3, 4, 3, 3, 3, 3, 3, 1, 4, 2, 4, 1, 1, 4, 1, 3, 3, 3, 3, 3, 2, 3, 3, 3, 4, 3, 1, 3, 3, 1, 4, 1, 3, 3, 4, 3, 4, 4, 1, 4, 4, 1, 3, 4, 1, 3, 3, 3, 1, 3, 3, 3, 3, 1, 4, 3, 3, 3, 4, 4, 3, 3, 3, 3, 3, 3, 4, 3, 3, 3, 4, 1, 3, 3, 4, 3, 3, 3, 1, 2, 3, 3, 1, 3, 4, 3, 3, 3, 3, 1, 1, 3, 3, 4, 3, 1, 1, 3, 3, 3, 1, 2, 1, 3, 3, 4, 4, 1, 2, 4, 1, 3, 3, 3, 3, 3, 3, 2, 4, 3, 1, 3, 3, 4, 2, 4, 1, 4, 3, 3, 4, 3, 4, 3, 1, 3, 3, 1, 1, 3, 3, 3, 2, 3, 3, 3, 3, 2, 4, 2, 3, 3, 1, 4, 3, 3, 3, 3, 3, 3, 3, 3, 3, 3, 3, 1, 3, 4, 1, 3, 4, 3, 3, 3, 3, 4, 2, 1, 3, 3, 3, 3, 4, 3, 3, 3, 3, 1, 1, 3, 3, 0, 3, 1, 4, 3, 1, 4, 3, 3, 3, 3, 4, 3, 3, 3, 1, 1, 4, 3, 3, 3, 3, 4, 2, 3, 3, 3, 4, 4, 3, 3, 1, 1, 3, 4, 3, 4, 3, 2, 2, 3, 3, 3, 2, 3, 1, 3, 3, 3, 1, 3, 4, 4, 3, 4, 1, 2, 4, 1, 3, 3, 3, 3, 3, 3, 3, 4, 3, 3, 1, 3, 2, 3, 3, 3, 4, 4, 3, 3, 3, 3, 3, 2, 3, 3, 4, 3, 3, 3, 4, 4, 3, 3, 3, 3, 3, 3, 3, 1, 1, 3, 2, 1, 3, 3, 3, 3, 3, 4, 3, 3, 1, 3, 3, 1, 3, 1, 2, 1, 1, 4, 3, 2, 4, 1, 1, 3, 1, 4, 1, 3, 4, 3, 3, 3, 4, 3, 4, 3, 3, 3, 3, 3, 1, 4, 3, 3, 3, 3, 3, 1, 2, 4, 3, 1, 3, 1, 1, 4, 4, 4, 4, 3, 3, 3, 3, 1, 4, 2, 3, 3, 1, 3, 3, 3, 4, 3, 3, 3, 3, 4, 1, 2, 4, 4, 4, 3, 1, 3, 3, 3, 1, 3, 4, 1, 3, 3, 4, 1, 3, 4, 1, 4, 3, 3, 3, 3, 3, 4, 4, 4, 4, 4, 4, 3, 3, 4, 4, 1, 4, 0, 1, 3, 3, 3, 4, 1, 3, 1, 4, 3, 4, 3, 3, 4, 3, 1, 3, 1, 1, 1, 4, 3, 4, 3, 3, 3, 3, 4, 4, 3, 4, 3, 4, 3, 1, 3, 3, 2, 4, 4, 4, 2, 4, 3, 3, 4, 3, 4, 4, 3, 4, 1, 3, 3, 1, 1, 1, 4, 3, 3, 3, 3, 3, 3, 3, 3, 4, 3, 1, 3, 1, 4, 3, 4, 4, 4, 2, 3, 3, 3, 3, 3, 3, 4, 3, 3, 3, 3, 3, 4, 0, 3, 3, 3, 3, 3, 3, 2, 4, 1, 2, 3, 3, 3, 3, 3, 3, 3, 3, 4, 3, 3, 4, 4, 4, 1, 4, 3, 4, 1, 3, 4, 1, 3, 4, 3, 3, 4, 3, 3, 3, 1, 3, 3, 4, 3, 3, 3, 1, 2, 1, 3, 4, 3, 3, 3, 1, 3, 3, 3, 4, 1, 2, 1, 3, 1, 3, 3, 2, 3, 1, 3, 3, 3, 3, 3, 3, 2, 4, 1, 3, 2, 3, 3, 3, 3, 4, 1, 3, 3, 3, 3, 4, 3, 1, 4, 4, 3, 3, 3, 3, 1, 4, 1, 4, 3, 3, 1, 1, 2, 3, 4, 4, 3, 3, 4, 4, 4, 1, 3, 4, 3, 1, 1, 3, 4, 1, 3, 4, 2, 3, 1, 3, 3, 1, 3, 3, 3, 4, 3, 3, 4, 1, 3, 3, 3, 1, 3, 4, 3, 3, 4, 3, 3, 2, 4, 1, 4, 3, 1, 4, 3, 3, 3, 1, 4, 3, 4, 3, 3, 3, 1, 3, 3, 3, 3, 1, 3, 3, 3, 1, 3, 4, 4, 4, 1, 3, 3, 4, 2, 2, 3, 3, 4, 1, 1, 1, 3, 3, 4, 4, 3, 2, 4, 4, 4, 1, 3, 4, 3, 1, 4, 3, 2, 3, 2, 3, 4, 3, 1, 3, 4, 3, 3, 3, 3, 3, 4, 3, 2, 3, 3, 4, 3, 4, 3, 3, 2, 1, 1, 3, 1, 1, 0, 1, 1, 1, 0, 3, 1, 1, 1, 2, 1, 1, 2, 1, 1, 1, 2, 2, 0, 1, 0, 1, 1, 2, 1, 3, 1, 1, 1, 0, 1, 1, 1, 0, 0, 3, 2, 1, 3, 0, 1, 1, 3, 2, 1, 1, 1, 1, 0, 1, 0, 0, 1, 1, 1, 3, 1, 1, 1, 1, 0, 1, 1, 3, 1, 2, 1, 3, 1, 1, 3, 1, 1, 3, 1, 3, 3, 1, 3, 1, 1, 3, 1, 0, 1, 1, 1, 0, 1, 0, 1, 1, 2, 1, 1, 0, 0, 1, 1, 3, 1, 3, 1, 4, 1, 2, 3, 3, 0, 0, 1, 1, 1, 1, 2, 0, 1, 1, 1, 0, 1, 0, 3, 1, 1, 3, 1, 2, 1, 1, 1, 1, 1, 1, 3, 1, 1, 1, 1, 1, 1, 1, 1, 2, 1, 2, 3, 3, 1, 3, 1, 3, 1, 1, 0, 0, 4, 1, 2, 3, 1, 1, 1, 3, 1, 1, 2, 1, 3, 2, 3, 1, 3, 1, 3, 3, 3, 3, 2, 1, 0, 3, 1, 1, 1, 1, 0, 1, 2, 1, 3, 1, 3, 1, 1, 1, 1, 0, 1, 0, 1, 2, 2, 1, 1, 1, 1, 1, 0, 1, 0, 3, 3, 3, 1, 1, 1, 3, 1, 1, 1, 1, 1, 3, 0, 1, 1, 1, 1, 2, 2, 1, 1, 1, 1, 1, 2, 1, 3, 1, 1, 1, 0, 0, 1, 1, 1, 1, 3, 3, 1, 1, 1, 0, 0, 3, 1, 1, 1, 3, 1, 1, 1, 1, 3, 1, 3, 3, 3, 2, 1, 1, 1, 1, 3, 3, 1, 3, 1, 2, 3, 1, 0, 1, 1, 2, 1, 1, 1, 0, 1, 0, 1, 2, 0, 1, 3, 1, 0, 1, 3, 0, 1, 1, 1, 3, 1, 1, 1, 1, 1, 1, 0, 0, 1, 3, 0, 1, 3, 0, 1, 1, 1, 1, 1, 3, 1, 2, 1, 2, 2, 3, 2, 1, 3, 1, 0, 1, 1, 1, 3, 2, 0, 1, 1, 1, 0, 0, 1, 1, 1, 1, 1, 3, 1, 1, 1, 1, 1, 1, 1, 3, 2, 1, 1, 1, 1, 1, 1, 2, 2, 1, 1, 1, 3, 1, 1, 0, 1, 3, 1, 1, 1, 1, 3, 3, 1, 2, 3, 1, 1, 2, 3, 1, 3, 1, 1, 1, 3, 3, 3, 1, 2, 1, 1, 1, 1, 1, 0, 3, 1, 1, 0, 1, 2, 2, 1, 1, 1, 0, 3, 1, 2, 1, 2, 0, 1, 1, 1, 1, 3, 1, 1, 1, 3, 1, 1, 1, 1, 2, 3, 1, 1, 1, 1, 1, 1, 3, 1, 1, 1, 1, 1, 1, 0, 1, 1, 1, 2, 1, 1, 1, 2, 1, 1, 1, 1, 1, 3, 0, 1, 2, 1, 0, 1, 3, 2, 3, 1, 1, 1, 1, 1, 3, 1, 1, 1, 2, 1, 1, 1, 1, 1, 1, 1, 1, 0, 1, 1, 2, 1, 1, 1, 1, 4, 1, 0, 0, 1, 1, 1, 1, 1, 1, 1, 1, 1, 1, 1, 1, 1, 4, 0, 1, 1, 1, 1, 2, 1, 3, 1, 1, 1, 3, 1, 3, 0, 1, 0, 1, 3, 1, 1, 0, 0, 0, 3, 1, 1, 1, 1, 1, 0, 2, 3, 1, 3, 1, 1, 1, 1, 3, 0, 1, 1, 1, 3, 1, 2, 2, 1, 1, 3, 1, 1, 1, 1, 1, 1, 1, 1, 0, 1, 1, 0, 1, 1, 3, 1, 0, 1, 3, 1, 1, 2, 1, 1, 2, 1, 0, 1, 1, 1, 1, 1, 1, 1, 1, 1, 1, 1, 2, 1, 0, 3, 1, 3, 3, 1, 0, 1, 2, 4, 1, 0, 1, 0, 2, 3, 0, 1, 3, 3, 1, 1, 0, 1, 2, 1, 1, 1, 4, 1, 1, 1, 1, 1, 1, 2, 1, 1, 0, 1, 1, 3, 1, 2, 1, 1, 0, 1, 1, 4, 0, 3, 1, 2, 3, 1, 1, 1, 1, 1, 0, 1, 1, 2, 2, 2, 2, 1, 0, 1, 1, 1, 1, 1, 1, 3, 1, 2, 1, 3, 0, 3, 1, 1, 1, 1, 3, 1, 1, 3, 1, 3, 0, 1, 0, 1, 3, 0, 1, 1, 1, 3, 1, 3, 1, 3, 1, 3, 3, 1, 1, 1, 3, 1, 1, 1, 3, 1, 1, 1, 1, 2, 1, 1, 1, 1, 1, 3, 0, 0, 1, 1, 2, 2, 1, 1, 1, 0, 3, 0, 1, 1, 1, 1, 1, 0, 1, 1, 1, 1, 1, 0, 1, 1, 2, 1, 1, 1, 1, 1, 1, 1, 1, 3, 3, 1, 1, 1, 1, 1, 1, 1, 1, 3, 2, 1, 0, 1, 1, 3, 1, 2, 2, 1, 0, 0, 1, 1, 3, 1, 1, 3, 2, 1, 1, 3, 1, 1, 0, 1, 1, 1, 1, 1, 1, 1, 0, 1, 0, 2, 3, 1, 1, 1, 1, 3, 1, 1, 3, 1, 1, 1, 1, 0, 1, 3, 3, 1, 1, 1, 1, 1, 1, 1, 0, 1, 1, 0, 1, 1, 1, 3, 1, 1, 1, 0, 0, 3, 1, 0, 1, 4, 1, 4, 2, 1, 3, 3, 1, 1, 1, 3, 1, 1, 3, 1, 4, 0, 1, 3, 3, 1, 1, 1, 0, 1, 1, 1, 1, 1, 1, 1, 1, 1, 1, 1, 1, 3, 2, 1, 1, 1, 1, 1, 3, 1, 2, 1, 2, 1, 1, 1, 0, 1, 1, 3, 1, 1, 1, 1, 3, 1, 1, 1, 0, 1, 0, 1, 1, 3, 1, 1, 1, 3, 3, 3, 1, 1, 1, 1, 1, 1, 4, 1, 0, 2, 1, 2, 0, 1, 3, 3, 0, 3, 1, 1, 3, 1, 1, 1, 2, 1, 1, 3, 1, 1, 1, 1, 1, 3, 3, 3, 3, 1, 1, 2, 1, 1, 1, 1, 0, 0, 1, 3, 1, 1, 1, 1, 2, 1, 1, 1, 1, 1, 3, 1, 1, 1, 1, 1, 1, 1, 1, 3, 1, 1, 0, 3, 2, 1, 1, 3, 1, 1, 3, 1, 1, 2, 1, 0, 3, 1, 1, 1, 3, 1, 3, 1, 1, 0, 1, 2, 1, 0, 1, 0, 1, 1, 1, 1, 1, 1, 1, 1, 3, 1, 1, 1, 1, 1, 2, 1, 0, 0, 2, 3, 1, 1, 1, 1, 3, 1, 0, 1, 3, 1, 1, 3, 1, 1, 3, 1, 1, 3, 3, 0, 1, 1, 1, 1, 3, 1, 1, 1, 1, 1, 1, 0, 3, 2, 1, 1, 0, 2, 3, 1, 1, 3, 1, 3, 3, 0, 1, 1, 2, 3, 1, 1, 3, 1, 1, 1, 2, 0, 2, 1, 0, 1, 0, 1, 1, 3, 0, 2, 1, 4, 1, 1, 0, 3, 4, 4, 1, 1], [3, 3, 3, 3, 4, 1, 3, 1, 4, 4, 3, 3, 4, 1, 3, 2, 4, 3, 4, 4, 4, 4, 3, 3, 3, 3, 3, 1, 3, 0, 4, 2, 1, 3, 1, 3, 2, 4, 1, 1, 3, 1, 3, 4, 3, 1, 4, 4, 4, 3, 3, 1, 3, 4, 3, 3, 3, 1, 4, 3, 4, 1, 4, 1, 3, 3, 4, 4, 4, 4, 1, 3, 4, 1, 3, 1, 4, 4, 3, 3, 3, 4, 3, 4, 4, 3, 3, 3, 4, 1, 2, 3, 1, 1, 3, 4, 1, 4, 1, 3, 3, 3, 1, 3, 2, 1, 3, 3, 3, 4, 3, 3, 3, 3, 2, 4, 4, 3, 4, 3, 4, 3, 3, 3, 3, 3, 2, 4, 3, 4, 3, 3, 3, 3, 3, 1, 3, 3, 1, 3, 3, 1, 3, 3, 3, 3, 3, 4, 1, 3, 3, 3, 2, 1, 4, 4, 4, 3, 4, 1, 2, 3, 3, 3, 4, 4, 1, 3, 1, 4, 3, 3, 3, 4, 3, 3, 3, 0, 4, 4, 4, 3, 4, 3, 4, 3, 1, 1, 3, 4, 3, 4, 3, 1, 4, 1, 3, 4, 3, 3, 3, 4, 1, 1, 3, 2, 1, 3, 3, 3, 2, 3, 3, 3, 3, 3, 4, 3, 3, 3, 4, 3, 3, 3, 4, 3, 1, 1, 2, 4, 4, 3, 3, 3, 3, 1, 4, 3, 3, 3, 4, 3, 3, 3, 3, 3, 1, 3, 3, 3, 3, 2, 4, 4, 1, 3, 4, 3, 3, 4, 4, 3, 3, 3, 2, 2, 2, 3, 4, 3, 3, 3, 3, 4, 4, 2, 1, 1, 3, 1, 3, 4, 1, 3, 4, 1, 2, 1, 3, 3, 3, 3, 1, 2, 2, 3, 4, 3, 1, 3, 4, 1, 4, 4, 4, 3, 1, 3, 0, 4, 1, 1, 2, 3, 3, 2, 4, 3, 3, 4, 2, 1, 4, 3, 1, 1, 2, 3, 3, 4, 3, 3, 3, 3, 4, 3, 4, 3, 4, 1, 1, 3, 1, 3, 3, 4, 3, 3, 2, 3, 3, 3, 4, 3, 1, 4, 3, 2, 4, 3, 3, 3, 4, 4, 4, 4, 0, 4, 3, 3, 3, 4, 1, 1, 3, 3, 1, 3, 3, 3, 3, 1, 3, 3, 3, 3, 4, 4, 4, 4, 4, 3, 3, 3, 4, 3, 4, 3, 4, 0, 3, 3, 4, 4, 3, 3, 1, 2, 3, 3, 0, 4, 4, 3, 3, 3, 3, 1, 1, 3, 2, 4, 4, 1, 1, 3, 3, 1, 1, 2, 1, 3, 4, 4, 3, 0, 3, 4, 1, 3, 3, 3, 3, 3, 3, 2, 4, 3, 1, 3, 4, 4, 2, 4, 1, 4, 3, 3, 4, 3, 4, 4, 1, 3, 1, 0, 1, 3, 4, 3, 2, 2, 3, 3, 3, 2, 4, 1, 3, 3, 1, 4, 3, 3, 3, 4, 3, 3, 4, 3, 3, 3, 3, 1, 3, 4, 1, 4, 4, 3, 3, 2, 3, 4, 2, 1, 4, 3, 3, 4, 4, 3, 3, 3, 3, 1, 1, 3, 3, 0, 3, 1, 4, 3, 3, 4, 3, 3, 3, 3, 4, 2, 3, 3, 1, 1, 4, 3, 3, 3, 3, 4, 2, 2, 3, 3, 4, 4, 3, 3, 1, 2, 4, 4, 3, 4, 3, 1, 2, 3, 3, 3, 1, 3, 1, 3, 3, 3, 2, 3, 4, 4, 3, 4, 2, 2, 4, 1, 3, 3, 3, 3, 2, 3, 3, 4, 3, 3, 1, 3, 2, 3, 3, 3, 4, 4, 3, 3, 3, 3, 3, 2, 4, 3, 4, 4, 3, 3, 4, 4, 3, 3, 4, 3, 4, 3, 3, 1, 3, 3, 2, 1, 3, 3, 3, 1, 3, 4, 3, 3, 1, 3, 3, 1, 3, 1, 3, 1, 1, 4, 3, 1, 4, 1, 1, 3, 1, 4, 2, 3, 4, 3, 3, 3, 4, 4, 4, 3, 3, 3, 3, 3, 1, 4, 3, 3, 3, 3, 3, 1, 1, 4, 4, 1, 3, 1, 1, 4, 4, 4, 4, 3, 3, 3, 4, 1, 4, 2, 4, 3, 1, 3, 3, 3, 4, 3, 4, 3, 3, 4, 1, 1, 4, 4, 4, 3, 1, 1, 3, 3, 1, 3, 4, 1, 3, 3, 4, 1, 4, 4, 1, 3, 4, 4, 2, 3, 3, 4, 4, 4, 4, 4, 4, 3, 4, 4, 4, 2, 4, 0, 3, 3, 3, 2, 4, 1, 4, 1, 4, 3, 4, 3, 3, 4, 4, 1, 3, 1, 1, 3, 4, 3, 4, 3, 3, 4, 4, 4, 4, 3, 4, 3, 4, 3, 1, 4, 2, 2, 4, 4, 4, 1, 4, 3, 3, 4, 3, 3, 4, 3, 4, 0, 3, 3, 1, 1, 1, 4, 2, 3, 2, 3, 3, 3, 3, 3, 4, 4, 1, 3, 2, 4, 3, 4, 4, 3, 2, 3, 3, 3, 3, 1, 3, 4, 3, 3, 3, 3, 3, 4, 1, 3, 3, 3, 3, 3, 3, 2, 4, 1, 1, 3, 3, 3, 3, 4, 4, 3, 3, 4, 3, 4, 3, 4, 4, 3, 4, 3, 3, 1, 3, 4, 3, 3, 4, 3, 4, 4, 3, 3, 3, 1, 3, 3, 4, 3, 3, 3, 1, 2, 1, 2, 4, 3, 3, 3, 1, 3, 3, 3, 4, 1, 1, 1, 3, 1, 3, 3, 2, 3, 1, 3, 3, 3, 3, 3, 3, 3, 3, 1, 3, 2, 3, 3, 4, 3, 4, 1, 3, 3, 3, 3, 4, 3, 2, 4, 4, 3, 3, 3, 3, 0, 4, 3, 4, 3, 3, 1, 1, 3, 3, 4, 4, 3, 3, 4, 4, 4, 1, 3, 4, 3, 1, 1, 3, 4, 1, 3, 4, 3, 3, 1, 4, 4, 1, 3, 3, 3, 4, 3, 3, 3, 3, 3, 3, 3, 1, 4, 4, 3, 4, 4, 4, 3, 2, 4, 1, 4, 1, 1, 4, 3, 3, 3, 1, 4, 3, 4, 3, 3, 3, 1, 3, 3, 3, 3, 1, 3, 3, 3, 1, 3, 4, 4, 4, 1, 4, 3, 3, 1, 3, 4, 3, 4, 3, 1, 1, 3, 3, 4, 4, 3, 1, 4, 4, 4, 2, 3, 4, 3, 3, 4, 3, 2, 3, 2, 4, 4, 3, 1, 3, 4, 3, 3, 3, 3, 3, 4, 3, 1, 3, 1, 4, 3, 4, 3, 3, 2, 1, 1, 2, 1, 1, 0, 1, 1, 1, 1, 3, 1, 1, 0, 2, 1, 1, 2, 1, 2, 0, 2, 2, 0, 1, 0, 1, 1, 2, 1, 3, 3, 0, 1, 0, 1, 1, 1, 0, 0, 3, 1, 1, 1, 0, 1, 1, 1, 2, 1, 1, 1, 1, 0, 1, 0, 0, 2, 1, 3, 3, 1, 1, 1, 1, 0, 1, 1, 3, 1, 1, 0, 3, 0, 1, 3, 1, 1, 3, 1, 3, 2, 1, 3, 1, 1, 3, 1, 1, 0, 1, 1, 0, 1, 0, 1, 1, 2, 1, 1, 0, 0, 0, 2, 3, 1, 3, 1, 4, 1, 2, 3, 3, 0, 0, 1, 1, 2, 0, 2, 0, 1, 1, 1, 0, 1, 0, 3, 1, 1, 3, 1, 3, 1, 1, 1, 1, 1, 1, 3, 1, 1, 1, 1, 1, 1, 1, 1, 1, 1, 2, 3, 3, 1, 3, 1, 1, 0, 0, 0, 0, 4, 1, 1, 3, 1, 1, 1, 3, 1, 3, 2, 1, 3, 1, 3, 1, 3, 1, 3, 3, 3, 3, 2, 1, 0, 3, 1, 1, 1, 1, 0, 1, 1, 1, 4, 1, 3, 0, 1, 1, 1, 0, 1, 0, 1, 2, 1, 1, 1, 1, 1, 1, 1, 1, 0, 3, 3, 3, 0, 1, 1, 3, 1, 2, 1, 1, 2, 3, 0, 1, 1, 2, 1, 1, 1, 0, 1, 1, 0, 1, 2, 1, 1, 1, 1, 1, 0, 0, 1, 1, 1, 1, 3, 3, 1, 2, 1, 0, 0, 3, 1, 2, 1, 4, 0, 1, 1, 0, 3, 1, 3, 3, 2, 3, 1, 1, 0, 1, 3, 4, 1, 3, 1, 2, 1, 0, 0, 1, 2, 2, 1, 1, 1, 0, 1, 0, 1, 2, 0, 1, 3, 1, 0, 1, 3, 0, 0, 0, 1, 1, 1, 0, 1, 0, 1, 1, 0, 0, 0, 2, 0, 1, 3, 0, 1, 1, 1, 1, 1, 3, 0, 3, 1, 2, 3, 3, 1, 1, 1, 1, 0, 1, 1, 1, 3, 2, 0, 1, 1, 1, 0, 0, 1, 1, 1, 1, 1, 3, 1, 1, 1, 1, 1, 1, 0, 3, 2, 1, 1, 1, 1, 1, 1, 1, 2, 1, 1, 1, 3, 1, 0, 0, 1, 3, 1, 1, 1, 1, 3, 3, 1, 2, 3, 1, 1, 2, 3, 1, 3, 1, 1, 1, 3, 3, 3, 1, 2, 1, 1, 1, 1, 1, 0, 3, 1, 1, 0, 1, 1, 2, 1, 1, 1, 0, 3, 1, 2, 1, 2, 0, 0, 1, 1, 0, 2, 1, 1, 1, 1, 1, 1, 2, 1, 2, 3, 2, 1, 1, 1, 1, 1, 1, 1, 1, 1, 1, 0, 0, 0, 1, 1, 1, 3, 1, 1, 1, 1, 1, 1, 1, 1, 1, 1, 0, 1, 1, 1, 0, 1, 3, 1, 3, 1, 1, 1, 1, 1, 3, 1, 1, 1, 4, 1, 1, 1, 1, 1, 0, 1, 1, 0, 1, 3, 2, 1, 1, 1, 2, 4, 1, 0, 1, 1, 1, 1, 1, 1, 1, 1, 1, 1, 1, 1, 2, 0, 3, 0, 2, 1, 1, 1, 2, 1, 1, 1, 1, 1, 3, 1, 3, 0, 1, 0, 1, 3, 1, 1, 0, 0, 0, 3, 0, 1, 1, 1, 1, 0, 2, 3, 1, 3, 3, 1, 0, 1, 1, 0, 1, 1, 1, 1, 1, 2, 3, 1, 1, 3, 1, 1, 1, 1, 1, 1, 1, 1, 0, 1, 0, 0, 1, 2, 3, 1, 0, 1, 3, 1, 1, 2, 1, 2, 2, 2, 0, 1, 1, 1, 1, 1, 1, 1, 0, 1, 1, 1, 2, 1, 0, 3, 1, 1, 3, 1, 0, 1, 1, 4, 1, 0, 2, 0, 1, 3, 0, 1, 2, 3, 1, 1, 0, 1, 2, 1, 1, 1, 4, 1, 1, 1, 1, 1, 1, 1, 1, 1, 1, 1, 1, 1, 1, 2, 0, 1, 0, 1, 1, 4, 0, 3, 1, 3, 2, 1, 1, 0, 1, 1, 0, 1, 0, 2, 3, 2, 2, 0, 0, 1, 1, 1, 1, 1, 1, 3, 1, 2, 2, 2, 0, 3, 1, 4, 1, 1, 3, 1, 1, 3, 1, 3, 0, 1, 1, 1, 3, 0, 1, 0, 1, 3, 1, 3, 1, 3, 1, 0, 3, 1, 1, 1, 4, 1, 1, 1, 3, 1, 0, 0, 1, 1, 1, 1, 1, 1, 1, 3, 0, 0, 1, 1, 3, 0, 1, 1, 1, 0, 3, 0, 1, 1, 0, 1, 1, 0, 1, 1, 1, 1, 1, 0, 1, 0, 2, 1, 0, 1, 1, 1, 1, 1, 1, 3, 3, 1, 1, 1, 1, 1, 1, 1, 1, 3, 2, 1, 0, 1, 3, 4, 1, 1, 2, 0, 0, 0, 1, 1, 3, 1, 1, 3, 2, 1, 1, 3, 1, 1, 0, 1, 0, 1, 1, 1, 1, 1, 0, 2, 0, 1, 1, 1, 1, 1, 1, 2, 1, 1, 3, 1, 1, 1, 1, 0, 1, 3, 3, 1, 1, 2, 1, 1, 1, 1, 0, 1, 1, 0, 1, 1, 1, 3, 1, 1, 1, 0, 0, 3, 1, 0, 1, 3, 1, 4, 1, 1, 3, 4, 1, 1, 0, 3, 1, 1, 3, 1, 4, 0, 1, 4, 1, 1, 1, 1, 0, 1, 1, 1, 3, 1, 1, 1, 1, 1, 1, 1, 1, 2, 2, 0, 1, 1, 1, 1, 3, 1, 3, 1, 3, 1, 1, 1, 0, 1, 1, 3, 0, 1, 1, 0, 1, 1, 1, 1, 0, 1, 0, 1, 1, 3, 1, 0, 1, 1, 3, 3, 0, 1, 1, 1, 1, 1, 4, 1, 0, 2, 1, 3, 0, 1, 3, 3, 0, 3, 0, 1, 3, 1, 1, 1, 1, 1, 1, 3, 1, 1, 1, 1, 3, 3, 3, 3, 3, 1, 1, 2, 1, 1, 3, 1, 1, 0, 1, 3, 1, 1, 1, 1, 3, 1, 1, 1, 1, 1, 3, 1, 1, 1, 1, 1, 1, 1, 1, 1, 1, 1, 1, 3, 2, 1, 1, 3, 1, 1, 3, 1, 1, 2, 2, 0, 3, 1, 1, 1, 3, 1, 3, 1, 0, 1, 1, 2, 1, 0, 1, 0, 0, 1, 1, 0, 1, 1, 1, 1, 3, 1, 1, 1, 1, 1, 1, 0, 0, 0, 2, 3, 1, 0, 1, 1, 3, 1, 0, 1, 2, 1, 2, 3, 1, 1, 3, 1, 1, 3, 3, 0, 1, 1, 1, 1, 3, 1, 1, 1, 1, 1, 1, 0, 3, 2, 2, 1, 0, 1, 3, 1, 1, 3, 1, 3, 1, 1, 1, 1, 3, 3, 0, 1, 1, 1, 1, 1, 2, 0, 1, 1, 0, 1, 0, 1, 1, 3, 0, 1, 1, 4, 1, 1, 0, 3, 4, 4, 1, 1], [3, 3, 3, 3, 4, 1, 3, 1, 4, 4, 3, 3, 4, 3, 3, 2, 4, 4, 4, 4, 4, 3, 3, 3, 3, 3, 3, 3, 3, 0, 4, 2, 1, 3, 1, 3, 2, 4, 1, 1, 3, 1, 3, 4, 3, 1, 4, 4, 4, 3, 3, 3, 3, 4, 3, 3, 3, 1, 4, 3, 3, 2, 4, 3, 3, 3, 4, 4, 4, 3, 1, 3, 4, 1, 3, 3, 4, 4, 3, 3, 3, 4, 3, 4, 4, 3, 3, 3, 4, 1, 1, 3, 1, 1, 3, 4, 1, 4, 1, 3, 3, 3, 1, 3, 3, 1, 4, 3, 3, 3, 3, 3, 3, 3, 2, 4, 4, 3, 4, 3, 4, 3, 3, 3, 3, 4, 2, 4, 3, 3, 3, 3, 3, 3, 3, 2, 3, 3, 1, 3, 3, 1, 3, 3, 3, 3, 3, 4, 1, 3, 3, 3, 2, 1, 4, 4, 3, 3, 4, 1, 2, 3, 3, 3, 3, 3, 1, 3, 1, 4, 3, 3, 3, 3, 3, 3, 3, 0, 4, 4, 4, 3, 3, 3, 4, 3, 1, 3, 3, 4, 3, 4, 3, 3, 4, 3, 3, 4, 3, 3, 3, 4, 1, 1, 3, 3, 1, 3, 3, 3, 2, 3, 3, 3, 3, 3, 4, 3, 3, 3, 4, 3, 3, 3, 4, 3, 1, 1, 3, 4, 3, 3, 3, 3, 3, 1, 4, 3, 3, 3, 4, 3, 4, 3, 3, 3, 1, 3, 3, 3, 3, 2, 4, 4, 1, 3, 3, 4, 3, 4, 4, 3, 3, 3, 3, 1, 2, 3, 4, 3, 3, 3, 3, 4, 4, 3, 3, 1, 3, 1, 3, 4, 1, 3, 3, 3, 2, 1, 3, 3, 3, 3, 3, 2, 3, 2, 3, 3, 1, 3, 4, 1, 4, 3, 4, 3, 1, 3, 0, 4, 1, 1, 2, 3, 3, 2, 4, 3, 3, 4, 3, 1, 4, 3, 1, 1, 3, 3, 3, 4, 3, 3, 3, 3, 3, 3, 4, 3, 4, 2, 2, 4, 3, 3, 3, 4, 4, 3, 1, 3, 3, 3, 4, 3, 1, 4, 3, 1, 4, 3, 3, 3, 4, 3, 4, 4, 0, 4, 4, 2, 3, 4, 1, 1, 3, 3, 1, 3, 3, 3, 3, 1, 3, 3, 3, 3, 4, 4, 4, 3, 3, 3, 3, 3, 4, 3, 3, 3, 4, 0, 3, 3, 4, 4, 3, 1, 1, 3, 3, 3, 1, 4, 4, 3, 3, 3, 3, 0, 1, 3, 1, 4, 3, 1, 1, 3, 3, 1, 3, 2, 1, 3, 4, 4, 4, 1, 3, 4, 1, 3, 3, 3, 3, 3, 3, 2, 4, 3, 1, 4, 4, 4, 1, 4, 2, 4, 3, 3, 4, 3, 4, 4, 1, 3, 3, 1, 1, 3, 4, 3, 2, 3, 3, 3, 3, 2, 4, 3, 3, 3, 1, 3, 3, 3, 3, 3, 3, 3, 4, 3, 3, 3, 3, 0, 3, 4, 1, 3, 4, 3, 4, 3, 3, 4, 3, 1, 3, 3, 3, 3, 4, 3, 3, 3, 3, 1, 1, 2, 3, 0, 3, 1, 4, 3, 1, 4, 3, 3, 3, 3, 4, 2, 3, 3, 1, 3, 4, 3, 3, 3, 3, 4, 2, 3, 3, 3, 4, 3, 3, 3, 1, 3, 3, 4, 3, 4, 3, 3, 2, 3, 3, 3, 1, 3, 1, 3, 3, 4, 1, 3, 4, 3, 3, 4, 1, 1, 3, 1, 3, 3, 3, 3, 3, 3, 3, 4, 3, 3, 1, 3, 2, 2, 3, 3, 3, 4, 3, 3, 3, 3, 3, 2, 3, 3, 4, 4, 3, 3, 4, 4, 3, 3, 3, 3, 4, 3, 3, 3, 3, 3, 2, 1, 3, 3, 3, 3, 3, 4, 3, 3, 1, 3, 3, 1, 3, 1, 3, 1, 1, 4, 3, 1, 4, 1, 1, 3, 1, 3, 2, 3, 4, 3, 3, 3, 4, 3, 4, 3, 3, 3, 3, 3, 1, 3, 3, 3, 3, 3, 3, 1, 1, 4, 3, 1, 3, 1, 1, 4, 4, 4, 4, 3, 4, 3, 3, 1, 4, 2, 2, 3, 1, 3, 3, 3, 4, 3, 4, 3, 3, 4, 1, 3, 4, 4, 4, 3, 1, 1, 3, 3, 1, 3, 4, 1, 3, 3, 4, 1, 3, 4, 1, 3, 3, 4, 1, 3, 3, 4, 4, 4, 4, 4, 4, 3, 3, 3, 4, 1, 4, 0, 3, 3, 3, 3, 4, 1, 4, 1, 4, 3, 4, 3, 3, 4, 4, 1, 3, 3, 1, 3, 4, 3, 4, 1, 3, 3, 4, 4, 4, 3, 4, 3, 3, 3, 1, 3, 3, 2, 4, 4, 4, 1, 4, 3, 3, 3, 3, 4, 4, 3, 4, 1, 3, 3, 1, 3, 1, 4, 1, 3, 3, 3, 3, 3, 3, 3, 4, 4, 1, 3, 1, 4, 3, 4, 4, 4, 1, 3, 3, 3, 3, 3, 3, 3, 3, 3, 3, 3, 3, 4, 1, 3, 3, 3, 3, 3, 3, 3, 4, 1, 1, 3, 3, 3, 3, 3, 4, 3, 3, 4, 3, 3, 4, 4, 4, 3, 4, 3, 3, 1, 3, 4, 0, 3, 4, 3, 4, 4, 3, 3, 3, 3, 3, 3, 4, 3, 3, 3, 1, 2, 1, 2, 4, 3, 3, 3, 1, 3, 3, 3, 4, 1, 3, 1, 3, 1, 3, 3, 3, 3, 1, 3, 3, 3, 1, 3, 3, 3, 3, 1, 3, 2, 3, 3, 3, 3, 4, 1, 3, 3, 3, 3, 4, 3, 2, 4, 4, 3, 3, 3, 3, 1, 4, 4, 4, 3, 3, 1, 1, 3, 3, 4, 4, 3, 3, 4, 4, 4, 1, 3, 4, 3, 1, 1, 3, 4, 1, 4, 4, 3, 3, 3, 3, 3, 1, 3, 3, 3, 4, 3, 3, 3, 3, 3, 3, 3, 1, 3, 4, 3, 3, 3, 3, 3, 2, 4, 1, 4, 1, 1, 4, 3, 3, 3, 1, 4, 3, 4, 3, 3, 3, 1, 3, 3, 3, 2, 1, 3, 3, 3, 1, 3, 4, 4, 4, 1, 4, 3, 3, 1, 3, 3, 3, 4, 1, 1, 1, 3, 3, 4, 4, 3, 3, 4, 4, 4, 1, 3, 4, 3, 3, 4, 3, 3, 3, 2, 3, 4, 3, 1, 3, 4, 3, 4, 3, 3, 3, 3, 3, 1, 3, 1, 4, 3, 3, 3, 3, 1, 1, 1, 1, 1, 1, 0, 1, 1, 1, 1, 3, 1, 1, 0, 2, 1, 1, 2, 1, 1, 0, 2, 1, 1, 1, 0, 1, 1, 1, 1, 3, 1, 0, 1, 0, 1, 2, 0, 0, 0, 3, 1, 1, 1, 0, 1, 1, 3, 3, 1, 1, 1, 1, 0, 1, 0, 0, 2, 1, 3, 3, 1, 1, 1, 2, 0, 1, 1, 3, 1, 1, 0, 3, 0, 1, 3, 1, 1, 3, 1, 3, 1, 1, 3, 1, 1, 3, 1, 1, 1, 1, 1, 0, 1, 0, 1, 2, 3, 1, 1, 0, 0, 0, 1, 3, 0, 3, 1, 4, 1, 2, 3, 3, 0, 0, 1, 1, 2, 1, 2, 0, 1, 1, 1, 0, 1, 0, 3, 1, 3, 3, 1, 3, 1, 1, 1, 1, 1, 1, 3, 1, 1, 1, 1, 1, 1, 1, 1, 2, 3, 2, 3, 3, 1, 3, 1, 1, 1, 0, 0, 0, 3, 1, 1, 3, 1, 1, 1, 3, 1, 1, 1, 0, 3, 1, 3, 1, 3, 1, 3, 3, 4, 3, 1, 1, 0, 3, 1, 1, 1, 3, 0, 1, 1, 1, 4, 1, 3, 0, 1, 1, 1, 0, 2, 0, 1, 3, 1, 1, 1, 1, 1, 1, 1, 2, 0, 3, 3, 3, 1, 1, 1, 3, 1, 2, 1, 1, 1, 3, 0, 1, 1, 1, 1, 1, 1, 0, 1, 1, 0, 1, 3, 1, 3, 3, 1, 1, 0, 0, 1, 1, 2, 1, 3, 3, 1, 2, 1, 0, 0, 3, 1, 1, 1, 4, 1, 1, 2, 0, 3, 1, 3, 3, 3, 3, 1, 1, 1, 1, 3, 3, 1, 3, 1, 2, 3, 1, 0, 1, 1, 1, 1, 1, 2, 1, 1, 0, 1, 2, 0, 2, 3, 1, 0, 1, 3, 0, 1, 1, 1, 3, 1, 0, 1, 1, 1, 1, 0, 0, 0, 2, 0, 1, 3, 0, 1, 1, 1, 1, 1, 3, 0, 3, 1, 2, 2, 3, 2, 1, 3, 1, 0, 1, 1, 1, 3, 2, 0, 1, 1, 1, 0, 0, 1, 1, 2, 1, 1, 3, 1, 1, 1, 1, 1, 1, 0, 3, 2, 1, 1, 1, 1, 1, 0, 1, 1, 1, 0, 1, 3, 1, 1, 0, 1, 3, 1, 1, 1, 1, 3, 3, 3, 2, 3, 1, 1, 1, 4, 1, 3, 1, 1, 1, 3, 3, 3, 2, 1, 1, 1, 1, 1, 1, 0, 3, 1, 1, 0, 1, 1, 2, 1, 1, 1, 0, 3, 1, 1, 1, 2, 0, 0, 1, 1, 1, 2, 1, 2, 1, 3, 1, 1, 2, 1, 2, 3, 2, 1, 1, 1, 1, 1, 3, 1, 1, 1, 1, 0, 0, 0, 1, 1, 1, 2, 1, 1, 1, 1, 1, 1, 1, 1, 1, 1, 0, 1, 1, 1, 1, 1, 3, 2, 3, 1, 1, 1, 1, 2, 3, 1, 1, 2, 2, 1, 1, 1, 1, 1, 0, 1, 1, 0, 1, 2, 2, 1, 1, 1, 2, 3, 1, 0, 0, 1, 1, 1, 1, 1, 1, 1, 1, 0, 1, 1, 1, 0, 4, 0, 2, 1, 1, 1, 2, 1, 3, 1, 0, 1, 3, 1, 3, 0, 1, 0, 1, 3, 1, 1, 0, 0, 0, 3, 1, 1, 1, 1, 1, 0, 2, 3, 1, 3, 3, 1, 0, 1, 1, 0, 1, 1, 1, 1, 1, 1, 3, 1, 1, 3, 1, 1, 1, 1, 1, 1, 1, 1, 0, 1, 0, 0, 1, 3, 3, 1, 0, 1, 3, 1, 1, 2, 1, 2, 2, 2, 0, 1, 1, 1, 1, 1, 3, 1, 1, 1, 2, 3, 2, 1, 0, 3, 1, 3, 3, 1, 0, 0, 1, 3, 1, 0, 3, 0, 1, 3, 0, 1, 3, 3, 1, 1, 0, 1, 2, 1, 1, 1, 4, 1, 1, 1, 1, 3, 1, 1, 1, 1, 1, 1, 1, 1, 1, 2, 1, 1, 1, 1, 1, 4, 0, 3, 1, 3, 3, 1, 1, 1, 1, 1, 0, 1, 1, 2, 3, 2, 2, 0, 0, 1, 1, 1, 1, 1, 1, 3, 1, 1, 1, 2, 0, 3, 1, 0, 1, 1, 3, 1, 1, 3, 1, 3, 0, 1, 1, 1, 3, 0, 1, 0, 1, 3, 1, 3, 3, 1, 1, 3, 3, 1, 1, 1, 3, 1, 0, 1, 3, 1, 0, 1, 1, 1, 1, 1, 1, 1, 1, 3, 0, 0, 1, 1, 3, 0, 1, 1, 1, 0, 3, 0, 1, 1, 0, 1, 1, 0, 1, 1, 1, 1, 1, 0, 1, 0, 2, 1, 0, 1, 1, 2, 1, 1, 1, 3, 4, 1, 1, 1, 1, 1, 1, 1, 1, 3, 2, 1, 0, 1, 3, 4, 1, 3, 2, 1, 0, 0, 0, 1, 3, 1, 1, 3, 1, 1, 1, 3, 1, 1, 0, 1, 0, 1, 1, 1, 1, 1, 0, 1, 0, 2, 3, 1, 0, 1, 1, 2, 1, 1, 3, 1, 1, 1, 1, 0, 1, 3, 3, 1, 2, 1, 1, 1, 3, 0, 0, 1, 1, 0, 1, 1, 1, 3, 1, 1, 1, 0, 1, 3, 1, 0, 1, 3, 1, 4, 1, 1, 3, 4, 1, 1, 1, 3, 1, 1, 3, 1, 3, 0, 1, 4, 2, 1, 1, 0, 0, 1, 1, 3, 1, 1, 1, 1, 1, 1, 1, 1, 1, 1, 1, 1, 1, 1, 2, 1, 3, 1, 3, 1, 3, 1, 1, 1, 0, 1, 0, 4, 0, 1, 1, 0, 3, 1, 1, 1, 0, 1, 0, 1, 1, 3, 1, 0, 1, 3, 3, 3, 0, 0, 1, 1, 1, 1, 4, 1, 1, 2, 1, 3, 0, 1, 3, 3, 0, 3, 0, 1, 3, 1, 1, 1, 1, 1, 1, 3, 1, 1, 1, 1, 3, 3, 3, 1, 3, 1, 1, 2, 1, 1, 3, 1, 1, 0, 1, 3, 1, 1, 1, 1, 2, 1, 1, 1, 1, 1, 3, 1, 2, 1, 1, 1, 1, 1, 1, 3, 1, 1, 1, 3, 1, 1, 1, 3, 1, 1, 3, 1, 1, 3, 1, 0, 3, 1, 1, 1, 3, 1, 3, 1, 1, 1, 1, 2, 1, 0, 1, 0, 0, 1, 1, 0, 1, 1, 1, 1, 3, 1, 1, 1, 1, 1, 1, 0, 0, 0, 2, 3, 1, 0, 1, 1, 3, 1, 0, 1, 3, 1, 2, 3, 1, 1, 3, 1, 1, 3, 3, 0, 1, 1, 1, 1, 3, 1, 1, 1, 1, 1, 0, 0, 4, 2, 2, 1, 0, 1, 3, 1, 1, 3, 1, 3, 1, 0, 1, 1, 2, 3, 1, 1, 1, 1, 1, 1, 2, 0, 1, 1, 0, 1, 0, 1, 1, 3, 0, 1, 1, 4, 1, 1, 0, 4, 4, 4, 1, 0], [3, 3, 3, 3, 4, 1, 3, 1, 4, 4, 3, 3, 4, 1, 3, 2, 4, 4, 4, 4, 4, 4, 3, 3, 3, 3, 3, 3, 3, 1, 4, 3, 1, 3, 1, 3, 2, 4, 1, 1, 3, 1, 3, 4, 3, 1, 4, 4, 4, 3, 3, 3, 3, 4, 3, 3, 3, 1, 4, 3, 3, 2, 4, 2, 3, 3, 4, 4, 4, 3, 2, 3, 4, 1, 3, 3, 3, 4, 3, 3, 3, 4, 3, 4, 4, 3, 4, 3, 4, 1, 3, 3, 1, 1, 3, 4, 1, 4, 1, 3, 3, 3, 1, 3, 3, 1, 3, 3, 3, 4, 3, 3, 3, 3, 2, 4, 4, 3, 4, 3, 4, 3, 3, 3, 3, 3, 2, 4, 3, 4, 3, 3, 3, 3, 3, 1, 3, 3, 1, 3, 3, 1, 3, 3, 3, 3, 3, 4, 1, 3, 3, 3, 2, 1, 4, 4, 3, 3, 4, 1, 2, 3, 3, 3, 4, 3, 3, 3, 3, 4, 3, 3, 3, 3, 3, 3, 3, 0, 4, 4, 4, 3, 4, 3, 4, 3, 1, 3, 3, 4, 3, 4, 3, 1, 4, 3, 3, 4, 3, 3, 3, 4, 1, 1, 3, 2, 1, 3, 3, 3, 3, 3, 3, 3, 3, 3, 4, 3, 3, 3, 4, 3, 3, 3, 4, 3, 1, 1, 3, 4, 4, 3, 3, 3, 3, 1, 4, 3, 2, 3, 4, 4, 4, 3, 3, 3, 1, 3, 3, 3, 3, 2, 4, 4, 1, 3, 4, 3, 3, 4, 4, 3, 3, 3, 2, 2, 2, 3, 3, 3, 3, 3, 3, 4, 4, 2, 3, 1, 3, 3, 3, 4, 1, 3, 3, 2, 2, 1, 3, 3, 3, 3, 1, 2, 3, 2, 4, 2, 1, 3, 4, 1, 4, 3, 4, 3, 1, 3, 0, 4, 1, 1, 1, 3, 3, 2, 4, 3, 3, 3, 2, 1, 4, 3, 1, 1, 2, 3, 3, 4, 3, 3, 3, 3, 3, 3, 4, 3, 4, 3, 1, 4, 3, 3, 3, 4, 3, 3, 2, 3, 3, 3, 4, 3, 1, 4, 3, 2, 4, 3, 3, 3, 4, 4, 4, 4, 1, 4, 4, 2, 2, 4, 1, 3, 3, 3, 1, 3, 3, 3, 3, 1, 4, 3, 3, 3, 4, 4, 4, 3, 3, 3, 3, 3, 4, 3, 4, 3, 4, 1, 3, 3, 4, 4, 3, 3, 1, 2, 3, 3, 1, 4, 4, 3, 3, 3, 3, 1, 1, 3, 3, 4, 4, 1, 1, 3, 3, 1, 2, 3, 1, 3, 4, 4, 3, 1, 3, 4, 1, 3, 3, 3, 3, 3, 2, 2, 4, 3, 1, 3, 4, 4, 1, 4, 1, 4, 3, 3, 4, 3, 4, 3, 1, 3, 3, 1, 1, 3, 4, 3, 2, 3, 3, 3, 3, 2, 4, 3, 3, 3, 1, 3, 3, 3, 3, 4, 3, 3, 3, 3, 3, 3, 3, 1, 3, 4, 1, 3, 4, 3, 3, 3, 3, 4, 3, 1, 3, 3, 3, 3, 4, 3, 3, 3, 3, 2, 3, 1, 3, 0, 4, 1, 4, 3, 1, 4, 3, 3, 3, 2, 4, 3, 3, 3, 1, 1, 4, 3, 3, 3, 3, 4, 2, 3, 3, 3, 4, 4, 3, 3, 1, 2, 3, 4, 3, 4, 3, 2, 2, 3, 3, 3, 1, 3, 1, 3, 3, 3, 1, 3, 4, 4, 3, 4, 1, 2, 4, 1, 3, 3, 3, 3, 3, 3, 3, 4, 3, 3, 1, 3, 2, 3, 3, 3, 4, 4, 3, 3, 3, 3, 3, 2, 3, 3, 4, 3, 3, 3, 4, 4, 3, 3, 3, 3, 4, 3, 3, 3, 3, 4, 2, 1, 3, 3, 3, 1, 3, 4, 3, 3, 1, 3, 3, 1, 3, 1, 3, 1, 1, 4, 3, 2, 4, 1, 1, 3, 1, 4, 1, 3, 4, 3, 3, 3, 4, 3, 4, 3, 3, 3, 3, 3, 1, 4, 3, 3, 3, 3, 3, 1, 1, 4, 4, 1, 3, 1, 1, 4, 4, 4, 4, 3, 3, 4, 4, 1, 4, 2, 3, 3, 1, 3, 3, 3, 4, 3, 4, 3, 3, 4, 1, 2, 4, 4, 4, 3, 1, 2, 3, 3, 1, 3, 4, 1, 3, 3, 4, 1, 3, 4, 2, 4, 4, 4, 3, 3, 3, 4, 4, 4, 4, 4, 4, 3, 4, 4, 4, 1, 4, 0, 3, 3, 3, 3, 4, 1, 4, 1, 4, 3, 4, 3, 3, 4, 3, 1, 3, 1, 1, 1, 4, 3, 4, 3, 3, 3, 4, 4, 4, 3, 4, 3, 4, 3, 1, 3, 3, 2, 4, 4, 4, 2, 4, 3, 3, 4, 3, 4, 4, 3, 4, 1, 3, 3, 1, 3, 1, 4, 2, 3, 3, 3, 3, 3, 4, 3, 4, 4, 1, 3, 2, 4, 3, 4, 4, 4, 2, 3, 3, 3, 3, 3, 3, 4, 3, 3, 3, 3, 3, 4, 0, 3, 3, 3, 3, 3, 3, 3, 4, 1, 2, 3, 3, 3, 3, 3, 4, 3, 3, 4, 3, 3, 4, 4, 4, 3, 4, 3, 3, 1, 3, 4, 0, 3, 3, 3, 4, 4, 3, 3, 3, 1, 3, 3, 4, 3, 4, 3, 1, 2, 1, 2, 4, 3, 3, 3, 1, 3, 3, 3, 4, 1, 1, 1, 3, 1, 3, 3, 3, 3, 1, 3, 3, 3, 3, 3, 3, 3, 4, 1, 3, 2, 3, 3, 3, 4, 4, 1, 3, 3, 4, 3, 4, 3, 2, 4, 4, 3, 3, 3, 3, 1, 4, 3, 4, 3, 3, 1, 1, 2, 3, 4, 4, 3, 3, 4, 4, 4, 1, 3, 4, 3, 1, 1, 3, 4, 1, 3, 4, 3, 4, 1, 4, 3, 1, 4, 3, 4, 4, 3, 3, 4, 3, 3, 3, 3, 1, 4, 4, 3, 3, 4, 4, 3, 2, 4, 1, 4, 1, 1, 4, 2, 3, 3, 1, 4, 3, 4, 3, 3, 4, 1, 3, 3, 3, 2, 1, 3, 3, 3, 1, 4, 4, 4, 4, 1, 4, 3, 3, 1, 3, 4, 3, 4, 1, 1, 1, 3, 3, 4, 4, 3, 2, 4, 4, 4, 2, 3, 4, 3, 3, 4, 3, 2, 3, 2, 3, 4, 3, 1, 3, 4, 3, 3, 3, 4, 3, 4, 3, 2, 3, 3, 4, 3, 3, 3, 3, 2, 1, 1, 2, 1, 1, 0, 1, 1, 1, 0, 3, 1, 1, 0, 2, 1, 1, 2, 1, 1, 1, 2, 2, 1, 1, 0, 1, 1, 3, 1, 3, 1, 1, 1, 0, 1, 2, 1, 0, 0, 3, 2, 1, 1, 0, 1, 1, 1, 3, 1, 1, 1, 1, 0, 1, 0, 0, 2, 1, 3, 3, 3, 1, 1, 1, 0, 1, 1, 3, 1, 2, 1, 3, 1, 1, 3, 1, 1, 3, 1, 3, 2, 1, 3, 1, 1, 3, 1, 1, 1, 1, 1, 0, 1, 0, 1, 1, 3, 1, 1, 0, 0, 0, 2, 3, 1, 3, 1, 4, 1, 2, 3, 3, 0, 0, 1, 1, 2, 1, 2, 0, 1, 1, 1, 0, 1, 0, 3, 1, 3, 3, 1, 3, 1, 2, 1, 1, 1, 1, 3, 1, 1, 1, 1, 1, 1, 1, 1, 2, 1, 2, 3, 3, 2, 1, 1, 1, 0, 0, 0, 0, 4, 1, 2, 3, 1, 1, 1, 3, 1, 1, 2, 1, 3, 3, 3, 1, 3, 1, 3, 3, 3, 2, 1, 1, 0, 3, 1, 1, 1, 3, 0, 2, 3, 1, 3, 1, 3, 1, 1, 1, 1, 0, 1, 0, 1, 2, 2, 1, 1, 1, 1, 1, 1, 1, 0, 3, 3, 3, 1, 1, 1, 3, 1, 2, 1, 1, 1, 3, 0, 1, 1, 2, 1, 2, 1, 1, 1, 1, 1, 1, 2, 1, 3, 2, 1, 1, 0, 0, 1, 1, 1, 1, 3, 2, 1, 1, 1, 0, 0, 3, 1, 2, 1, 3, 1, 1, 1, 1, 3, 1, 3, 3, 3, 3, 1, 1, 1, 1, 3, 4, 1, 3, 1, 2, 1, 1, 1, 1, 1, 2, 1, 1, 1, 0, 1, 0, 1, 2, 0, 2, 3, 1, 0, 1, 3, 0, 1, 1, 1, 2, 1, 0, 0, 1, 1, 1, 0, 0, 0, 2, 0, 1, 3, 0, 1, 1, 1, 1, 1, 3, 0, 2, 1, 2, 2, 3, 2, 1, 3, 1, 0, 1, 1, 1, 3, 2, 0, 1, 1, 1, 0, 0, 1, 1, 2, 1, 1, 3, 0, 1, 1, 2, 1, 1, 1, 3, 3, 1, 1, 1, 1, 1, 0, 1, 2, 1, 1, 1, 3, 1, 1, 0, 1, 3, 1, 1, 0, 1, 3, 3, 1, 2, 3, 1, 1, 1, 3, 1, 3, 1, 1, 1, 3, 3, 3, 2, 2, 1, 1, 1, 1, 1, 0, 3, 1, 1, 0, 3, 2, 2, 1, 1, 1, 0, 3, 1, 2, 1, 2, 0, 1, 1, 1, 1, 1, 1, 2, 1, 1, 1, 1, 2, 1, 2, 3, 2, 1, 1, 1, 1, 1, 3, 1, 1, 1, 1, 1, 0, 0, 1, 1, 1, 3, 1, 1, 1, 1, 1, 1, 1, 1, 1, 3, 0, 1, 2, 1, 0, 1, 3, 3, 3, 1, 1, 1, 1, 1, 3, 1, 1, 1, 2, 1, 1, 1, 1, 1, 0, 1, 1, 0, 1, 3, 2, 1, 1, 1, 1, 4, 1, 0, 0, 1, 1, 1, 1, 1, 1, 1, 1, 1, 1, 1, 1, 1, 4, 0, 2, 1, 1, 1, 2, 1, 3, 1, 1, 1, 3, 1, 3, 0, 1, 0, 1, 3, 1, 1, 0, 0, 0, 3, 1, 1, 1, 1, 1, 0, 2, 3, 1, 3, 1, 1, 1, 1, 3, 0, 1, 1, 1, 1, 1, 2, 3, 1, 1, 3, 1, 1, 1, 1, 1, 1, 1, 1, 0, 1, 0, 0, 1, 2, 3, 1, 0, 1, 3, 1, 1, 2, 1, 2, 2, 1, 0, 1, 1, 1, 1, 1, 1, 1, 1, 1, 1, 3, 0, 1, 0, 3, 1, 3, 3, 1, 0, 1, 1, 4, 1, 1, 2, 0, 2, 3, 0, 1, 3, 3, 1, 1, 0, 1, 2, 1, 1, 1, 4, 1, 1, 1, 1, 1, 1, 3, 1, 1, 1, 1, 1, 2, 1, 2, 1, 1, 0, 1, 3, 4, 0, 3, 1, 3, 3, 1, 1, 1, 1, 1, 0, 1, 1, 2, 2, 2, 2, 0, 0, 1, 1, 1, 1, 1, 1, 3, 1, 2, 1, 2, 0, 3, 1, 3, 1, 1, 3, 1, 1, 3, 1, 3, 0, 1, 1, 1, 3, 0, 1, 0, 1, 3, 1, 3, 1, 3, 1, 3, 3, 1, 1, 1, 3, 1, 1, 1, 3, 1, 1, 1, 1, 2, 1, 1, 1, 1, 1, 3, 0, 0, 1, 1, 3, 1, 1, 1, 1, 0, 2, 0, 1, 1, 0, 1, 1, 0, 1, 1, 1, 1, 1, 0, 1, 0, 2, 1, 0, 1, 1, 1, 1, 1, 1, 3, 3, 1, 1, 1, 1, 1, 1, 1, 2, 2, 2, 1, 0, 1, 1, 3, 1, 1, 2, 1, 0, 0, 0, 1, 3, 1, 1, 3, 1, 1, 1, 3, 1, 1, 0, 1, 0, 1, 2, 2, 1, 1, 1, 1, 0, 2, 3, 1, 1, 1, 1, 3, 1, 1, 3, 1, 1, 1, 1, 0, 1, 3, 3, 1, 1, 1, 1, 1, 3, 1, 0, 1, 1, 0, 1, 2, 1, 3, 1, 1, 1, 0, 0, 3, 1, 0, 1, 4, 1, 4, 2, 1, 3, 4, 1, 1, 0, 3, 1, 3, 3, 1, 4, 0, 1, 3, 1, 1, 1, 1, 0, 1, 1, 1, 2, 1, 1, 1, 1, 1, 1, 1, 1, 2, 2, 0, 1, 1, 1, 1, 3, 1, 1, 1, 2, 1, 1, 1, 0, 1, 1, 3, 1, 2, 1, 1, 3, 1, 1, 1, 0, 1, 0, 1, 1, 3, 1, 1, 1, 3, 3, 2, 0, 1, 1, 1, 1, 1, 4, 1, 0, 2, 1, 3, 0, 1, 3, 3, 0, 3, 1, 1, 3, 1, 1, 1, 2, 1, 1, 3, 1, 1, 1, 1, 2, 3, 3, 3, 3, 2, 1, 2, 1, 1, 1, 1, 1, 0, 1, 3, 1, 1, 1, 1, 3, 1, 1, 1, 1, 1, 3, 1, 2, 1, 1, 1, 1, 1, 1, 3, 1, 1, 1, 3, 2, 1, 1, 3, 1, 1, 3, 1, 1, 3, 3, 0, 3, 1, 2, 1, 3, 1, 3, 1, 1, 1, 1, 2, 1, 0, 1, 1, 1, 1, 1, 1, 1, 1, 1, 1, 3, 1, 1, 1, 1, 1, 2, 0, 0, 0, 2, 3, 1, 0, 1, 1, 3, 1, 0, 1, 3, 1, 1, 3, 1, 1, 3, 1, 1, 3, 3, 0, 1, 1, 1, 1, 3, 1, 1, 1, 1, 1, 1, 0, 4, 2, 2, 1, 0, 2, 3, 1, 1, 3, 1, 3, 3, 1, 1, 1, 2, 3, 1, 1, 1, 1, 1, 1, 2, 0, 2, 1, 0, 1, 0, 1, 1, 3, 0, 3, 1, 4, 1, 1, 0, 4, 4, 4, 1, 1], [3, 3, 3, 3, 4, 1, 3, 1, 3, 4, 3, 1, 4, 1, 3, 2, 4, 4, 4, 4, 4, 4, 3, 3, 3, 3, 3, 1, 2, 0, 4, 2, 1, 3, 1, 3, 2, 4, 1, 1, 3, 1, 3, 4, 3, 1, 4, 4, 3, 3, 3, 1, 3, 4, 3, 3, 3, 1, 4, 3, 3, 2, 4, 2, 3, 3, 4, 4, 4, 3, 1, 3, 4, 1, 3, 2, 3, 4, 3, 1, 3, 4, 3, 2, 3, 3, 3, 2, 3, 1, 1, 3, 1, 1, 3, 4, 1, 4, 1, 3, 2, 3, 1, 3, 2, 1, 3, 3, 3, 4, 3, 2, 1, 3, 2, 4, 4, 3, 4, 3, 3, 3, 2, 3, 3, 3, 2, 1, 2, 3, 3, 3, 3, 3, 3, 2, 3, 3, 1, 3, 3, 1, 3, 3, 3, 3, 3, 3, 1, 2, 3, 3, 2, 1, 4, 4, 3, 3, 4, 1, 2, 3, 3, 3, 3, 3, 1, 3, 1, 4, 3, 3, 3, 4, 3, 3, 3, 0, 4, 4, 4, 3, 3, 3, 4, 3, 1, 1, 3, 4, 3, 3, 3, 1, 3, 3, 3, 4, 3, 3, 3, 4, 1, 1, 3, 2, 1, 3, 2, 3, 1, 3, 3, 1, 3, 3, 4, 3, 3, 3, 4, 3, 3, 3, 4, 1, 1, 1, 2, 4, 4, 3, 3, 3, 3, 1, 4, 3, 2, 3, 4, 3, 3, 2, 3, 3, 1, 3, 3, 1, 3, 2, 4, 4, 1, 3, 3, 3, 3, 4, 4, 3, 3, 3, 1, 2, 2, 3, 3, 3, 3, 3, 3, 4, 4, 2, 1, 1, 3, 1, 3, 4, 1, 3, 3, 1, 2, 1, 3, 3, 3, 3, 1, 2, 1, 1, 3, 1, 1, 3, 4, 1, 4, 3, 4, 3, 1, 1, 0, 4, 1, 1, 2, 3, 3, 2, 3, 3, 3, 2, 2, 1, 4, 3, 1, 1, 2, 3, 2, 4, 3, 3, 3, 3, 4, 2, 4, 2, 4, 1, 1, 4, 1, 3, 2, 3, 3, 3, 1, 3, 3, 3, 4, 3, 1, 3, 3, 1, 4, 1, 3, 3, 4, 3, 3, 4, 1, 4, 4, 1, 2, 4, 1, 1, 2, 3, 1, 2, 3, 3, 3, 1, 3, 3, 1, 3, 4, 4, 4, 3, 4, 3, 3, 3, 3, 3, 3, 3, 4, 0, 3, 3, 4, 3, 3, 1, 1, 2, 3, 3, 1, 3, 4, 3, 3, 3, 3, 1, 1, 3, 2, 4, 3, 1, 1, 2, 3, 1, 1, 2, 1, 3, 4, 4, 3, 1, 3, 4, 1, 3, 3, 3, 3, 1, 2, 2, 4, 3, 1, 3, 3, 4, 2, 3, 1, 4, 3, 3, 4, 3, 4, 3, 1, 3, 1, 1, 1, 3, 4, 3, 2, 2, 4, 1, 2, 2, 3, 2, 3, 3, 1, 3, 3, 3, 3, 3, 3, 3, 4, 3, 2, 3, 3, 1, 3, 4, 1, 3, 4, 3, 3, 2, 3, 4, 2, 1, 3, 3, 3, 3, 4, 3, 3, 3, 3, 1, 1, 1, 1, 0, 3, 1, 4, 3, 1, 4, 3, 2, 3, 2, 4, 3, 3, 3, 1, 2, 4, 3, 2, 3, 3, 4, 2, 2, 3, 2, 4, 3, 3, 3, 1, 2, 3, 4, 3, 4, 3, 2, 2, 3, 3, 1, 1, 3, 1, 3, 3, 4, 1, 3, 4, 3, 3, 4, 1, 2, 3, 1, 3, 3, 2, 3, 2, 3, 3, 4, 3, 3, 1, 3, 2, 3, 3, 3, 3, 4, 3, 3, 3, 3, 3, 2, 3, 3, 4, 4, 3, 3, 4, 4, 3, 3, 3, 3, 3, 2, 3, 1, 3, 3, 2, 1, 2, 3, 1, 1, 3, 4, 3, 2, 1, 1, 3, 1, 3, 1, 2, 1, 1, 4, 3, 1, 4, 2, 1, 2, 1, 3, 1, 2, 4, 3, 1, 3, 4, 3, 4, 3, 3, 3, 3, 3, 1, 3, 3, 3, 2, 3, 3, 1, 1, 4, 3, 1, 3, 1, 1, 4, 4, 4, 3, 3, 3, 3, 3, 1, 4, 2, 1, 3, 1, 3, 3, 3, 4, 3, 4, 3, 3, 4, 1, 2, 4, 3, 4, 3, 1, 2, 3, 3, 1, 2, 4, 1, 3, 1, 4, 1, 3, 4, 1, 3, 3, 4, 1, 3, 3, 4, 4, 4, 4, 4, 3, 3, 3, 3, 3, 1, 4, 0, 3, 3, 3, 2, 4, 1, 3, 1, 4, 3, 4, 3, 3, 4, 3, 1, 3, 1, 1, 2, 3, 3, 4, 2, 3, 3, 3, 4, 4, 3, 4, 3, 3, 3, 1, 3, 3, 2, 4, 3, 3, 2, 4, 3, 3, 3, 3, 3, 4, 3, 4, 1, 3, 3, 1, 1, 1, 4, 2, 3, 2, 3, 3, 3, 3, 3, 4, 3, 1, 3, 2, 4, 3, 4, 4, 4, 2, 3, 3, 3, 3, 1, 3, 3, 3, 3, 3, 3, 3, 4, 1, 3, 3, 3, 3, 3, 3, 2, 4, 1, 2, 3, 3, 3, 2, 1, 3, 3, 3, 3, 2, 3, 3, 4, 4, 3, 4, 3, 3, 1, 3, 4, 0, 3, 1, 3, 3, 4, 3, 3, 3, 2, 3, 3, 4, 3, 2, 3, 1, 2, 1, 3, 4, 3, 2, 3, 1, 3, 3, 2, 4, 1, 1, 1, 3, 1, 3, 3, 2, 1, 1, 3, 2, 3, 2, 3, 3, 1, 3, 1, 3, 2, 2, 3, 3, 3, 4, 1, 1, 3, 4, 3, 4, 3, 2, 4, 4, 3, 3, 3, 3, 1, 3, 2, 4, 3, 3, 1, 1, 1, 3, 4, 4, 3, 3, 4, 4, 4, 1, 2, 4, 3, 1, 1, 3, 4, 1, 3, 3, 3, 3, 2, 3, 3, 1, 4, 3, 3, 4, 3, 3, 4, 1, 3, 3, 3, 1, 3, 4, 3, 3, 3, 3, 3, 2, 4, 1, 4, 1, 1, 3, 2, 3, 3, 2, 4, 3, 4, 3, 3, 3, 1, 3, 3, 3, 2, 1, 3, 3, 3, 1, 3, 2, 4, 4, 1, 3, 3, 2, 2, 2, 4, 3, 4, 1, 1, 1, 2, 3, 4, 4, 3, 2, 3, 4, 3, 2, 3, 4, 3, 1, 4, 3, 2, 3, 2, 3, 4, 3, 1, 2, 4, 1, 3, 3, 3, 3, 3, 3, 1, 3, 1, 4, 2, 3, 3, 3, 2, 1, 1, 2, 1, 1, 0, 1, 1, 1, 0, 3, 1, 1, 1, 2, 1, 1, 2, 1, 1, 1, 2, 1, 1, 1, 0, 1, 1, 2, 1, 3, 1, 1, 1, 0, 1, 2, 0, 0, 0, 3, 2, 1, 1, 0, 1, 1, 1, 2, 1, 1, 1, 1, 0, 1, 0, 0, 2, 1, 1, 3, 1, 1, 1, 1, 0, 1, 1, 3, 1, 1, 1, 3, 0, 2, 3, 1, 3, 3, 1, 1, 1, 1, 3, 1, 1, 2, 1, 1, 1, 1, 1, 0, 1, 0, 1, 1, 2, 1, 1, 0, 0, 1, 1, 3, 1, 3, 1, 4, 1, 2, 3, 3, 0, 0, 1, 1, 2, 1, 2, 0, 2, 1, 1, 0, 1, 0, 2, 1, 1, 3, 1, 2, 1, 1, 1, 1, 1, 1, 2, 1, 1, 1, 1, 1, 1, 1, 1, 2, 1, 2, 3, 1, 3, 1, 1, 1, 1, 0, 1, 0, 3, 1, 2, 3, 1, 1, 1, 3, 1, 3, 2, 0, 3, 2, 1, 1, 3, 1, 1, 2, 3, 3, 1, 1, 0, 3, 1, 1, 1, 1, 0, 1, 1, 1, 3, 1, 2, 1, 1, 1, 1, 0, 2, 0, 1, 1, 1, 1, 1, 1, 1, 1, 1, 1, 0, 3, 3, 3, 1, 1, 1, 2, 1, 2, 1, 1, 1, 3, 0, 1, 1, 2, 1, 1, 1, 1, 1, 0, 1, 1, 2, 1, 1, 1, 1, 1, 0, 1, 1, 1, 1, 1, 3, 2, 1, 2, 1, 0, 0, 3, 1, 1, 1, 3, 1, 1, 1, 1, 2, 1, 3, 3, 2, 3, 1, 1, 0, 1, 3, 3, 1, 3, 1, 2, 1, 1, 1, 1, 1, 2, 1, 1, 2, 0, 1, 0, 1, 2, 0, 0, 3, 1, 0, 1, 1, 0, 1, 1, 1, 1, 1, 1, 1, 1, 1, 1, 0, 0, 0, 2, 0, 1, 3, 0, 1, 1, 1, 1, 1, 3, 0, 2, 1, 1, 2, 3, 2, 1, 2, 1, 0, 1, 1, 1, 3, 2, 0, 0, 1, 1, 0, 0, 1, 1, 1, 1, 1, 2, 1, 1, 1, 2, 1, 1, 0, 3, 1, 1, 1, 1, 1, 1, 1, 1, 2, 1, 1, 1, 3, 1, 1, 0, 1, 3, 1, 1, 1, 1, 1, 1, 1, 2, 2, 1, 1, 1, 3, 1, 3, 1, 1, 1, 3, 3, 3, 1, 2, 1, 1, 1, 1, 0, 0, 1, 1, 1, 0, 1, 1, 2, 1, 1, 1, 0, 3, 1, 2, 1, 2, 0, 0, 1, 1, 1, 2, 1, 1, 1, 1, 1, 1, 2, 1, 2, 2, 2, 1, 1, 1, 1, 1, 1, 1, 1, 1, 1, 0, 0, 0, 1, 1, 1, 2, 1, 1, 1, 1, 1, 1, 1, 1, 1, 2, 1, 1, 1, 1, 1, 1, 3, 2, 1, 1, 1, 1, 1, 1, 3, 1, 1, 1, 1, 1, 1, 1, 1, 1, 0, 1, 1, 0, 1, 1, 2, 1, 1, 1, 1, 4, 1, 0, 1, 1, 1, 1, 1, 1, 1, 1, 1, 1, 1, 1, 2, 1, 2, 0, 1, 1, 1, 1, 2, 1, 3, 1, 1, 1, 3, 1, 2, 0, 1, 1, 1, 3, 1, 1, 0, 0, 0, 3, 1, 1, 1, 1, 1, 0, 2, 3, 1, 3, 1, 1, 0, 1, 3, 0, 1, 1, 1, 1, 1, 2, 3, 1, 1, 3, 1, 1, 1, 1, 1, 1, 1, 1, 0, 1, 0, 0, 1, 2, 2, 1, 0, 1, 3, 1, 1, 2, 1, 2, 2, 1, 0, 1, 1, 1, 1, 1, 1, 1, 1, 1, 1, 1, 1, 1, 0, 3, 1, 2, 3, 1, 0, 1, 1, 3, 1, 1, 1, 0, 2, 3, 0, 1, 3, 3, 1, 1, 0, 1, 2, 1, 1, 1, 4, 1, 1, 1, 1, 1, 1, 2, 1, 1, 1, 1, 1, 2, 1, 2, 1, 1, 1, 1, 1, 4, 0, 3, 1, 3, 2, 1, 1, 1, 1, 1, 0, 1, 1, 2, 1, 2, 2, 0, 0, 1, 1, 1, 1, 1, 1, 3, 1, 2, 1, 1, 0, 3, 1, 0, 1, 1, 3, 1, 1, 3, 1, 3, 0, 1, 1, 1, 3, 0, 1, 0, 1, 3, 1, 3, 1, 1, 1, 0, 2, 1, 1, 1, 3, 1, 1, 1, 3, 1, 0, 1, 1, 2, 1, 1, 1, 1, 1, 3, 0, 0, 1, 1, 3, 0, 1, 1, 1, 0, 2, 0, 1, 1, 0, 1, 1, 0, 1, 1, 2, 1, 1, 0, 1, 0, 2, 1, 0, 0, 1, 1, 1, 1, 1, 2, 3, 1, 1, 1, 1, 1, 1, 1, 1, 3, 2, 1, 0, 1, 1, 4, 1, 1, 2, 0, 0, 0, 0, 1, 3, 1, 1, 3, 2, 1, 1, 3, 1, 1, 0, 1, 0, 1, 1, 1, 1, 1, 1, 1, 0, 2, 1, 1, 1, 1, 1, 2, 1, 1, 3, 1, 1, 1, 1, 0, 1, 3, 3, 1, 1, 1, 1, 1, 1, 1, 0, 1, 1, 0, 1, 1, 1, 3, 1, 1, 1, 0, 0, 3, 1, 0, 1, 3, 1, 3, 2, 1, 3, 3, 1, 1, 0, 1, 1, 1, 3, 1, 3, 1, 1, 3, 1, 1, 1, 0, 0, 1, 1, 1, 1, 1, 1, 1, 1, 1, 1, 1, 1, 1, 2, 0, 1, 1, 1, 1, 3, 1, 2, 1, 2, 1, 1, 1, 0, 1, 1, 1, 1, 1, 1, 1, 1, 1, 1, 1, 0, 1, 0, 1, 1, 3, 1, 1, 1, 1, 3, 2, 0, 0, 1, 1, 1, 1, 4, 1, 0, 1, 1, 1, 0, 1, 3, 2, 0, 3, 1, 1, 3, 1, 1, 1, 1, 1, 1, 2, 1, 1, 1, 1, 2, 2, 3, 1, 3, 1, 1, 2, 1, 1, 1, 1, 1, 0, 1, 3, 1, 1, 1, 1, 1, 1, 1, 1, 1, 1, 3, 1, 2, 1, 1, 1, 1, 1, 2, 1, 1, 1, 1, 3, 2, 1, 1, 3, 1, 1, 3, 1, 1, 2, 2, 0, 3, 1, 2, 1, 3, 1, 3, 1, 1, 1, 1, 2, 1, 0, 1, 1, 1, 1, 1, 1, 1, 1, 1, 1, 3, 1, 1, 1, 1, 1, 1, 1, 0, 0, 2, 2, 1, 1, 1, 1, 3, 1, 0, 1, 2, 1, 1, 1, 1, 1, 3, 1, 1, 3, 1, 1, 1, 1, 1, 1, 3, 1, 1, 1, 1, 1, 1, 0, 3, 2, 1, 1, 0, 1, 1, 1, 1, 3, 1, 3, 1, 1, 1, 1, 1, 3, 1, 1, 1, 1, 1, 1, 2, 0, 1, 1, 0, 1, 0, 1, 1, 3, 0, 1, 1, 2, 1, 1, 0, 3, 4, 3, 1, 1], [3, 3, 3, 3, 4, 1, 3, 2, 4, 4, 3, 2, 4, 2, 3, 2, 4, 3, 4, 4, 4, 4, 3, 3, 3, 3, 3, 3, 3, 0, 4, 2, 1, 3, 1, 3, 2, 3, 1, 1, 3, 1, 3, 4, 3, 1, 4, 4, 4, 3, 3, 3, 3, 4, 3, 3, 3, 1, 4, 3, 3, 2, 4, 2, 3, 3, 4, 4, 4, 3, 1, 3, 4, 1, 3, 3, 3, 4, 3, 3, 3, 4, 3, 4, 4, 3, 3, 3, 3, 2, 2, 3, 1, 1, 3, 4, 1, 4, 1, 3, 3, 3, 1, 3, 2, 3, 3, 3, 3, 4, 3, 3, 1, 2, 2, 4, 4, 3, 4, 3, 4, 3, 3, 3, 3, 3, 2, 4, 3, 3, 3, 3, 3, 3, 3, 2, 3, 3, 2, 3, 2, 1, 3, 3, 3, 3, 3, 3, 1, 2, 3, 3, 2, 2, 4, 4, 3, 1, 4, 1, 2, 3, 3, 3, 3, 3, 2, 3, 1, 4, 3, 3, 3, 3, 3, 3, 3, 0, 4, 4, 4, 3, 3, 3, 4, 3, 1, 1, 3, 4, 4, 4, 3, 3, 4, 3, 3, 4, 3, 3, 3, 4, 1, 2, 3, 2, 2, 3, 2, 3, 2, 3, 3, 3, 3, 3, 4, 3, 3, 3, 4, 3, 3, 3, 4, 3, 1, 1, 3, 4, 4, 3, 3, 3, 3, 1, 4, 3, 3, 3, 4, 4, 3, 2, 3, 3, 1, 3, 3, 3, 3, 2, 4, 4, 2, 3, 3, 3, 3, 4, 4, 3, 3, 3, 2, 2, 2, 3, 3, 3, 3, 3, 3, 4, 4, 2, 3, 1, 3, 1, 3, 4, 1, 3, 3, 3, 2, 1, 3, 3, 3, 3, 2, 3, 2, 2, 3, 3, 2, 3, 3, 1, 4, 3, 4, 3, 1, 2, 0, 4, 1, 1, 2, 3, 3, 2, 3, 3, 3, 2, 1, 2, 4, 3, 1, 1, 2, 3, 3, 4, 3, 3, 3, 3, 3, 3, 4, 3, 4, 3, 2, 3, 2, 3, 2, 3, 3, 3, 2, 3, 3, 3, 4, 3, 2, 3, 3, 1, 4, 3, 3, 3, 4, 3, 3, 4, 0, 3, 4, 1, 2, 4, 1, 1, 3, 3, 1, 3, 3, 3, 3, 1, 4, 3, 3, 3, 3, 4, 4, 3, 3, 3, 3, 3, 4, 3, 3, 3, 4, 2, 3, 3, 4, 3, 3, 2, 2, 3, 3, 3, 1, 3, 4, 3, 3, 3, 3, 0, 1, 3, 3, 4, 3, 1, 1, 3, 3, 0, 3, 2, 1, 3, 4, 4, 3, 0, 3, 4, 1, 3, 3, 3, 3, 3, 2, 2, 4, 3, 1, 3, 3, 4, 2, 3, 1, 4, 3, 3, 4, 3, 4, 3, 1, 3, 3, 1, 1, 3, 3, 3, 2, 2, 3, 3, 3, 2, 3, 2, 3, 3, 1, 3, 3, 3, 3, 3, 3, 3, 4, 3, 3, 3, 3, 2, 3, 4, 1, 3, 4, 3, 3, 2, 3, 4, 2, 2, 4, 3, 3, 3, 4, 3, 3, 3, 3, 2, 1, 2, 3, 0, 3, 2, 4, 3, 1, 4, 3, 3, 3, 3, 4, 3, 3, 3, 1, 3, 4, 3, 3, 3, 3, 4, 2, 2, 3, 3, 4, 3, 3, 3, 1, 2, 3, 4, 3, 3, 3, 3, 2, 3, 3, 2, 2, 3, 2, 3, 3, 3, 1, 3, 4, 4, 3, 4, 2, 2, 3, 1, 3, 3, 2, 3, 2, 3, 3, 4, 4, 3, 1, 3, 2, 2, 3, 3, 4, 4, 3, 3, 3, 3, 3, 2, 3, 3, 4, 3, 3, 3, 4, 4, 3, 3, 3, 3, 3, 3, 3, 1, 3, 3, 2, 1, 2, 3, 3, 3, 3, 4, 3, 2, 1, 3, 3, 1, 3, 1, 2, 1, 1, 4, 3, 1, 4, 2, 1, 3, 2, 3, 3, 2, 4, 3, 3, 3, 4, 3, 3, 3, 3, 3, 3, 3, 2, 3, 3, 3, 3, 3, 3, 1, 3, 4, 4, 1, 3, 1, 1, 4, 4, 4, 4, 3, 3, 3, 3, 1, 4, 2, 1, 3, 1, 3, 3, 3, 4, 3, 4, 3, 3, 4, 1, 2, 4, 4, 4, 3, 1, 2, 3, 3, 1, 3, 4, 1, 3, 3, 4, 1, 3, 4, 2, 3, 3, 4, 2, 3, 3, 4, 4, 4, 4, 4, 4, 3, 3, 3, 4, 2, 4, 0, 1, 3, 3, 3, 4, 1, 4, 1, 4, 3, 4, 3, 3, 4, 3, 1, 3, 1, 1, 2, 4, 3, 4, 2, 3, 3, 3, 4, 4, 3, 4, 3, 3, 3, 1, 3, 3, 2, 4, 4, 4, 2, 4, 3, 3, 3, 3, 4, 4, 3, 4, 0, 3, 3, 1, 1, 1, 4, 3, 3, 2, 3, 3, 3, 3, 3, 4, 3, 1, 3, 2, 4, 3, 4, 4, 4, 2, 3, 3, 3, 3, 3, 3, 3, 3, 3, 3, 3, 3, 4, 1, 3, 3, 3, 3, 3, 3, 2, 4, 2, 2, 3, 3, 3, 3, 3, 4, 2, 3, 4, 3, 3, 4, 4, 4, 3, 4, 3, 3, 1, 3, 4, 0, 3, 3, 3, 3, 4, 3, 3, 3, 2, 3, 3, 4, 3, 3, 3, 1, 2, 1, 2, 4, 3, 3, 3, 2, 3, 3, 2, 4, 1, 1, 1, 3, 1, 3, 3, 3, 3, 1, 3, 3, 3, 2, 3, 3, 2, 3, 1, 3, 2, 3, 2, 3, 3, 4, 1, 3, 3, 3, 3, 4, 3, 2, 4, 4, 3, 3, 3, 3, 0, 3, 2, 4, 3, 3, 2, 1, 3, 3, 4, 4, 3, 3, 4, 4, 4, 1, 3, 4, 3, 1, 2, 3, 4, 2, 3, 3, 3, 3, 3, 3, 3, 1, 3, 3, 3, 4, 3, 3, 4, 3, 3, 3, 3, 1, 4, 4, 3, 1, 3, 3, 3, 2, 4, 2, 4, 1, 2, 4, 3, 3, 3, 2, 4, 3, 4, 2, 3, 3, 1, 3, 3, 3, 2, 1, 3, 2, 3, 0, 3, 3, 4, 4, 1, 3, 3, 3, 2, 2, 4, 3, 4, 1, 1, 1, 3, 3, 4, 4, 3, 3, 4, 4, 3, 2, 3, 4, 4, 2, 4, 3, 2, 3, 2, 3, 4, 3, 1, 3, 4, 3, 3, 3, 3, 4, 3, 3, 2, 3, 1, 4, 3, 3, 3, 3, 2, 1, 1, 2, 1, 1, 0, 1, 1, 1, 1, 3, 1, 1, 0, 2, 1, 1, 2, 1, 2, 0, 2, 2, 0, 1, 0, 1, 1, 1, 1, 3, 2, 1, 1, 0, 1, 2, 0, 0, 0, 3, 2, 1, 3, 0, 1, 1, 0, 2, 1, 1, 1, 1, 0, 1, 0, 0, 2, 2, 1, 3, 2, 1, 1, 2, 0, 1, 1, 3, 1, 2, 0, 3, 0, 2, 3, 2, 1, 3, 1, 3, 2, 1, 3, 1, 1, 2, 1, 1, 1, 1, 1, 0, 1, 0, 1, 1, 1, 1, 0, 0, 0, 0, 2, 3, 1, 3, 1, 4, 1, 2, 3, 3, 0, 0, 2, 1, 2, 0, 2, 0, 2, 1, 1, 0, 1, 0, 3, 1, 1, 3, 1, 2, 1, 1, 1, 1, 1, 2, 3, 1, 1, 1, 1, 1, 2, 1, 1, 2, 1, 2, 2, 2, 2, 1, 1, 3, 1, 0, 0, 0, 3, 1, 1, 3, 1, 1, 1, 3, 1, 1, 2, 1, 3, 2, 2, 1, 3, 1, 3, 2, 3, 2, 1, 1, 0, 3, 1, 1, 1, 3, 0, 1, 1, 1, 3, 0, 2, 0, 1, 3, 1, 0, 2, 0, 1, 3, 1, 2, 1, 2, 1, 1, 1, 2, 0, 3, 3, 3, 0, 1, 1, 2, 1, 2, 1, 1, 1, 3, 0, 1, 1, 2, 1, 2, 2, 1, 1, 1, 1, 1, 2, 1, 2, 2, 1, 1, 0, 0, 1, 1, 2, 1, 3, 3, 1, 2, 1, 0, 0, 3, 1, 2, 1, 3, 1, 1, 2, 1, 3, 1, 3, 3, 3, 3, 2, 1, 0, 1, 3, 3, 1, 3, 1, 2, 3, 0, 1, 1, 2, 2, 1, 1, 2, 0, 1, 0, 1, 2, 0, 2, 3, 1, 0, 1, 3, 0, 0, 1, 1, 2, 1, 0, 1, 1, 2, 1, 0, 0, 2, 2, 0, 1, 3, 0, 2, 1, 0, 1, 1, 3, 0, 2, 1, 2, 2, 3, 2, 1, 2, 1, 0, 1, 1, 1, 3, 2, 0, 1, 1, 2, 0, 1, 2, 1, 3, 1, 1, 3, 1, 1, 1, 2, 1, 2, 0, 3, 1, 1, 1, 1, 1, 1, 1, 2, 1, 1, 0, 1, 3, 1, 0, 0, 1, 3, 1, 1, 1, 1, 3, 3, 1, 2, 3, 1, 1, 1, 3, 1, 3, 1, 0, 1, 3, 3, 3, 2, 2, 1, 1, 1, 1, 0, 0, 3, 1, 1, 0, 1, 1, 1, 1, 1, 1, 0, 3, 1, 1, 2, 2, 0, 0, 1, 1, 1, 2, 2, 2, 1, 1, 1, 1, 2, 1, 2, 3, 2, 1, 1, 1, 1, 1, 2, 1, 2, 1, 1, 0, 0, 0, 1, 2, 1, 2, 1, 1, 1, 1, 1, 1, 1, 1, 1, 2, 0, 1, 2, 1, 0, 1, 3, 3, 1, 1, 1, 2, 1, 2, 3, 1, 1, 2, 2, 2, 1, 2, 1, 1, 1, 1, 1, 0, 1, 2, 2, 1, 2, 1, 2, 3, 1, 0, 1, 1, 1, 1, 1, 1, 1, 1, 1, 1, 2, 1, 2, 0, 4, 0, 2, 2, 1, 1, 2, 1, 2, 1, 1, 1, 3, 1, 3, 0, 1, 0, 1, 3, 1, 1, 0, 0, 0, 3, 0, 2, 2, 1, 1, 0, 2, 3, 1, 3, 1, 1, 0, 1, 1, 0, 1, 2, 1, 1, 1, 2, 3, 1, 1, 3, 1, 2, 1, 1, 1, 1, 1, 2, 0, 1, 0, 0, 0, 2, 3, 1, 0, 1, 3, 1, 1, 2, 1, 2, 2, 2, 0, 1, 1, 1, 1, 1, 2, 1, 2, 1, 2, 1, 2, 1, 0, 3, 1, 2, 2, 1, 0, 1, 1, 4, 1, 0, 2, 0, 2, 3, 0, 1, 3, 3, 0, 1, 0, 1, 2, 1, 1, 1, 4, 1, 1, 1, 1, 1, 1, 1, 0, 2, 1, 1, 1, 2, 1, 2, 1, 1, 1, 1, 1, 4, 0, 3, 1, 3, 2, 1, 1, 1, 1, 1, 0, 1, 1, 2, 3, 2, 2, 0, 0, 1, 1, 1, 3, 1, 1, 3, 1, 2, 2, 2, 0, 3, 1, 2, 1, 0, 3, 2, 1, 3, 1, 3, 0, 2, 1, 1, 3, 0, 1, 0, 1, 3, 1, 3, 3, 1, 1, 0, 2, 1, 1, 1, 3, 1, 1, 1, 1, 1, 1, 1, 1, 3, 1, 1, 1, 1, 1, 3, 1, 0, 1, 1, 3, 2, 2, 1, 1, 0, 2, 0, 0, 1, 0, 1, 1, 0, 1, 1, 1, 1, 1, 0, 1, 1, 2, 1, 0, 1, 1, 2, 1, 1, 2, 2, 3, 1, 1, 1, 1, 1, 1, 2, 3, 3, 2, 1, 0, 0, 3, 3, 2, 2, 2, 0, 0, 0, 0, 1, 3, 1, 0, 3, 2, 2, 2, 3, 1, 1, 0, 1, 0, 1, 1, 2, 1, 2, 0, 1, 0, 2, 3, 1, 1, 2, 1, 2, 1, 2, 3, 2, 1, 1, 1, 0, 1, 3, 3, 1, 2, 2, 1, 2, 3, 0, 0, 1, 1, 0, 1, 2, 1, 3, 1, 1, 1, 0, 1, 3, 1, 0, 1, 4, 1, 3, 2, 1, 3, 3, 1, 2, 0, 3, 0, 1, 3, 1, 3, 0, 1, 3, 2, 2, 1, 0, 1, 1, 1, 3, 2, 1, 1, 1, 2, 1, 2, 1, 1, 1, 2, 0, 1, 1, 2, 1, 3, 1, 2, 1, 1, 1, 1, 1, 0, 1, 1, 3, 1, 2, 2, 0, 2, 1, 1, 2, 0, 1, 0, 1, 1, 3, 1, 0, 1, 1, 3, 2, 0, 1, 1, 1, 1, 1, 4, 2, 1, 2, 1, 2, 0, 1, 3, 3, 0, 3, 0, 1, 3, 1, 1, 2, 1, 0, 1, 3, 1, 1, 1, 1, 2, 3, 2, 0, 2, 2, 1, 2, 1, 1, 3, 1, 1, 0, 1, 3, 1, 1, 1, 1, 2, 1, 1, 1, 2, 1, 3, 1, 3, 1, 1, 1, 1, 1, 2, 2, 1, 1, 1, 3, 2, 1, 2, 3, 0, 1, 2, 1, 1, 2, 1, 0, 3, 1, 2, 1, 3, 1, 3, 0, 1, 1, 1, 2, 1, 0, 1, 1, 0, 1, 1, 0, 1, 1, 2, 1, 2, 1, 1, 1, 2, 1, 2, 0, 0, 0, 2, 3, 1, 0, 1, 0, 3, 2, 0, 1, 2, 1, 2, 1, 1, 1, 3, 1, 1, 3, 3, 0, 1, 1, 0, 1, 3, 1, 1, 1, 1, 1, 1, 0, 3, 2, 2, 1, 0, 1, 3, 1, 1, 3, 1, 3, 1, 0, 1, 1, 2, 3, 1, 1, 1, 1, 2, 1, 2, 0, 2, 1, 0, 1, 0, 1, 1, 3, 0, 3, 1, 3, 1, 1, 0, 3, 4, 4, 1, 1], [3, 3, 3, 3, 4, 1, 3, 1, 4, 4, 3, 3, 4, 1, 3, 2, 4, 3, 4, 4, 4, 4, 3, 3, 3, 3, 3, 3, 3, 0, 4, 2, 1, 3, 1, 3, 2, 4, 1, 1, 3, 1, 3, 4, 3, 1, 4, 4, 3, 3, 3, 3, 3, 4, 3, 3, 3, 1, 4, 3, 3, 2, 4, 1, 3, 3, 4, 4, 4, 3, 1, 3, 4, 2, 3, 3, 4, 4, 3, 1, 3, 4, 1, 4, 4, 3, 3, 3, 3, 1, 1, 3, 1, 1, 3, 4, 1, 4, 1, 3, 3, 3, 1, 3, 2, 1, 3, 3, 3, 3, 3, 3, 3, 2, 2, 4, 4, 3, 4, 3, 4, 3, 3, 3, 3, 4, 2, 4, 3, 3, 3, 3, 3, 3, 3, 2, 3, 3, 1, 3, 2, 1, 3, 3, 3, 3, 3, 4, 1, 2, 3, 3, 2, 2, 4, 4, 4, 1, 4, 1, 2, 3, 3, 3, 3, 3, 1, 3, 1, 4, 3, 3, 3, 4, 3, 3, 3, 1, 4, 4, 4, 3, 4, 3, 4, 3, 1, 1, 3, 4, 3, 4, 3, 2, 3, 3, 3, 4, 3, 3, 3, 4, 1, 1, 3, 2, 1, 3, 2, 3, 3, 3, 3, 3, 3, 3, 4, 3, 3, 3, 4, 3, 3, 3, 4, 3, 1, 1, 2, 4, 4, 3, 3, 3, 3, 1, 4, 3, 2, 3, 4, 3, 3, 1, 3, 3, 1, 3, 3, 3, 3, 2, 4, 4, 1, 3, 3, 3, 3, 4, 4, 3, 3, 3, 2, 1, 2, 3, 3, 3, 3, 3, 3, 4, 4, 2, 1, 1, 3, 1, 3, 4, 1, 3, 3, 3, 2, 1, 3, 3, 3, 3, 1, 2, 1, 2, 3, 3, 1, 3, 3, 1, 4, 3, 4, 3, 1, 2, 0, 4, 1, 1, 2, 3, 3, 2, 3, 3, 3, 1, 1, 1, 4, 3, 1, 1, 1, 3, 2, 4, 3, 3, 3, 3, 3, 1, 4, 2, 4, 2, 2, 3, 1, 3, 3, 4, 3, 3, 1, 3, 3, 3, 3, 3, 1, 3, 3, 2, 4, 3, 3, 3, 4, 4, 4, 4, 1, 4, 4, 1, 2, 4, 1, 1, 3, 3, 1, 3, 3, 3, 3, 1, 3, 3, 3, 3, 4, 4, 4, 4, 3, 3, 3, 3, 4, 3, 3, 3, 4, 0, 3, 3, 4, 3, 3, 3, 1, 2, 3, 3, 1, 3, 4, 3, 3, 3, 3, 0, 1, 3, 1, 4, 3, 1, 1, 3, 3, 1, 2, 2, 1, 3, 4, 4, 3, 1, 3, 4, 1, 3, 3, 3, 3, 1, 2, 2, 4, 3, 1, 3, 4, 4, 1, 4, 2, 4, 3, 3, 4, 3, 4, 3, 1, 3, 3, 0, 1, 3, 4, 3, 2, 2, 4, 1, 2, 2, 3, 3, 3, 3, 1, 3, 3, 3, 3, 3, 3, 3, 4, 3, 3, 3, 3, 2, 3, 4, 1, 3, 4, 3, 3, 3, 1, 4, 3, 1, 3, 3, 3, 3, 4, 3, 3, 1, 3, 1, 1, 1, 3, 0, 3, 2, 4, 3, 2, 4, 3, 3, 3, 2, 4, 1, 3, 3, 1, 3, 4, 3, 3, 3, 3, 4, 2, 2, 3, 3, 4, 4, 3, 3, 1, 2, 3, 4, 3, 3, 3, 1, 2, 3, 3, 3, 1, 3, 1, 3, 3, 3, 2, 3, 4, 3, 3, 4, 1, 2, 4, 1, 3, 3, 2, 3, 2, 3, 3, 4, 3, 3, 1, 3, 2, 2, 1, 3, 4, 4, 3, 3, 3, 3, 3, 2, 4, 3, 4, 3, 3, 3, 4, 4, 3, 3, 3, 3, 4, 3, 3, 1, 3, 3, 2, 1, 2, 3, 3, 3, 3, 4, 3, 2, 1, 1, 3, 1, 3, 1, 1, 1, 1, 4, 3, 2, 4, 2, 1, 2, 1, 3, 2, 3, 4, 3, 3, 3, 4, 3, 4, 3, 3, 3, 3, 3, 1, 3, 3, 3, 2, 3, 3, 1, 1, 4, 3, 1, 3, 1, 1, 4, 4, 4, 3, 3, 3, 3, 3, 1, 4, 1, 3, 3, 1, 3, 3, 3, 4, 3, 4, 3, 3, 4, 1, 2, 4, 4, 4, 3, 1, 1, 3, 3, 1, 3, 4, 1, 3, 1, 4, 1, 3, 4, 1, 3, 3, 3, 1, 3, 3, 4, 4, 4, 4, 4, 4, 3, 3, 4, 3, 1, 4, 0, 3, 3, 3, 2, 4, 1, 4, 1, 4, 3, 4, 3, 3, 4, 3, 1, 3, 1, 1, 3, 3, 3, 4, 2, 2, 3, 4, 4, 4, 3, 4, 3, 3, 3, 1, 3, 1, 1, 4, 3, 4, 2, 4, 3, 3, 3, 3, 4, 4, 3, 4, 1, 3, 3, 1, 3, 0, 4, 2, 3, 2, 3, 3, 3, 3, 3, 4, 3, 1, 3, 2, 4, 2, 4, 4, 3, 2, 3, 3, 3, 3, 1, 3, 3, 3, 3, 3, 3, 3, 4, 1, 3, 3, 3, 3, 3, 3, 1, 4, 1, 1, 3, 3, 3, 2, 1, 4, 3, 3, 4, 3, 3, 3, 4, 4, 3, 4, 3, 3, 1, 3, 4, 2, 3, 4, 3, 4, 4, 3, 3, 3, 1, 3, 3, 4, 3, 3, 3, 1, 2, 1, 2, 4, 3, 3, 3, 2, 3, 3, 2, 4, 1, 1, 1, 3, 1, 3, 3, 3, 3, 1, 3, 3, 3, 1, 3, 3, 1, 4, 1, 3, 2, 3, 3, 3, 3, 4, 1, 1, 3, 4, 3, 4, 3, 2, 4, 4, 3, 3, 3, 2, 1, 4, 4, 4, 3, 3, 1, 1, 2, 3, 4, 4, 3, 3, 4, 4, 4, 1, 3, 4, 3, 1, 2, 3, 4, 1, 3, 4, 3, 3, 2, 3, 3, 1, 3, 3, 3, 4, 3, 3, 3, 3, 3, 3, 3, 1, 3, 4, 3, 3, 3, 3, 3, 2, 4, 2, 4, 1, 3, 4, 3, 3, 3, 2, 4, 3, 3, 3, 3, 3, 1, 3, 3, 3, 2, 1, 3, 3, 4, 1, 3, 2, 4, 4, 1, 4, 3, 3, 1, 2, 4, 3, 4, 1, 1, 1, 3, 3, 4, 4, 3, 1, 4, 4, 4, 2, 3, 4, 3, 3, 4, 3, 2, 3, 2, 4, 4, 3, 1, 3, 4, 3, 3, 3, 3, 4, 4, 2, 2, 3, 1, 4, 3, 3, 3, 3, 2, 1, 1, 2, 1, 1, 0, 1, 1, 1, 1, 3, 1, 1, 0, 2, 1, 1, 2, 1, 2, 0, 2, 1, 1, 1, 0, 1, 1, 2, 1, 3, 2, 1, 1, 0, 1, 2, 0, 0, 0, 3, 2, 1, 3, 0, 1, 1, 3, 1, 1, 1, 1, 1, 0, 1, 0, 0, 2, 1, 3, 3, 1, 1, 1, 1, 0, 1, 1, 3, 1, 2, 0, 3, 1, 1, 3, 1, 1, 1, 1, 3, 2, 1, 3, 1, 1, 2, 1, 1, 1, 1, 1, 0, 1, 1, 1, 1, 1, 1, 1, 0, 0, 1, 2, 3, 0, 3, 1, 4, 1, 1, 3, 3, 0, 0, 1, 1, 2, 1, 2, 0, 1, 1, 1, 0, 1, 0, 3, 1, 3, 3, 1, 3, 1, 1, 1, 1, 1, 2, 3, 1, 1, 1, 1, 1, 2, 1, 1, 2, 1, 2, 3, 3, 2, 2, 1, 1, 1, 0, 0, 0, 3, 1, 1, 3, 1, 1, 1, 3, 1, 3, 2, 1, 3, 1, 1, 1, 3, 1, 3, 1, 3, 2, 2, 1, 0, 3, 1, 1, 1, 1, 0, 1, 2, 1, 4, 0, 2, 0, 1, 1, 0, 0, 2, 0, 1, 2, 1, 1, 1, 1, 1, 1, 1, 1, 0, 3, 3, 3, 0, 1, 1, 1, 1, 2, 1, 1, 2, 2, 0, 1, 1, 2, 1, 1, 1, 1, 1, 1, 0, 1, 2, 1, 1, 2, 1, 1, 0, 0, 1, 1, 1, 1, 3, 3, 1, 2, 1, 0, 0, 3, 1, 1, 1, 4, 1, 1, 1, 0, 3, 1, 3, 3, 2, 3, 2, 1, 0, 1, 3, 4, 1, 3, 1, 2, 3, 1, 0, 1, 2, 1, 1, 1, 2, 0, 1, 0, 1, 2, 0, 2, 3, 1, 0, 1, 3, 0, 0, 1, 1, 1, 1, 1, 1, 1, 2, 1, 0, 0, 2, 2, 0, 1, 3, 0, 1, 1, 1, 1, 1, 2, 0, 3, 1, 2, 2, 3, 2, 1, 2, 1, 0, 0, 2, 1, 3, 2, 0, 1, 1, 1, 0, 0, 2, 1, 1, 1, 1, 3, 1, 1, 0, 1, 1, 1, 1, 3, 2, 1, 1, 1, 1, 1, 1, 1, 1, 1, 0, 1, 3, 1, 1, 0, 1, 3, 1, 1, 1, 1, 3, 3, 1, 2, 3, 1, 1, 1, 3, 1, 3, 1, 1, 1, 3, 3, 3, 2, 2, 1, 1, 1, 1, 0, 0, 3, 2, 1, 0, 1, 1, 1, 1, 1, 1, 0, 3, 1, 1, 1, 2, 0, 1, 1, 1, 0, 1, 1, 2, 1, 1, 1, 1, 2, 1, 2, 3, 2, 1, 1, 1, 1, 1, 1, 1, 1, 1, 1, 0, 1, 0, 1, 2, 1, 2, 1, 1, 1, 2, 1, 1, 1, 2, 1, 1, 0, 2, 1, 1, 0, 1, 3, 2, 1, 1, 1, 2, 1, 1, 3, 1, 1, 2, 2, 1, 1, 1, 1, 1, 0, 1, 1, 0, 1, 2, 1, 1, 1, 1, 2, 4, 1, 0, 1, 1, 1, 1, 1, 1, 1, 1, 1, 0, 1, 1, 2, 0, 2, 0, 2, 1, 1, 1, 2, 1, 2, 1, 1, 1, 3, 1, 3, 0, 1, 0, 1, 3, 1, 1, 0, 0, 0, 3, 1, 1, 1, 1, 1, 0, 2, 3, 1, 3, 1, 1, 0, 1, 1, 0, 1, 2, 1, 1, 1, 2, 3, 1, 1, 3, 1, 1, 1, 1, 1, 1, 1, 1, 0, 1, 0, 0, 1, 2, 3, 1, 0, 1, 3, 1, 1, 2, 1, 2, 2, 1, 0, 1, 1, 1, 1, 1, 1, 1, 2, 1, 1, 1, 2, 1, 0, 3, 1, 1, 3, 1, 0, 1, 1, 4, 1, 0, 2, 0, 1, 3, 0, 1, 2, 3, 1, 1, 0, 1, 2, 1, 1, 2, 4, 1, 1, 1, 1, 2, 1, 1, 1, 1, 1, 1, 1, 1, 1, 2, 2, 0, 1, 1, 2, 4, 0, 3, 1, 3, 1, 1, 1, 1, 1, 1, 0, 1, 1, 2, 3, 2, 2, 0, 0, 1, 1, 1, 1, 1, 1, 3, 1, 2, 1, 1, 0, 3, 1, 3, 1, 2, 3, 1, 1, 3, 1, 3, 0, 1, 1, 1, 3, 0, 1, 0, 1, 3, 2, 3, 2, 3, 1, 3, 2, 1, 1, 1, 3, 1, 1, 1, 3, 1, 0, 0, 1, 2, 1, 1, 1, 1, 1, 3, 1, 0, 1, 1, 2, 2, 2, 1, 1, 0, 2, 0, 1, 1, 0, 1, 1, 0, 1, 1, 1, 1, 1, 0, 1, 0, 2, 1, 0, 1, 1, 2, 1, 1, 1, 2, 4, 1, 1, 1, 1, 1, 1, 1, 2, 3, 1, 1, 0, 1, 1, 4, 1, 1, 1, 1, 1, 0, 1, 1, 4, 1, 1, 3, 2, 1, 1, 3, 1, 1, 0, 1, 0, 1, 1, 3, 1, 1, 0, 2, 0, 1, 1, 1, 1, 2, 1, 2, 1, 1, 3, 1, 1, 1, 1, 0, 1, 3, 3, 1, 1, 1, 1, 1, 1, 1, 2, 1, 1, 0, 1, 2, 1, 3, 1, 1, 1, 0, 0, 3, 1, 0, 1, 4, 1, 4, 2, 1, 3, 4, 1, 1, 0, 1, 1, 1, 3, 1, 3, 0, 1, 3, 2, 1, 1, 0, 0, 1, 1, 2, 2, 1, 1, 1, 2, 1, 1, 1, 1, 1, 2, 0, 1, 1, 1, 1, 3, 1, 2, 1, 1, 1, 1, 1, 0, 2, 1, 3, 0, 1, 1, 0, 1, 1, 2, 1, 0, 1, 0, 1, 1, 3, 1, 1, 1, 3, 3, 1, 0, 0, 1, 1, 1, 1, 4, 1, 1, 2, 1, 2, 0, 1, 3, 3, 0, 3, 0, 1, 2, 1, 1, 1, 1, 0, 1, 2, 1, 1, 1, 1, 2, 3, 3, 1, 2, 2, 1, 2, 1, 1, 3, 1, 1, 0, 1, 3, 1, 1, 1, 1, 2, 1, 2, 1, 1, 1, 3, 1, 1, 1, 1, 1, 2, 1, 2, 3, 1, 2, 1, 3, 1, 1, 2, 3, 1, 1, 2, 1, 1, 2, 2, 0, 3, 1, 2, 1, 3, 1, 3, 1, 1, 1, 1, 2, 1, 0, 1, 1, 0, 1, 1, 0, 1, 1, 2, 1, 2, 1, 1, 1, 1, 1, 1, 0, 0, 0, 2, 3, 1, 0, 1, 1, 3, 1, 0, 1, 2, 2, 2, 1, 1, 1, 3, 1, 1, 3, 1, 0, 1, 1, 0, 1, 3, 1, 1, 1, 1, 1, 1, 0, 3, 2, 2, 1, 0, 1, 3, 1, 1, 1, 1, 3, 1, 0, 1, 1, 2, 3, 1, 1, 1, 1, 2, 1, 2, 0, 1, 2, 0, 1, 0, 2, 1, 3, 0, 1, 1, 4, 1, 1, 0, 4, 4, 4, 1, 1], [3, 3, 3, 3, 4, 1, 3, 1, 4, 4, 3, 3, 4, 1, 3, 2, 4, 3, 4, 4, 4, 4, 3, 3, 3, 3, 3, 3, 3, 1, 4, 2, 1, 3, 1, 3, 2, 4, 1, 1, 3, 1, 3, 4, 3, 1, 4, 4, 3, 3, 3, 3, 3, 4, 3, 3, 3, 1, 4, 3, 4, 2, 4, 2, 3, 3, 4, 4, 4, 3, 1, 3, 4, 1, 2, 3, 4, 4, 3, 3, 3, 4, 3, 4, 4, 3, 3, 3, 4, 1, 1, 3, 1, 1, 1, 4, 1, 4, 1, 3, 3, 3, 1, 3, 3, 1, 3, 3, 3, 4, 3, 3, 3, 3, 2, 4, 4, 3, 4, 3, 4, 3, 3, 3, 3, 4, 2, 4, 3, 3, 3, 3, 3, 3, 3, 2, 3, 3, 1, 3, 2, 1, 3, 3, 3, 3, 4, 4, 1, 3, 3, 3, 2, 1, 4, 4, 3, 3, 4, 1, 2, 3, 3, 3, 4, 4, 1, 3, 1, 4, 3, 3, 3, 4, 3, 3, 3, 0, 4, 4, 4, 3, 3, 3, 4, 3, 1, 1, 4, 4, 4, 4, 3, 1, 4, 3, 3, 4, 3, 3, 3, 4, 1, 2, 2, 3, 1, 4, 2, 3, 2, 3, 3, 3, 3, 3, 4, 3, 3, 3, 4, 3, 3, 3, 4, 4, 1, 1, 2, 4, 3, 3, 3, 3, 3, 1, 4, 3, 3, 3, 4, 4, 4, 2, 3, 3, 1, 3, 3, 3, 3, 2, 4, 4, 2, 3, 3, 3, 3, 4, 4, 3, 3, 3, 2, 2, 2, 3, 4, 3, 3, 3, 3, 4, 4, 2, 1, 1, 3, 3, 3, 4, 1, 3, 4, 3, 2, 1, 3, 4, 3, 3, 1, 3, 2, 1, 4, 1, 1, 1, 4, 1, 4, 4, 4, 3, 1, 2, 0, 4, 1, 1, 2, 3, 3, 2, 3, 3, 3, 4, 1, 1, 4, 3, 1, 1, 2, 3, 1, 4, 3, 3, 3, 3, 3, 1, 4, 2, 4, 2, 2, 3, 1, 3, 2, 4, 3, 3, 2, 3, 3, 3, 4, 3, 1, 3, 3, 2, 4, 1, 4, 3, 4, 4, 4, 4, 0, 4, 4, 1, 3, 4, 1, 1, 2, 3, 1, 3, 3, 3, 3, 1, 3, 3, 3, 3, 4, 4, 4, 4, 4, 3, 3, 3, 4, 3, 4, 3, 4, 0, 3, 3, 4, 4, 3, 3, 1, 2, 3, 3, 1, 4, 4, 3, 3, 3, 3, 0, 1, 3, 3, 4, 4, 1, 1, 2, 3, 1, 3, 3, 1, 3, 4, 4, 4, 0, 3, 4, 1, 3, 3, 3, 3, 1, 2, 2, 4, 3, 1, 3, 4, 4, 2, 4, 2, 4, 3, 3, 4, 3, 4, 3, 1, 3, 3, 1, 1, 3, 4, 3, 2, 3, 4, 3, 3, 2, 3, 2, 3, 3, 1, 4, 3, 3, 3, 3, 3, 3, 4, 3, 3, 3, 3, 1, 3, 4, 1, 3, 4, 3, 4, 2, 3, 4, 3, 1, 4, 3, 3, 3, 4, 3, 3, 3, 3, 2, 1, 1, 1, 0, 3, 2, 4, 3, 1, 4, 3, 3, 3, 2, 4, 2, 3, 3, 1, 2, 4, 3, 3, 3, 3, 4, 2, 2, 3, 3, 4, 3, 3, 3, 1, 2, 3, 4, 3, 4, 3, 3, 2, 3, 3, 3, 1, 3, 1, 3, 3, 3, 1, 3, 4, 4, 3, 4, 2, 3, 4, 1, 3, 3, 3, 3, 2, 3, 3, 4, 3, 3, 1, 3, 2, 3, 3, 3, 4, 4, 3, 3, 3, 3, 3, 2, 3, 3, 4, 4, 3, 3, 4, 4, 3, 1, 3, 3, 4, 3, 3, 1, 3, 4, 2, 1, 2, 3, 3, 1, 3, 4, 3, 3, 1, 1, 3, 1, 3, 1, 1, 1, 1, 4, 3, 2, 3, 2, 1, 3, 2, 4, 1, 3, 4, 2, 3, 3, 4, 3, 4, 3, 3, 3, 3, 3, 1, 3, 3, 3, 3, 3, 3, 1, 4, 4, 3, 1, 3, 1, 1, 4, 4, 4, 4, 3, 4, 3, 4, 1, 4, 2, 4, 3, 1, 3, 3, 3, 4, 3, 4, 3, 3, 4, 1, 2, 4, 4, 4, 3, 1, 2, 3, 3, 1, 3, 4, 1, 3, 1, 4, 1, 3, 4, 2, 4, 3, 4, 1, 4, 3, 4, 4, 4, 4, 4, 4, 3, 3, 4, 4, 1, 4, 0, 3, 3, 3, 2, 4, 1, 4, 1, 4, 3, 4, 3, 3, 4, 3, 2, 3, 1, 1, 1, 3, 3, 4, 3, 2, 3, 3, 4, 4, 3, 4, 3, 4, 3, 1, 3, 3, 2, 4, 3, 4, 1, 4, 3, 3, 4, 3, 3, 4, 3, 4, 1, 3, 3, 1, 3, 0, 4, 2, 3, 3, 3, 3, 3, 3, 3, 4, 3, 1, 3, 2, 4, 3, 4, 4, 3, 2, 3, 3, 3, 3, 3, 3, 3, 3, 3, 3, 2, 3, 4, 1, 4, 3, 3, 3, 3, 4, 3, 4, 1, 1, 3, 3, 3, 3, 3, 4, 3, 3, 4, 3, 3, 4, 4, 4, 3, 4, 3, 3, 1, 3, 4, 0, 3, 4, 3, 4, 4, 3, 3, 3, 2, 3, 3, 4, 3, 4, 3, 1, 2, 1, 2, 4, 3, 3, 4, 2, 3, 3, 2, 4, 1, 2, 1, 3, 1, 3, 3, 2, 1, 1, 3, 2, 3, 2, 3, 3, 3, 3, 1, 3, 2, 3, 3, 3, 3, 4, 1, 1, 3, 4, 3, 4, 3, 2, 4, 4, 3, 3, 3, 3, 1, 3, 3, 4, 3, 3, 1, 1, 1, 3, 4, 4, 3, 3, 4, 4, 4, 0, 3, 4, 3, 1, 1, 3, 4, 1, 4, 3, 3, 3, 2, 3, 4, 1, 3, 3, 3, 4, 3, 2, 4, 3, 3, 3, 3, 1, 4, 4, 3, 3, 4, 4, 3, 2, 4, 1, 4, 1, 1, 4, 3, 3, 3, 2, 4, 3, 4, 3, 3, 3, 1, 3, 3, 3, 2, 1, 3, 3, 4, 1, 4, 4, 4, 4, 1, 3, 3, 3, 1, 1, 4, 3, 4, 1, 1, 1, 3, 3, 4, 4, 3, 2, 4, 4, 4, 2, 3, 4, 4, 2, 4, 2, 2, 3, 2, 3, 4, 3, 1, 3, 4, 3, 3, 3, 3, 3, 3, 3, 1, 3, 1, 4, 3, 3, 3, 3, 2, 1, 1, 2, 1, 1, 0, 1, 1, 1, 1, 3, 1, 1, 0, 2, 1, 1, 2, 1, 2, 1, 2, 1, 0, 1, 0, 1, 1, 2, 1, 3, 1, 1, 1, 0, 1, 2, 0, 0, 0, 3, 2, 1, 1, 0, 0, 1, 2, 2, 1, 2, 1, 1, 0, 1, 0, 0, 2, 1, 3, 4, 3, 2, 1, 3, 0, 1, 1, 3, 1, 1, 0, 3, 0, 1, 3, 1, 1, 3, 1, 3, 1, 1, 3, 1, 1, 2, 1, 1, 1, 1, 1, 0, 1, 1, 1, 2, 1, 1, 0, 0, 0, 1, 2, 3, 1, 3, 1, 4, 1, 2, 3, 3, 0, 0, 2, 1, 2, 0, 2, 1, 1, 1, 1, 0, 1, 0, 3, 1, 3, 3, 1, 3, 1, 2, 1, 1, 1, 1, 3, 1, 1, 0, 1, 0, 1, 1, 1, 2, 2, 2, 2, 2, 2, 3, 1, 2, 1, 0, 1, 0, 3, 1, 1, 3, 1, 1, 1, 3, 1, 1, 2, 1, 3, 3, 3, 1, 3, 1, 3, 3, 3, 1, 1, 1, 0, 4, 1, 1, 1, 1, 0, 1, 1, 1, 3, 0, 2, 0, 1, 1, 1, 0, 2, 0, 1, 2, 2, 1, 1, 1, 1, 1, 1, 1, 0, 3, 3, 3, 1, 1, 1, 2, 1, 2, 1, 1, 2, 3, 0, 1, 1, 2, 1, 2, 1, 1, 1, 0, 1, 1, 2, 1, 1, 3, 1, 1, 0, 0, 1, 1, 1, 1, 3, 3, 1, 2, 0, 0, 0, 3, 1, 1, 1, 4, 1, 1, 2, 1, 3, 1, 3, 3, 2, 3, 1, 1, 0, 1, 3, 4, 1, 3, 1, 2, 1, 1, 0, 1, 2, 2, 1, 1, 2, 0, 1, 0, 1, 2, 0, 2, 3, 1, 0, 1, 1, 0, 0, 1, 1, 2, 1, 1, 1, 1, 2, 1, 0, 0, 2, 2, 0, 1, 3, 0, 1, 1, 1, 1, 1, 2, 0, 2, 1, 4, 3, 3, 2, 1, 1, 1, 0, 1, 1, 1, 3, 2, 0, 0, 1, 2, 0, 1, 1, 1, 1, 1, 1, 3, 1, 2, 1, 1, 1, 1, 0, 3, 2, 1, 1, 1, 2, 1, 1, 1, 2, 1, 0, 1, 3, 1, 0, 0, 1, 3, 1, 1, 1, 1, 3, 3, 2, 2, 3, 1, 0, 2, 4, 1, 3, 1, 1, 1, 3, 3, 4, 2, 2, 1, 1, 1, 1, 0, 0, 3, 1, 3, 0, 1, 1, 2, 1, 1, 1, 0, 3, 1, 1, 1, 2, 0, 1, 1, 1, 1, 2, 1, 2, 1, 1, 1, 1, 2, 1, 2, 3, 2, 1, 1, 1, 1, 1, 2, 1, 2, 1, 1, 0, 1, 0, 1, 2, 1, 2, 0, 1, 1, 3, 1, 1, 1, 1, 1, 1, 0, 1, 1, 1, 0, 1, 3, 3, 3, 1, 1, 2, 1, 1, 3, 1, 1, 1, 2, 1, 1, 1, 1, 1, 1, 1, 1, 0, 1, 1, 1, 1, 1, 1, 2, 4, 1, 0, 1, 1, 1, 1, 1, 1, 1, 1, 1, 1, 1, 1, 2, 0, 4, 0, 2, 1, 1, 1, 2, 1, 1, 1, 1, 1, 4, 1, 3, 0, 1, 0, 1, 3, 1, 1, 0, 0, 1, 3, 1, 1, 2, 1, 1, 0, 2, 3, 1, 3, 1, 1, 0, 1, 1, 0, 1, 1, 1, 1, 1, 2, 3, 1, 1, 3, 1, 1, 1, 1, 1, 1, 1, 1, 0, 1, 1, 0, 0, 2, 3, 1, 1, 1, 3, 1, 1, 2, 1, 2, 2, 2, 0, 1, 1, 1, 1, 2, 1, 1, 2, 1, 2, 1, 2, 1, 0, 3, 1, 1, 3, 1, 0, 1, 1, 4, 1, 0, 1, 0, 2, 3, 0, 1, 2, 3, 1, 1, 0, 1, 2, 1, 1, 1, 4, 1, 1, 1, 1, 1, 1, 1, 1, 1, 1, 1, 1, 1, 1, 2, 1, 1, 1, 1, 2, 4, 0, 3, 1, 2, 1, 1, 1, 1, 1, 1, 0, 0, 1, 2, 3, 2, 2, 0, 0, 1, 1, 1, 3, 1, 1, 3, 1, 2, 1, 2, 0, 3, 1, 0, 1, 1, 3, 1, 1, 3, 1, 3, 0, 1, 1, 1, 3, 0, 1, 0, 1, 3, 2, 3, 2, 3, 1, 3, 3, 1, 1, 1, 4, 1, 1, 1, 3, 1, 0, 0, 1, 3, 1, 1, 1, 1, 1, 3, 1, 0, 1, 1, 3, 0, 2, 1, 1, 0, 2, 0, 1, 1, 0, 1, 1, 0, 1, 1, 2, 1, 1, 0, 1, 0, 2, 1, 0, 1, 1, 1, 1, 1, 1, 3, 4, 1, 1, 1, 1, 1, 1, 1, 1, 3, 1, 1, 0, 1, 3, 4, 1, 1, 2, 1, 1, 1, 0, 1, 3, 1, 1, 3, 2, 1, 1, 3, 1, 1, 0, 1, 0, 1, 2, 1, 1, 1, 0, 2, 0, 2, 1, 1, 1, 2, 2, 2, 1, 1, 3, 1, 1, 1, 1, 0, 1, 3, 3, 1, 2, 1, 1, 2, 3, 0, 0, 1, 1, 0, 1, 2, 1, 3, 1, 1, 1, 0, 0, 3, 1, 0, 1, 4, 1, 4, 2, 1, 3, 3, 1, 1, 2, 2, 1, 1, 3, 1, 3, 0, 1, 4, 1, 1, 1, 0, 0, 1, 1, 1, 1, 1, 1, 1, 1, 1, 1, 1, 1, 1, 2, 0, 1, 1, 2, 1, 3, 1, 2, 1, 2, 1, 1, 1, 1, 1, 0, 4, 0, 2, 1, 1, 1, 1, 1, 2, 1, 1, 0, 1, 1, 3, 1, 1, 1, 3, 3, 2, 0, 1, 1, 1, 1, 1, 4, 2, 0, 2, 1, 3, 0, 1, 3, 3, 0, 2, 0, 1, 3, 1, 1, 1, 1, 1, 1, 3, 1, 1, 1, 1, 2, 3, 2, 1, 2, 2, 1, 2, 1, 1, 3, 1, 1, 0, 1, 3, 1, 1, 1, 1, 1, 1, 1, 1, 1, 1, 3, 1, 1, 1, 1, 1, 2, 1, 2, 1, 1, 1, 1, 3, 2, 1, 1, 3, 0, 1, 2, 1, 1, 2, 1, 0, 3, 1, 2, 1, 3, 1, 3, 1, 0, 1, 1, 2, 1, 1, 1, 1, 0, 1, 1, 0, 1, 1, 1, 1, 3, 1, 1, 1, 1, 1, 2, 0, 0, 0, 2, 3, 1, 1, 1, 1, 3, 1, 0, 1, 3, 1, 2, 1, 1, 1, 3, 1, 1, 3, 1, 0, 1, 1, 2, 1, 3, 1, 1, 1, 1, 1, 1, 0, 4, 2, 2, 1, 0, 1, 3, 1, 1, 3, 1, 3, 1, 0, 1, 1, 2, 3, 1, 1, 1, 1, 1, 1, 4, 0, 1, 1, 0, 1, 0, 1, 1, 3, 0, 1, 1, 4, 1, 1, 0, 3, 4, 4, 1, 1], [3, 3, 3, 3, 4, 1, 3, 1, 4, 4, 3, 3, 4, 1, 3, 2, 4, 3, 4, 4, 4, 4, 3, 3, 3, 3, 3, 1, 3, 1, 4, 2, 1, 3, 1, 3, 2, 4, 1, 1, 3, 1, 3, 4, 3, 1, 4, 4, 3, 3, 3, 3, 3, 4, 3, 3, 3, 1, 4, 3, 3, 2, 4, 2, 3, 3, 4, 4, 4, 3, 1, 3, 4, 3, 3, 3, 4, 4, 3, 3, 3, 4, 3, 4, 4, 3, 3, 3, 3, 1, 3, 3, 1, 1, 3, 4, 1, 4, 1, 3, 3, 3, 1, 3, 3, 1, 3, 3, 3, 4, 3, 3, 1, 3, 2, 4, 4, 3, 4, 3, 4, 3, 3, 4, 3, 4, 2, 4, 3, 4, 3, 3, 3, 3, 3, 2, 3, 3, 1, 3, 2, 1, 3, 3, 3, 3, 3, 4, 1, 3, 3, 3, 2, 2, 4, 4, 3, 3, 4, 1, 2, 3, 3, 3, 3, 3, 3, 3, 1, 4, 3, 3, 3, 3, 3, 3, 3, 0, 4, 4, 4, 3, 3, 3, 4, 3, 1, 3, 3, 4, 3, 4, 3, 3, 4, 3, 3, 4, 3, 3, 3, 4, 1, 1, 3, 2, 3, 4, 2, 3, 3, 3, 3, 4, 3, 3, 4, 3, 3, 3, 4, 3, 3, 3, 4, 3, 1, 1, 3, 4, 4, 3, 3, 3, 3, 1, 4, 3, 3, 3, 4, 3, 4, 2, 3, 3, 1, 3, 3, 3, 3, 2, 4, 4, 1, 3, 4, 3, 3, 4, 4, 3, 3, 3, 2, 2, 2, 3, 4, 3, 3, 3, 3, 4, 4, 2, 1, 1, 3, 3, 3, 4, 2, 3, 4, 3, 2, 1, 3, 4, 3, 3, 2, 3, 3, 3, 4, 3, 1, 3, 3, 1, 4, 4, 4, 3, 1, 3, 0, 4, 1, 1, 2, 3, 3, 2, 3, 3, 3, 4, 3, 1, 4, 3, 1, 1, 2, 3, 3, 4, 3, 3, 3, 3, 3, 3, 4, 2, 4, 3, 2, 4, 1, 3, 3, 4, 4, 3, 2, 3, 3, 3, 4, 3, 3, 4, 3, 2, 4, 1, 3, 3, 4, 4, 3, 4, 1, 4, 4, 3, 3, 4, 1, 1, 3, 3, 1, 3, 3, 3, 3, 1, 3, 3, 3, 3, 4, 4, 4, 4, 4, 3, 3, 3, 4, 3, 3, 3, 4, 0, 3, 3, 4, 4, 3, 3, 1, 3, 3, 3, 1, 3, 4, 3, 3, 3, 3, 1, 1, 3, 3, 4, 4, 1, 1, 3, 3, 1, 3, 2, 1, 3, 4, 4, 3, 0, 3, 4, 1, 3, 3, 3, 3, 1, 2, 2, 4, 3, 1, 3, 4, 4, 2, 4, 1, 4, 3, 3, 4, 3, 4, 4, 1, 3, 3, 0, 1, 3, 4, 3, 2, 3, 3, 3, 3, 2, 4, 3, 3, 3, 1, 3, 3, 3, 3, 3, 3, 4, 4, 3, 3, 3, 3, 1, 3, 4, 1, 3, 4, 3, 4, 3, 3, 4, 3, 1, 4, 3, 3, 3, 4, 3, 3, 3, 3, 1, 3, 3, 3, 0, 3, 1, 4, 3, 3, 4, 3, 3, 3, 3, 4, 3, 3, 3, 1, 1, 4, 3, 3, 3, 3, 4, 2, 2, 3, 3, 4, 4, 3, 3, 1, 2, 3, 4, 3, 4, 3, 2, 2, 3, 3, 3, 3, 3, 1, 3, 3, 3, 1, 3, 4, 4, 3, 4, 2, 3, 3, 1, 3, 3, 3, 3, 1, 3, 3, 4, 3, 3, 1, 2, 2, 3, 3, 3, 3, 4, 3, 3, 3, 3, 3, 2, 3, 3, 4, 4, 3, 3, 4, 4, 3, 3, 3, 3, 4, 3, 3, 1, 3, 4, 3, 1, 3, 3, 4, 3, 3, 4, 3, 3, 3, 1, 3, 1, 3, 1, 1, 1, 1, 4, 3, 1, 4, 2, 1, 3, 1, 3, 2, 3, 4, 3, 3, 3, 4, 3, 4, 3, 3, 3, 3, 3, 1, 4, 3, 3, 3, 3, 3, 1, 2, 4, 3, 1, 3, 1, 1, 4, 4, 4, 4, 3, 3, 3, 4, 1, 4, 2, 3, 3, 1, 3, 3, 3, 4, 3, 4, 3, 3, 4, 1, 2, 4, 4, 4, 3, 1, 1, 3, 3, 1, 3, 4, 1, 3, 3, 4, 1, 3, 4, 2, 3, 4, 4, 1, 3, 3, 4, 4, 4, 4, 4, 4, 3, 3, 4, 4, 2, 4, 0, 3, 3, 3, 3, 4, 1, 4, 1, 4, 3, 4, 3, 3, 4, 3, 2, 3, 1, 1, 3, 4, 3, 4, 3, 3, 3, 3, 4, 4, 3, 4, 3, 3, 3, 1, 3, 3, 2, 4, 4, 4, 2, 4, 3, 3, 4, 3, 4, 4, 3, 4, 0, 3, 3, 1, 1, 1, 4, 3, 3, 3, 3, 3, 3, 3, 3, 4, 4, 1, 3, 2, 4, 3, 4, 4, 4, 3, 3, 3, 3, 3, 3, 3, 4, 3, 3, 3, 3, 3, 4, 0, 3, 3, 3, 3, 3, 3, 2, 4, 1, 2, 3, 3, 3, 3, 3, 3, 3, 3, 4, 3, 3, 3, 4, 4, 3, 4, 3, 3, 1, 3, 4, 3, 3, 4, 3, 3, 4, 3, 3, 3, 3, 3, 3, 4, 3, 4, 3, 1, 2, 1, 3, 4, 3, 3, 3, 1, 3, 3, 2, 4, 1, 3, 1, 3, 1, 3, 3, 3, 3, 1, 3, 3, 3, 3, 3, 3, 3, 4, 1, 4, 2, 2, 3, 3, 3, 4, 1, 3, 3, 3, 3, 4, 3, 2, 4, 4, 3, 3, 3, 3, 1, 3, 4, 4, 3, 3, 1, 1, 2, 3, 4, 4, 3, 3, 4, 4, 4, 1, 3, 4, 3, 1, 2, 3, 4, 1, 3, 4, 3, 3, 2, 4, 4, 1, 3, 3, 3, 4, 3, 3, 4, 2, 3, 3, 3, 1, 4, 4, 3, 3, 4, 3, 3, 2, 4, 2, 4, 1, 1, 4, 3, 3, 3, 2, 4, 3, 4, 3, 3, 3, 1, 3, 3, 3, 3, 1, 3, 3, 4, 1, 4, 4, 4, 4, 1, 4, 3, 3, 2, 3, 3, 3, 4, 3, 1, 1, 3, 3, 4, 4, 3, 2, 4, 4, 3, 1, 3, 4, 3, 3, 4, 3, 2, 3, 2, 3, 4, 3, 1, 1, 4, 3, 3, 3, 4, 3, 4, 3, 2, 3, 1, 4, 3, 3, 3, 3, 2, 1, 1, 3, 1, 0, 0, 1, 1, 1, 1, 3, 1, 1, 0, 2, 1, 1, 2, 1, 1, 0, 3, 2, 0, 1, 0, 1, 1, 2, 1, 3, 2, 1, 1, 0, 1, 2, 0, 0, 0, 3, 2, 1, 1, 0, 1, 1, 3, 2, 1, 2, 1, 1, 0, 1, 0, 0, 2, 2, 3, 3, 3, 2, 3, 3, 0, 1, 1, 3, 1, 1, 0, 3, 1, 1, 3, 2, 1, 2, 1, 3, 3, 1, 3, 1, 1, 3, 1, 1, 1, 1, 1, 0, 1, 0, 1, 1, 3, 1, 1, 0, 0, 1, 2, 3, 1, 3, 1, 4, 1, 2, 3, 3, 0, 0, 1, 1, 2, 1, 2, 0, 1, 0, 1, 0, 1, 0, 3, 1, 1, 3, 1, 3, 1, 2, 1, 1, 1, 1, 3, 1, 1, 1, 1, 1, 2, 1, 1, 2, 3, 2, 3, 3, 2, 3, 1, 3, 0, 0, 0, 0, 4, 1, 1, 3, 1, 1, 1, 3, 1, 1, 2, 1, 3, 2, 3, 1, 3, 1, 2, 3, 3, 3, 1, 0, 0, 3, 1, 1, 1, 1, 0, 1, 2, 1, 3, 1, 3, 0, 1, 1, 1, 0, 2, 0, 1, 2, 1, 2, 1, 2, 1, 3, 1, 1, 0, 3, 3, 3, 0, 1, 1, 3, 1, 2, 1, 1, 2, 3, 0, 1, 1, 2, 1, 1, 1, 0, 1, 1, 1, 1, 2, 1, 1, 1, 1, 1, 0, 0, 1, 1, 1, 1, 3, 3, 1, 2, 1, 0, 0, 3, 1, 1, 1, 4, 0, 1, 1, 0, 3, 1, 3, 3, 2, 3, 2, 1, 0, 1, 3, 3, 1, 3, 1, 2, 3, 1, 0, 1, 1, 2, 1, 1, 2, 0, 1, 0, 1, 3, 0, 0, 3, 0, 0, 1, 3, 0, 0, 0, 1, 2, 1, 0, 0, 1, 2, 1, 0, 0, 0, 2, 0, 1, 3, 0, 1, 1, 1, 1, 1, 3, 0, 2, 1, 3, 3, 3, 2, 1, 3, 1, 0, 1, 1, 1, 3, 3, 0, 0, 1, 1, 0, 0, 1, 1, 2, 1, 1, 3, 0, 1, 1, 1, 1, 1, 0, 3, 2, 1, 1, 1, 1, 1, 0, 2, 2, 1, 0, 1, 3, 1, 1, 0, 1, 3, 1, 1, 1, 1, 3, 3, 2, 2, 3, 1, 1, 1, 3, 0, 3, 1, 1, 1, 3, 3, 3, 2, 2, 2, 1, 1, 1, 1, 0, 3, 1, 3, 0, 1, 1, 1, 1, 1, 1, 0, 3, 1, 2, 1, 2, 0, 1, 1, 1, 1, 2, 1, 1, 1, 1, 1, 1, 2, 1, 2, 3, 2, 1, 1, 1, 1, 1, 3, 1, 1, 1, 1, 0, 1, 0, 0, 1, 1, 2, 1, 1, 1, 1, 1, 1, 1, 1, 1, 1, 0, 1, 1, 1, 0, 1, 3, 3, 3, 1, 1, 2, 1, 2, 3, 1, 1, 1, 2, 1, 1, 1, 1, 1, 0, 1, 1, 0, 1, 3, 2, 1, 1, 1, 2, 3, 1, 0, 0, 1, 1, 1, 1, 1, 1, 1, 1, 0, 1, 1, 2, 0, 3, 0, 2, 1, 1, 1, 2, 1, 3, 1, 1, 1, 3, 1, 3, 0, 1, 0, 1, 3, 1, 1, 0, 0, 0, 3, 1, 1, 1, 1, 1, 0, 2, 3, 1, 3, 1, 1, 0, 1, 2, 0, 1, 1, 1, 3, 1, 2, 3, 1, 1, 3, 1, 1, 1, 1, 1, 1, 1, 1, 0, 1, 0, 0, 0, 2, 3, 1, 0, 1, 3, 1, 1, 2, 1, 2, 2, 2, 0, 1, 1, 1, 1, 1, 3, 1, 0, 1, 1, 1, 2, 1, 0, 3, 1, 1, 3, 1, 0, 1, 1, 4, 1, 0, 2, 0, 2, 3, 0, 1, 3, 3, 1, 1, 0, 1, 2, 1, 1, 0, 4, 1, 1, 1, 1, 1, 1, 2, 1, 2, 1, 1, 1, 2, 1, 3, 2, 1, 0, 1, 2, 4, 0, 3, 1, 3, 2, 1, 1, 1, 1, 1, 0, 1, 0, 2, 3, 2, 2, 0, 0, 1, 1, 1, 1, 1, 1, 3, 1, 2, 1, 3, 0, 3, 1, 0, 1, 1, 3, 2, 1, 3, 1, 3, 0, 1, 1, 1, 3, 0, 1, 0, 1, 3, 1, 3, 2, 3, 1, 4, 3, 1, 1, 1, 4, 1, 1, 1, 3, 1, 0, 1, 1, 3, 1, 1, 1, 1, 1, 3, 0, 0, 1, 1, 3, 2, 2, 1, 1, 0, 3, 0, 0, 1, 0, 0, 1, 0, 1, 1, 1, 1, 1, 0, 1, 0, 2, 1, 0, 1, 1, 1, 1, 1, 1, 3, 4, 1, 1, 1, 0, 1, 1, 1, 2, 3, 1, 1, 0, 1, 3, 4, 1, 3, 2, 1, 0, 1, 0, 1, 4, 1, 1, 3, 2, 1, 1, 3, 1, 1, 0, 1, 0, 1, 1, 1, 1, 1, 0, 1, 0, 2, 3, 1, 1, 2, 1, 2, 1, 1, 3, 1, 1, 1, 1, 0, 1, 3, 3, 1, 2, 2, 1, 2, 3, 1, 0, 1, 1, 0, 1, 2, 1, 3, 1, 1, 1, 0, 0, 3, 1, 0, 1, 4, 1, 3, 2, 1, 3, 4, 1, 1, 0, 3, 0, 1, 3, 1, 3, 0, 1, 4, 2, 1, 1, 0, 0, 1, 1, 1, 3, 1, 1, 1, 2, 1, 1, 1, 1, 3, 2, 0, 1, 1, 1, 1, 3, 1, 3, 1, 1, 1, 1, 1, 0, 1, 1, 3, 1, 1, 2, 0, 1, 1, 1, 2, 0, 1, 0, 1, 1, 3, 1, 1, 1, 3, 3, 3, 0, 0, 1, 1, 1, 1, 4, 1, 0, 2, 1, 3, 0, 1, 3, 3, 0, 3, 0, 1, 3, 1, 1, 1, 1, 1, 1, 2, 1, 1, 1, 1, 2, 3, 3, 1, 3, 2, 1, 2, 1, 1, 3, 1, 1, 0, 1, 3, 1, 2, 1, 1, 2, 1, 1, 1, 1, 1, 3, 1, 1, 1, 1, 1, 1, 1, 1, 3, 1, 1, 1, 3, 2, 1, 1, 3, 0, 1, 3, 1, 1, 2, 1, 0, 3, 1, 1, 1, 3, 1, 3, 1, 0, 1, 1, 2, 1, 0, 1, 0, 0, 1, 1, 0, 1, 1, 2, 1, 3, 1, 1, 1, 1, 1, 2, 1, 0, 0, 2, 3, 0, 0, 1, 1, 3, 1, 0, 1, 3, 1, 2, 1, 1, 1, 3, 1, 1, 3, 3, 0, 1, 1, 1, 1, 3, 1, 1, 1, 1, 1, 1, 0, 3, 2, 1, 1, 0, 2, 2, 1, 1, 3, 1, 3, 1, 1, 1, 1, 2, 3, 0, 1, 1, 1, 1, 1, 4, 0, 3, 1, 0, 1, 0, 1, 1, 3, 0, 3, 1, 4, 1, 1, 0, 3, 4, 4, 1, 1]]\n"
     ]
    }
   ],
   "source": [
    "print(tree_lstm_preds)"
   ]
  },
  {
   "cell_type": "code",
   "execution_count": 141,
   "metadata": {},
   "outputs": [],
   "source": [
    "def read_model_prediction_file(filename):\n",
    "    with open(filename, \"r\") as f:\n",
    "        l = f.readlines()[0]\n",
    "        return [[int(x) for x in w.split(\" \")] for w in l.split(\"#\")]"
   ]
  },
  {
   "cell_type": "code",
   "execution_count": 142,
   "metadata": {},
   "outputs": [],
   "source": [
    "our_model_2nd_highest_preds = read_model_prediction_file(\"preds_2nd_highest.txt\")\n",
    "our_model_binary_preds = read_model_prediction_file(\"preds_binary.txt\")\n",
    "our_model_1distance_preds = read_model_prediction_file(\"preds_1distance.txt\")"
   ]
  },
  {
   "cell_type": "markdown",
   "metadata": {},
   "source": [
    "## Prediction over sentence length"
   ]
  },
  {
   "cell_type": "code",
   "execution_count": 154,
   "metadata": {},
   "outputs": [
    {
     "name": "stdout",
     "output_type": "stream",
     "text": [
      "[1, 2, 3, 4, 5, 6, 7, 8, 9, 10, 11, 12, 13, 14, 15, 16, 17, 18, 19, 20, 21, 22, 23, 24, 25, 26, 27, 28, 29, 30, 31, 32, 33, 34, 35, 36, 37, 38, 39, 40, 41, 42, 43, 44, 45, 46, 47, 48, 49]\n",
      "56\n",
      "1 not in dict\n",
      "49 not in dict\n",
      "[1, 2, 3, 4, 5, 6, 7, 8, 9, 10, 11, 12, 13, 14, 15, 16, 17, 18, 19, 20, 21, 22, 23, 24, 25, 26, 27, 28, 29, 30, 31, 32, 33, 34, 35, 36, 37, 38, 39, 40, 41, 42, 43, 44, 45, 46, 47, 48, 49]\n",
      "56\n",
      "1 not in dict\n",
      "49 not in dict\n",
      "[1, 2, 3, 4, 5, 6, 7, 8, 9, 10, 11, 12, 13, 14, 15, 16, 17, 18, 19, 20, 21, 22, 23, 24, 25, 26, 27, 28, 29, 30, 31, 32, 33, 34, 35, 36, 37, 38, 39, 40, 41, 42, 43, 44, 45, 46, 47, 48, 49]\n",
      "56\n",
      "1 not in dict\n",
      "49 not in dict\n",
      "[1, 2, 3, 4, 5, 6, 7, 8, 9, 10, 11, 12, 13, 14, 15, 16, 17, 18, 19, 20, 21, 22, 23, 24, 25, 26, 27, 28, 29, 30, 31, 32, 33, 34, 35, 36, 37, 38, 39, 40, 41, 42, 43, 44, 45, 46, 47, 48, 49]\n",
      "56\n",
      "1 not in dict\n",
      "49 not in dict\n"
     ]
    },
    {
     "name": "stderr",
     "output_type": "stream",
     "text": [
      "/home/phillip/anaconda3/lib/python3.6/site-packages/matplotlib/font_manager.py:1328: UserWarning: findfont: Font family ['Times New Roman'] not found. Falling back to DejaVu Sans\n",
      "  (prop.get_family(), self.defaultFamily[fontext]))\n"
     ]
    },
    {
     "data": {
      "image/png": "[encoded data removed]",
      "text/plain": [
       "<Figure size 360x216 with 1 Axes>"
      ]
     },
     "metadata": {},
     "output_type": "display_data"
    }
   ],
   "source": [
    "max_test_len = max([len(d.tokens) for d in test_data])\n",
    "# poss_testlen = list(set([len(d.tokens) for d in test_data]))\n",
    "max_test_len = 50\n",
    "plt.rcParams[\"font.family\"] = \"Times New Roman\"\n",
    "\n",
    "def get_acc_over_senlen(pred_list):\n",
    "    correct_preds_by_sen_len = dict()\n",
    "    for d_index, d in enumerate(test_data):\n",
    "        sen_len = len(d.tokens)\n",
    "        if sen_len not in correct_preds_by_sen_len:\n",
    "            correct_preds_by_sen_len[sen_len] = list()\n",
    "        acc = sum([pred_list[i][d_index] == d.label for i in range(len(pred_list))]) * 1.0 / len(pred_list)\n",
    "        correct_preds_by_sen_len[sen_len].append(acc)\n",
    "    return correct_preds_by_sen_len\n",
    "\n",
    "def plot_acc_over_senlen(acc_over_senlen, model_names, colors=None, markers=None, bin_size=1, window_size=3):\n",
    "    plt.figure(figsize=(5,3))\n",
    "    for name, model_acc, model_index in zip(model_names, acc_over_senlen, list(range(len(model_names)))):\n",
    "        pred_points = list()\n",
    "        x_list = [i * bin_size for i in range(1,int(math.ceil(max_test_len*1.0/bin_size)))]\n",
    "        print(x_list)\n",
    "        print(max(model_acc.keys()))\n",
    "        for x in x_list:\n",
    "            acc_list = list()\n",
    "            for i in range(min(bin_size, max_test_len - x)):\n",
    "                if x+i in model_acc:\n",
    "                    acc_list += model_acc[x+i]\n",
    "                else:\n",
    "                    print(str(x+i) + \" not in dict\")\n",
    "            if len(acc_list) == 0:\n",
    "                pred_points.append(0)\n",
    "                # pred_points.append([])\n",
    "            else:\n",
    "                pred_points.append(sum(acc_list)*1.0/len(acc_list))\n",
    "                # pred_points.append(acc_list)\n",
    "        smoothed_preds = list()\n",
    "        for x in x_list:\n",
    "            # sub_points = list()\n",
    "            # for p in pred_points[max(0,x-window_size):min(len(pred_points), x+window_size+1)]: \n",
    "            #     sub_points += p\n",
    "            # smoothed_preds.append(mean(sub_points))\n",
    "            sub_points = pred_points[max(0,x-window_size):min(len(pred_points), x+window_size+1)]\n",
    "            sub_points = [d for d in sub_points if d > 0]\n",
    "            if len(sub_points) > 0:\n",
    "                smoothed_preds.append(sum(sub_points)*1.0/len(sub_points))\n",
    "            else:\n",
    "                smoothed_preds.append(1)\n",
    "        c = None\n",
    "        m = None\n",
    "        if colors is not None:\n",
    "            c = colors[model_index]\n",
    "        if markers is not None:\n",
    "            m = markers[model_index]\n",
    "        plt.plot(x_list, smoothed_preds, label=name, color=c, linewidth=1.8, marker=m, markeredgecolor=(0.0,0.0,0.0),markevery=2)\n",
    "    plt.grid(linestyle='dashed', linewidth=1, color=(0.0,0.0,0.0),alpha=0.4)\n",
    "    plt.xlabel(\"sentence length\", fontweight='bold')\n",
    "    plt.ylabel(\"accuracy\", fontweight='bold')\n",
    "    plt.xlim(0,40)\n",
    "    plt.ylim(0.35, 0.7)\n",
    "    plt.legend()\n",
    "    plt.tight_layout()\n",
    "    plt.savefig(\"figures/accuracy_over_sentence_length.pdf\")\n",
    "    plt.show()\n",
    "    \n",
    "plot_acc_over_senlen(acc_over_senlen=[get_acc_over_senlen(pt_deep_cbow_preds), get_acc_over_senlen(lstm_preds), get_acc_over_senlen(tree_lstm_preds), get_acc_over_senlen(our_model_1distance_preds)], \n",
    "                     model_names=[\"PT Deep CBOW\", \"LSTM\", \"TreeLSTM\", \"1-distance\"], \n",
    "                     colors=[(0.8,0.0,0.0),(0.1,0.6,0.1),(0.2,0.2,1.0), (0.8,0.5,0.0)], \n",
    "                     markers=[\"8\",\"v\",\"^\",\"X\"])\n",
    "# get_acc_over_senlen(bow_preds), "
   ]
  },
  {
   "cell_type": "markdown",
   "metadata": {},
   "source": [
    "## Prediction for random word structures"
   ]
  },
  {
   "cell_type": "code",
   "execution_count": 96,
   "metadata": {},
   "outputs": [],
   "source": [
    "def prepare_shuffled_example(example, vocab):\n",
    "    \"\"\"\n",
    "    Map tokens to their IDs for 1 example\n",
    "    \"\"\"\n",
    "\n",
    "    # vocab returns 0 if the word is not there\n",
    "    x = [vocab.w2i.get(t, 0) for t in example.tokens]\n",
    "    random.shuffle(x)\n",
    "\n",
    "    x = torch.LongTensor([x])\n",
    "    x = x.to(device)\n",
    "\n",
    "    y = torch.LongTensor([example.label])\n",
    "    y = y.to(device)\n",
    "\n",
    "    return x, y\n",
    "\n",
    "def prepare_treelstm_shuffled_minibatch(mb, vocab):\n",
    "    \"\"\"\n",
    "    Returns sentences reversed (last word first)\n",
    "    Returns transitions together with the sentences.  \n",
    "    \"\"\"\n",
    "    batch_size = len(mb)\n",
    "    maxlen = max([len(ex.tokens) for ex in mb])\n",
    "\n",
    "    # vocab returns 0 if the word is not there\n",
    "    # NOTE: reversed sequence!\n",
    "    x = [pad([vocab.w2i.get(t, 0) for t in ex.tokens], maxlen)[::-1] for ex in mb]\n",
    "    for ex_tokens in x:\n",
    "        random.shuffle(ex_tokens)\n",
    "    x = [pad(ex_tokens, maxlen)[::-1] for ex_tokens in x]\n",
    "\n",
    "    x = torch.LongTensor(x)\n",
    "    x = x.to(device)\n",
    "\n",
    "    y = [ex.label for ex in mb]\n",
    "    y = torch.LongTensor(y)\n",
    "    y = y.to(device)\n",
    "\n",
    "    maxlen_t = max([len(ex.transitions) for ex in mb])\n",
    "    transitions = [pad(ex.transitions, maxlen_t, pad_value=2) for ex in mb]\n",
    "    transitions = np.array(transitions)\n",
    "    transitions = transitions.T  # time-major\n",
    "\n",
    "    return (x, transitions), y"
   ]
  },
  {
   "cell_type": "code",
   "execution_count": 97,
   "metadata": {},
   "outputs": [
    {
     "name": "stdout",
     "output_type": "stream",
     "text": [
      "Loading model\n",
      "Loading model\n",
      "Loading model\n",
      "Loading model\n",
      "Loading model\n",
      "Loading model\n",
      "Loading model\n",
      "Loading model\n",
      "Loading model\n",
      "Loading model\n"
     ]
    }
   ],
   "source": [
    "lstm_shuffled_preds = list()\n",
    "for i in range(10):\n",
    "    random.seed(i)\n",
    "    lstm_test_preds = get_test_predictions(get_lstm_model(), file_prefix=\"LSTM_\" + str(i).zfill(2), prep_fn=prepare_shuffled_example)\n",
    "    lstm_shuffled_preds.append(lstm_test_preds)\n",
    "    "
   ]
  },
  {
   "cell_type": "code",
   "execution_count": 98,
   "metadata": {},
   "outputs": [
    {
     "name": "stdout",
     "output_type": "stream",
     "text": [
      "Loading model\n",
      "Loading model\n",
      "Loading model\n",
      "Loading model\n",
      "Loading model\n",
      "Loading model\n",
      "Loading model\n",
      "Loading model\n",
      "Loading model\n",
      "Loading model\n"
     ]
    }
   ],
   "source": [
    "tree_lstm_shuffled_preds = list()\n",
    "for i in range(10):\n",
    "    random.seed(i)\n",
    "    tree_lstm_test_preds = get_test_predictions(get_tree_lstm(), file_prefix=\"TreeLSTM_\" + str(i).zfill(2), batch_fn=get_minibatch, prep_fn=prepare_treelstm_shuffled_minibatch, eval_fn=evaluate)\n",
    "    tree_lstm_shuffled_preds.append(tree_lstm_test_preds)"
   ]
  },
  {
   "cell_type": "code",
   "execution_count": 99,
   "metadata": {},
   "outputs": [
    {
     "name": "stdout",
     "output_type": "stream",
     "text": [
      "[1, 2, 3, 4, 5, 6, 7, 8, 9, 10, 11, 12, 13, 14, 15, 16, 17, 18, 19, 20, 21, 22, 23, 24, 25, 26, 27, 28, 29, 30, 31, 32, 33, 34, 35, 36, 37, 38, 39, 40, 41, 42, 43, 44, 45, 46, 47, 48, 49]\n",
      "56\n",
      "1 not in dict\n",
      "49 not in dict\n",
      "[1, 2, 3, 4, 5, 6, 7, 8, 9, 10, 11, 12, 13, 14, 15, 16, 17, 18, 19, 20, 21, 22, 23, 24, 25, 26, 27, 28, 29, 30, 31, 32, 33, 34, 35, 36, 37, 38, 39, 40, 41, 42, 43, 44, 45, 46, 47, 48, 49]\n",
      "56\n",
      "1 not in dict\n",
      "49 not in dict\n",
      "[1, 2, 3, 4, 5, 6, 7, 8, 9, 10, 11, 12, 13, 14, 15, 16, 17, 18, 19, 20, 21, 22, 23, 24, 25, 26, 27, 28, 29, 30, 31, 32, 33, 34, 35, 36, 37, 38, 39, 40, 41, 42, 43, 44, 45, 46, 47, 48, 49]\n",
      "56\n",
      "1 not in dict\n",
      "49 not in dict\n",
      "[1, 2, 3, 4, 5, 6, 7, 8, 9, 10, 11, 12, 13, 14, 15, 16, 17, 18, 19, 20, 21, 22, 23, 24, 25, 26, 27, 28, 29, 30, 31, 32, 33, 34, 35, 36, 37, 38, 39, 40, 41, 42, 43, 44, 45, 46, 47, 48, 49]\n",
      "56\n",
      "1 not in dict\n",
      "49 not in dict\n"
     ]
    },
    {
     "name": "stderr",
     "output_type": "stream",
     "text": [
      "/home/phillip/anaconda3/lib/python3.6/site-packages/matplotlib/font_manager.py:1328: UserWarning: findfont: Font family ['Times New Roman'] not found. Falling back to DejaVu Sans\n",
      "  (prop.get_family(), self.defaultFamily[fontext]))\n"
     ]
    },
    {
     "data": {
      "image/png": "[encoded data removed]",
      "text/plain": [
       "<Figure size 360x216 with 1 Axes>"
      ]
     },
     "metadata": {},
     "output_type": "display_data"
    }
   ],
   "source": [
    "plot_acc_over_senlen([get_acc_over_senlen(lstm_shuffled_preds), get_acc_over_senlen(lstm_preds), get_acc_over_senlen(tree_lstm_shuffled_preds), get_acc_over_senlen(tree_lstm_preds)], [\"LSTM shuffled\", \"LSTM\", \"Tree-LSTM shuffled\", \"Tree-LSTM\"])"
   ]
  },
  {
   "cell_type": "code",
   "execution_count": 155,
   "metadata": {},
   "outputs": [
    {
     "data": {
      "text/plain": [
       "0.4342986425339367"
      ]
     },
     "execution_count": 155,
     "metadata": {},
     "output_type": "execute_result"
    }
   ],
   "source": [
    "mean([mean([x == d.label for x, d in zip(lstm_shuffled_preds[i], test_data)]) for i in range(len(lstm_shuffled_preds))])"
   ]
  },
  {
   "cell_type": "code",
   "execution_count": 156,
   "metadata": {},
   "outputs": [
    {
     "data": {
      "text/plain": [
       "0.3270135746606335"
      ]
     },
     "execution_count": 156,
     "metadata": {},
     "output_type": "execute_result"
    }
   ],
   "source": [
    "mean([mean([x == d.label for x, d in zip(tree_lstm_shuffled_preds[i], test_data)]) for i in range(len(tree_lstm_shuffled_preds))])"
   ]
  },
  {
   "cell_type": "markdown",
   "metadata": {},
   "source": [
    "## Plot over dataset sizes"
   ]
  },
  {
   "cell_type": "code",
   "execution_count": 100,
   "metadata": {},
   "outputs": [],
   "source": [
    "def mean(l):\n",
    "    if len(l) == 0:\n",
    "        return 0\n",
    "    return sum(l) * 1.0 / len(l)"
   ]
  },
  {
   "cell_type": "code",
   "execution_count": 104,
   "metadata": {},
   "outputs": [
    {
     "name": "stdout",
     "output_type": "stream",
     "text": [
      "Loading model\n",
      "Loading model\n",
      "Loading model\n",
      "Loading model\n",
      "Loading model\n",
      "Loading model\n",
      "Loading model\n",
      "Loading model\n",
      "Loading model\n",
      "Loading model\n",
      "Loading model\n",
      "Loading model\n",
      "Loading model\n",
      "Loading model\n",
      "Loading model\n",
      "Loading model\n",
      "Loading model\n",
      "Loading model\n",
      "Loading model\n",
      "Loading model\n",
      "Loading model\n",
      "Loading model\n",
      "Loading model\n",
      "Loading model\n",
      "Loading model\n",
      "Loading model\n",
      "Loading model\n",
      "Loading model\n",
      "Loading model\n",
      "Loading model\n",
      "Loading model\n",
      "Loading model\n",
      "Loading model\n",
      "Loading model\n",
      "Loading model\n",
      "Loading model\n",
      "Loading model\n",
      "Loading model\n",
      "Loading model\n",
      "Loading model\n"
     ]
    }
   ],
   "source": [
    "pt_deep_cbow_acc_over_data = list()\n",
    "for prefixes in [\"\", \"small_dataset_2/\", \"small_dataset_4/\", \"small_dataset_8/\"]:\n",
    "    pt_deep_cbow_acc = list()\n",
    "    for i in range(10):\n",
    "        pt_deep_cbow_test_preds = get_test_predictions(PTDeepCBOW(len(v.w2i), 300, 100, 5, v), file_prefix=prefixes + \"PTDeepCBOW_\"+str(i).zfill(2))\n",
    "        pt_deep_cbow_acc.append(mean([int(pred == d.label) for pred, d in zip(pt_deep_cbow_test_preds, test_data)]))\n",
    "    pt_deep_cbow_acc_over_data.append(mean(pt_deep_cbow_acc))"
   ]
  },
  {
   "cell_type": "code",
   "execution_count": 106,
   "metadata": {},
   "outputs": [
    {
     "name": "stdout",
     "output_type": "stream",
     "text": [
      "Loading model\n",
      "Loading model\n",
      "Loading model\n",
      "Loading model\n",
      "Loading model\n",
      "Loading model\n",
      "Loading model\n",
      "Loading model\n",
      "Loading model\n",
      "Loading model\n",
      "Loading model\n",
      "Loading model\n",
      "Loading model\n",
      "Loading model\n",
      "Loading model\n",
      "Loading model\n",
      "Loading model\n",
      "Loading model\n",
      "Loading model\n",
      "Loading model\n",
      "Loading model\n",
      "Loading model\n",
      "Loading model\n",
      "Loading model\n",
      "Loading model\n",
      "Loading model\n",
      "Loading model\n",
      "Loading model\n",
      "Loading model\n",
      "Loading model\n",
      "Loading model\n",
      "Loading model\n",
      "Loading model\n",
      "Loading model\n",
      "Loading model\n",
      "Loading model\n",
      "Loading model\n",
      "Loading model\n",
      "Loading model\n",
      "Loading model\n"
     ]
    }
   ],
   "source": [
    "lstm_acc_over_data = list()\n",
    "for prefixes in [\"\", \"small_dataset_2/\", \"small_dataset_4/\", \"small_dataset_8/\"]:\n",
    "    lstm_acc = list()\n",
    "    for i in range(10):\n",
    "        lstm_test_preds = get_test_predictions(get_lstm_model(), file_prefix=prefixes + \"LSTM_\" + str(i).zfill(2))\n",
    "        lstm_acc.append(mean([int(pred == d.label) for pred, d in zip(lstm_test_preds, test_data)]))\n",
    "    lstm_acc_over_data.append(mean(lstm_acc))"
   ]
  },
  {
   "cell_type": "code",
   "execution_count": 110,
   "metadata": {},
   "outputs": [
    {
     "name": "stdout",
     "output_type": "stream",
     "text": [
      "Loading model\n",
      "Loading model\n",
      "Loading model\n",
      "Loading model\n",
      "Loading model\n",
      "Loading model\n",
      "Loading model\n",
      "Loading model\n",
      "Loading model\n",
      "Loading model\n",
      "Loading model\n",
      "Loading model\n",
      "Loading model\n",
      "Loading model\n",
      "Loading model\n",
      "Loading model\n",
      "Loading model\n",
      "Loading model\n",
      "Loading model\n",
      "Loading model\n",
      "Loading model\n",
      "Loading model\n",
      "Loading model\n",
      "Loading model\n",
      "Loading model\n",
      "Loading model\n",
      "Loading model\n",
      "Loading model\n",
      "Loading model\n",
      "Loading model\n",
      "Loading model\n",
      "Loading model\n",
      "Loading model\n",
      "Loading model\n",
      "Loading model\n",
      "Loading model\n",
      "Loading model\n",
      "Loading model\n",
      "Loading model\n",
      "Loading model\n"
     ]
    }
   ],
   "source": [
    "tree_lstm_acc_over_data = list()\n",
    "for prefixes in [\"\", \"small_dataset_2/\", \"small_dataset_4/\", \"small_dataset_8/\"]:\n",
    "    tree_lstm_acc = list()\n",
    "    for i in range(10):\n",
    "        tree_lstm_test_preds = get_test_predictions(get_tree_lstm(), file_prefix=prefixes+\"TreeLSTM_\" + str(i).zfill(2), batch_fn=get_minibatch, prep_fn=prepare_treelstm_minibatch, eval_fn=evaluate)\n",
    "        tree_lstm_acc.append(mean([int(pred == d.label) for pred, d in zip(tree_lstm_test_preds, test_data)]))\n",
    "    tree_lstm_acc_over_data.append(mean(tree_lstm_acc))"
   ]
  },
  {
   "cell_type": "code",
   "execution_count": 111,
   "metadata": {},
   "outputs": [
    {
     "name": "stdout",
     "output_type": "stream",
     "text": [
      "[0.44027149321266973, 0.4340723981900453, 0.41656108597285063, 0.396787330316742]\n",
      "[0.4670588235294118, 0.44552036199095024, 0.4267420814479638, 0.4007239819004525]\n",
      "[0.4758371040723982, 0.4526696832579186, 0.43072398190045247, 0.4139819004524886]\n"
     ]
    }
   ],
   "source": [
    "print(pt_deep_cbow_acc_over_data)\n",
    "print(lstm_acc_over_data)\n",
    "print(tree_lstm_acc_over_data)"
   ]
  },
  {
   "cell_type": "code",
   "execution_count": 200,
   "metadata": {},
   "outputs": [],
   "source": [
    "our_model_acc_over_data = [0.505, 0.488, 0.473, 0.451]"
   ]
  },
  {
   "cell_type": "code",
   "execution_count": 201,
   "metadata": {},
   "outputs": [
    {
     "name": "stdout",
     "output_type": "stream",
     "text": [
      "8544\n"
     ]
    },
    {
     "name": "stderr",
     "output_type": "stream",
     "text": [
      "/home/phillip/anaconda3/lib/python3.6/site-packages/matplotlib/font_manager.py:1328: UserWarning: findfont: Font family ['Times New Roman'] not found. Falling back to DejaVu Sans\n",
      "  (prop.get_family(), self.defaultFamily[fontext]))\n"
     ]
    },
    {
     "data": {
      "image/png": "[encoded data removed]",
      "text/plain": [
       "<Figure size 360x216 with 1 Axes>"
      ]
     },
     "metadata": {},
     "output_type": "display_data"
    }
   ],
   "source": [
    "def plot_acc_over_dataset_size(acc_over_datasets, model_names, colors=None, markers=None):\n",
    "    plt.figure(figsize=(5,3))\n",
    "    no_train_data = len(train_data)\n",
    "    print(no_train_data)\n",
    "    dataset_sizes = [int(no_train_data/i) for i in [8,4,2,1]]\n",
    "    for name, model_acc, model_index in zip(model_names, acc_over_datasets, list(range(len(model_names)))):\n",
    "        c = None\n",
    "        m = None\n",
    "        if colors is not None:\n",
    "            c = colors[model_index]\n",
    "        if markers is not None:\n",
    "            m = markers[model_index]\n",
    "        plt.plot(dataset_sizes, model_acc[::-1], label=name, color=c, linewidth=2.5, marker=m, markeredgecolor=(0.0,0.0,0.0), markevery=1, markersize=8)\n",
    "    plt.grid(linestyle='dashed', linewidth=1, color=(0.0,0.0,0.0),alpha=0.4)\n",
    "    plt.xlabel(\"dataset size\", fontweight='bold')\n",
    "    plt.ylabel(\"accuracy\", fontweight='bold')\n",
    "    plt.xlim(850,9000)\n",
    "    plt.ylim(0.38, 0.52)\n",
    "    plt.xticks(dataset_sizes)\n",
    "    plt.legend()\n",
    "    plt.tight_layout()\n",
    "    plt.savefig(\"figures/accuracy_over_dataset.pdf\")\n",
    "    plt.show()\n",
    "\n",
    "plot_acc_over_dataset_size([pt_deep_cbow_acc_over_data, lstm_acc_over_data, tree_lstm_acc_over_data, our_model_acc_over_data],[\"PT Deep CBOW\", \"LSTM\", \"TreeLSTM\", \"Our model\"], colors=[(0.8,0.0,0.0),(0.1,0.6,0.1),(0.2,0.2,1.0), (0.8,0.5,0.0)], markers=[\"8\",\"v\",\"^\",\"X\"])"
   ]
  },
  {
   "cell_type": "markdown",
   "metadata": {},
   "source": [
    "## Plot compare heuristics"
   ]
  },
  {
   "cell_type": "code",
   "execution_count": 171,
   "metadata": {},
   "outputs": [
    {
     "name": "stderr",
     "output_type": "stream",
     "text": [
      "/home/phillip/anaconda3/lib/python3.6/site-packages/matplotlib/font_manager.py:1328: UserWarning: findfont: Font family ['Times New Roman'] not found. Falling back to DejaVu Sans\n",
      "  (prop.get_family(), self.defaultFamily[fontext]))\n"
     ]
    },
    {
     "name": "stdout",
     "output_type": "stream",
     "text": [
      "\n"
     ]
    },
    {
     "data": {
      "image/png": "[encoded data removed]",
      "text/plain": [
       "<Figure size 1080x360 with 3 Axes>"
      ]
     },
     "metadata": {},
     "output_type": "display_data"
    }
   ],
   "source": [
    "# Class distribution over datasets\n",
    "dev_data_labels = [data.label for data in dev_data]\n",
    "train_data_labels = [data.label for data in train_data]\n",
    "test_data_labels = [data.label for data in test_data]\n",
    "\n",
    "c = [(0.6, 0.2, 0.2), (0.8, 0.5, 0.5), (0.6, 0.6, 0.6), (0.5, 0.8, 0.5), (0.2, 0.6, 0.2)]\n",
    "\n",
    "fig, ax = plt.subplots(1,3,figsize=(15,5))\n",
    "ax[0].bar(range(5), [sum([d==i for d in dev_data_labels]) for i in range(5)], color=c)\n",
    "ax[0].set_title(\"Evaluation dataset\", fontsize=14)\n",
    "ax[1].bar(range(5), [sum([d==i for d in train_data_labels]) for i in range(5)], color=c)\n",
    "ax[1].set_title(\"Training dataset\", fontsize=14)\n",
    "ax[2].bar(range(5), [sum([d==i for d in test_data_labels]) for i in range(5)], color=c)\n",
    "ax[2].set_title(\"Test dataset\", fontsize=14)\n",
    "ax[0].set_xticklabels((\"\", \"Very negative\", \"Negative\", \"Neutral\", \"Positive\", \"Very positive\"), rotation=45)\n",
    "ax[1].set_xticklabels((\"\", \"Very negative\", \"Negative\", \"Neutral\", \"Positive\", \"Very positive\"), rotation=45)\n",
    "ax[2].set_xticklabels((\"\", \"Very negative\", \"Negative\", \"Neutral\", \"Positive\", \"Very positive\"), rotation=45)\n",
    "plt.tight_layout()\n",
    "plt.savefig(\"figures/dataset_distributions.pdf\")\n",
    "print(\"\")"
   ]
  },
  {
   "cell_type": "code",
   "execution_count": 179,
   "metadata": {},
   "outputs": [],
   "source": [
    "def get_accuracy_by_class(preds):\n",
    "    class_accs = [list() for i in range(5)]\n",
    "    for p, d in zip(preds, test_data):\n",
    "        class_accs[d.label].append(int(d.label == p)) \n",
    "    class_accs = [mean(l) for l in class_accs]\n",
    "    return class_accs\n",
    "\n",
    "def avg_class_acc(preds):\n",
    "    class_accs = [list() for _ in range(5)]\n",
    "    for i, pred in enumerate(preds):\n",
    "        l = get_accuracy_by_class(pred)\n",
    "        for k in range(5):\n",
    "            class_accs[k].append(l[k])\n",
    "    return [mean(l)*100.0 for l in class_accs]\n",
    "\n",
    "class_acc_1distance = avg_class_acc(our_model_1distance_preds)\n",
    "class_acc_2nd_highest = avg_class_acc(our_model_2nd_highest_preds)\n",
    "class_acc_binary = avg_class_acc(our_model_binary_preds)"
   ]
  },
  {
   "cell_type": "code",
   "execution_count": 194,
   "metadata": {},
   "outputs": [
    {
     "name": "stderr",
     "output_type": "stream",
     "text": [
      "/home/phillip/anaconda3/lib/python3.6/site-packages/matplotlib/font_manager.py:1328: UserWarning: findfont: Font family ['Times New Roman'] not found. Falling back to DejaVu Sans\n",
      "  (prop.get_family(), self.defaultFamily[fontext]))\n"
     ]
    },
    {
     "data": {
      "image/png": "[encoded data removed]",
      "text/plain": [
       "<Figure size 936x360 with 3 Axes>"
      ]
     },
     "metadata": {},
     "output_type": "display_data"
    }
   ],
   "source": [
    "c = [(0.6, 0.2, 0.2), (0.8, 0.5, 0.5), (0.6, 0.6, 0.6), (0.5, 0.8, 0.5), (0.2, 0.6, 0.2)]\n",
    "\n",
    "fig, ax = plt.subplots(1,3,figsize=(13,5), sharey=True)\n",
    "for i in range(3):\n",
    "    ax[i].set_yticklabels(tuple([str(i*10) + \"%\" for i in range(10)]))\n",
    "    ax[i].set_xticklabels((\"\", \"Very negative\", \"Negative\", \"Neutral\", \"Positive\", \"Very positive\"), rotation=45)\n",
    "    ax[i].set_axisbelow(True)\n",
    "    ax[i].grid(axis='y', linestyle='dashed')\n",
    "ax[0].set_title(\"Binary heuristic\", fontsize=14)\n",
    "ax[1].set_title(\"1-distance heuristic\", fontsize=14)\n",
    "ax[2].set_title(\"2nd-highest heuristic\", fontsize=14)\n",
    "ax[0].bar(range(5), class_acc_binary, color=c)\n",
    "ax[1].bar(range(5), class_acc_1distance, color=c)\n",
    "ax[2].bar(range(5), class_acc_2nd_highest, color=c)\n",
    "plt.tight_layout()\n",
    "plt.savefig(\"figures/heuristics_performance_comparison.pdf\")"
   ]
  },
  {
   "cell_type": "markdown",
   "metadata": {},
   "source": [
    "## Plot overfitting comparison"
   ]
  },
  {
   "cell_type": "code",
   "execution_count": 227,
   "metadata": {},
   "outputs": [],
   "source": [
    "with open(\"eval_1_distance_list.txt\", \"r\") as f:\n",
    "    our_model_1_distance_single_run_accuracies = [float(x) for x in f.readlines()[0].split(\" \")]\n",
    "    \n",
    "with open(\"eval_2nd_highest_list.txt\", \"r\") as f:\n",
    "    our_model_2nd_highest_single_run_accuracies = [float(x) for x in f.readlines()[0].split(\" \")]\n",
    "    \n",
    "with open(\"eval_binary_list.txt\", \"r\") as f:\n",
    "    our_model_binary_single_run_accuracies = [float(x) for x in f.readlines()[0].split(\" \")]"
   ]
  },
  {
   "cell_type": "code",
   "execution_count": 228,
   "metadata": {},
   "outputs": [
    {
     "name": "stderr",
     "output_type": "stream",
     "text": [
      "/home/phillip/anaconda3/lib/python3.6/site-packages/matplotlib/font_manager.py:1328: UserWarning: findfont: Font family ['Times New Roman'] not found. Falling back to DejaVu Sans\n",
      "  (prop.get_family(), self.defaultFamily[fontext]))\n"
     ]
    },
    {
     "data": {
      "image/png": "[encoded data removed]",
      "text/plain": [
       "<Figure size 360x216 with 1 Axes>"
      ]
     },
     "metadata": {},
     "output_type": "display_data"
    }
   ],
   "source": [
    "def plot_acc_over_iterations(acc_over_iterations, model_names, colors=None, markers=None, window_size=5):\n",
    "    plt.figure(figsize=(5,3))\n",
    "    no_iters = len(acc_over_iterations[0])\n",
    "    x = [(i+1)*200 for i in range(no_iters)]\n",
    "    for name, model_acc, model_index in zip(model_names, acc_over_iterations, list(range(len(model_names)))):\n",
    "        c = None\n",
    "        m = None\n",
    "        if colors is not None:\n",
    "            c = colors[model_index]\n",
    "        if markers is not None:\n",
    "            m = markers[model_index]\n",
    "        smoothed_val_acc = [mean(model_acc[max(0,i-window_size):min(len(model_acc),i+window_size)]) for i in range(len(model_acc))]\n",
    "        plt.plot(x, smoothed_val_acc, label=name, color=c, linewidth=2.5, marker=m, markeredgecolor=(0.0,0.0,0.0), markevery=10, markersize=8)\n",
    "    plt.grid(linestyle='dashed', linewidth=1, color=(0.0,0.0,0.0),alpha=0.4)\n",
    "    plt.xlabel(\"iterations\", fontweight='bold')\n",
    "    plt.ylabel(\"accuracy\", fontweight='bold')\n",
    "    plt.xlim(0,max(x))\n",
    "    plt.ylim(0.38, 0.55)\n",
    "    plt.legend(ncol=2)\n",
    "    plt.tight_layout()\n",
    "    plt.savefig(\"figures/accuracy_over_iterations.pdf\")\n",
    "    plt.show()\n",
    "    \n",
    "plot_acc_over_iterations([tree_lstm_single_run_accuracies, our_model_1_distance_single_run_accuracies, our_model_2nd_highest_single_run_accuracies, our_model_binary_single_run_accuracies], [\"TreeLSTM\", \"1-distance\", \"2nd-highest\", \"binary\"], [(0.2,0.2,1.0), (0.8,0.5,0.0), (0.2,0.6,0.6), (0.5,0.5,0.5)], [\"^\",\"X\",\"P\",\"*\"])  "
   ]
  },
  {
   "cell_type": "markdown",
   "metadata": {},
   "source": [
    "## Plot tree ratio"
   ]
  },
  {
   "cell_type": "code",
   "execution_count": 229,
   "metadata": {},
   "outputs": [],
   "source": [
    "with open(\"tree_ration_binary.txt\",\"r\") as f:\n",
    "    our_model_binary_tree_ratio = [float(x) for x in f.readlines()[0].split(\" \")]"
   ]
  },
  {
   "cell_type": "code",
   "execution_count": 237,
   "metadata": {},
   "outputs": [
    {
     "name": "stderr",
     "output_type": "stream",
     "text": [
      "/home/phillip/anaconda3/lib/python3.6/site-packages/matplotlib/font_manager.py:1328: UserWarning: findfont: Font family ['Times New Roman'] not found. Falling back to DejaVu Sans\n",
      "  (prop.get_family(), self.defaultFamily[fontext]))\n"
     ]
    },
    {
     "data": {
      "image/png": "[encoded data removed]",
      "text/plain": [
       "<Figure size 360x216 with 1 Axes>"
      ]
     },
     "metadata": {},
     "output_type": "display_data"
    }
   ],
   "source": [
    "def plot_tree_ratio(tree_ratios, model_names, colors=None, markers=None, window_size=2):\n",
    "    plt.figure(figsize=(5,3))\n",
    "    x = range(2,len(tree_ratios[0]))\n",
    "    for name, model_ratio, model_index in zip(model_names, tree_ratios, list(range(len(model_names)))):\n",
    "        c = None\n",
    "        m = None\n",
    "        if colors is not None:\n",
    "            c = colors[model_index]\n",
    "        if markers is not None:\n",
    "            m = markers[model_index]\n",
    "        smoothed_ratio = [mean(model_ratio[2:][max(0,i-window_size):min(len(model_ratio)-2,i+window_size)]) for i in range(len(model_ratio)-2)]\n",
    "        plt.plot(x, smoothed_ratio, label=name, color=c, linewidth=2.5, marker=m, markeredgecolor=(0.0,0.0,0.0), markevery=2, markersize=8)\n",
    "    plt.grid(linestyle='dashed', linewidth=1, color=(0.0,0.0,0.0),alpha=0.4)\n",
    "    plt.xlabel(\"iterations\", fontweight='bold')\n",
    "    plt.ylabel(\"tree ratio\", fontweight='bold')\n",
    "    plt.xlim(0,max(x))\n",
    "    plt.ylim(0.0, 1.0)\n",
    "    plt.legend(ncol=2)\n",
    "    plt.tight_layout()\n",
    "    plt.savefig(\"figures/tree_ratio.pdf\")\n",
    "    plt.show()\n",
    "    \n",
    "plot_tree_ratio([our_model_binary_tree_ratio], [\"Binary\"], colors=[(0.5,0.5,0.5)], markers=[\"*\"])"
   ]
  },
  {
   "cell_type": "code",
   "execution_count": null,
   "metadata": {},
   "outputs": [],
   "source": []
  }
 ],
 "metadata": {
  "accelerator": "GPU",
  "colab": {
   "collapsed_sections": [],
   "name": "NLP1 Practical II (student version)",
   "provenance": [],
   "toc_visible": true,
   "version": "0.3.2"
  },
  "kernelspec": {
   "display_name": "Python 3",
   "language": "python",
   "name": "python3"
  },
  "language_info": {
   "codemirror_mode": {
    "name": "ipython",
    "version": 3
   },
   "file_extension": ".py",
   "mimetype": "text/x-python",
   "name": "python",
   "nbconvert_exporter": "python",
   "pygments_lexer": "ipython3",
   "version": "3.6.5"
  }
 },
 "nbformat": 4,
 "nbformat_minor": 1
}
